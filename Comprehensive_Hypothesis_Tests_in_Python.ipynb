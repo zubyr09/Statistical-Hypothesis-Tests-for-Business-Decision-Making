{
  "cells": [
    {
      "cell_type": "markdown",
      "source": [
        "# Comprehensive Hypothesis Tests in Python for Business Decision Making\n",
        "\n",
        "*This notebook demonstrates various statistical hypothesis tests using Python,\n",
        "including assumption checks and interpretations in business contexts.*"
      ],
      "metadata": {
        "id": "pIa-HR_js4Su"
      }
    },
    {
      "cell_type": "markdown",
      "source": [
        "## **0. Importing Libraries**"
      ],
      "metadata": {
        "id": "PDpwkSPqtLY_"
      }
    },
    {
      "cell_type": "code",
      "source": [
        "import pandas as pd\n",
        "import numpy as np\n",
        "import scipy.stats as stats\n",
        "import statsmodels.api as sm # For ANOVA (optional, provides more detailed output)\n",
        "import matplotlib.pyplot as plt\n",
        "import seaborn as sns"
      ],
      "metadata": {
        "id": "sgNB5RyMs3sj"
      },
      "execution_count": 2,
      "outputs": []
    },
    {
      "cell_type": "code",
      "source": [
        "# Set plot style and significance level\n",
        "sns.set(style=\"whitegrid\")\n",
        "alpha = 0.05\n",
        "print(f\"Significance Level (alpha) set to: {alpha}\")"
      ],
      "metadata": {
        "colab": {
          "base_uri": "https://localhost:8080/"
        },
        "id": "v-VqcAE_tZEF",
        "outputId": "3c0b0cb8-8475-429d-9044-d34e043fe3b7"
      },
      "execution_count": 3,
      "outputs": [
        {
          "output_type": "stream",
          "name": "stdout",
          "text": [
            "Significance Level (alpha) set to: 0.05\n"
          ]
        }
      ]
    },
    {
      "cell_type": "markdown",
      "source": [
        "## **1. Comparing a Sample Mean to a Known Value (One-Sample t-test)**"
      ],
      "metadata": {
        "id": "B7cJEXKQtdUQ"
      }
    },
    {
      "cell_type": "markdown",
      "source": [
        "### **1.1. Scenario**\n",
        "\n",
        "A fast-food chain claims that the average delivery time for their orders is 30 minutes or less.\n",
        "Data were collected from a sample of 50 recent deliveries to test this claim.\n",
        "\n",
        "**Goal:** Determine if the sample data provides enough evidence to refute the chain's claim.\n",
        "\n",
        "**Metric:** Delivery Time (in minutes)."
      ],
      "metadata": {
        "id": "lmOMlzSMthh8"
      }
    },
    {
      "cell_type": "markdown",
      "source": [
        "### **1.2. Hypothesis**\n",
        "\n",
        "**Null Hypothesis (H₀):** The true average delivery time is 30 minutes (μ = 30).\n",
        "\n",
        "**Alternative Hypothesis (H₁):** The true average delivery time is greater than 30 minutes (μ > 30).\n",
        "\n",
        "*Note: This is a one-tailed test because we are specifically interested if the time is **greater** than claimed.*"
      ],
      "metadata": {
        "id": "4MDymPd6tyK7"
      }
    },
    {
      "cell_type": "markdown",
      "source": [
        "### **1.3. Data Generation (Synthetic)**"
      ],
      "metadata": {
        "id": "1VZV4jdSuIQ_"
      }
    },
    {
      "cell_type": "code",
      "source": [
        "np.random.seed(101)\n",
        "claimed_mean = 30\n",
        "sample_size_delivery = 50"
      ],
      "metadata": {
        "id": "a-OQCVaMuQ9S"
      },
      "execution_count": 3,
      "outputs": []
    },
    {
      "cell_type": "code",
      "source": [
        "# Let's simulate data where the actual mean might be slightly higher, e.g., 32 minutes\n",
        "actual_mean_simulated = 32\n",
        "std_dev_delivery = 8\n",
        "delivery_times = np.random.normal(loc=actual_mean_simulated, scale=std_dev_delivery, size=sample_size_delivery)"
      ],
      "metadata": {
        "id": "d2Ro2t-5uWAS"
      },
      "execution_count": 4,
      "outputs": []
    },
    {
      "cell_type": "code",
      "source": [
        "# Ensure no negative times\n",
        "delivery_times[delivery_times < 5] = 5 # Assuming minimum delivery time is 5 mins\n",
        "delivery_df = pd.DataFrame({'DeliveryTime': delivery_times})\n",
        "\n",
        "print(\"\\n--- One-Sample t-test: Delivery Times ---\")\n",
        "print(delivery_df.head())\n",
        "print(f\"\\nSample Mean: {delivery_df['DeliveryTime'].mean():.2f}\")\n",
        "print(f\"Sample Std Dev: {delivery_df['DeliveryTime'].std():.2f}\")"
      ],
      "metadata": {
        "colab": {
          "base_uri": "https://localhost:8080/"
        },
        "id": "eqGMxTmRucU4",
        "outputId": "13b3f1e8-fb45-4bcf-d01d-30d71fcec3f3"
      },
      "execution_count": 5,
      "outputs": [
        {
          "output_type": "stream",
          "name": "stdout",
          "text": [
            "\n",
            "--- One-Sample t-test: Delivery Times ---\n",
            "   DeliveryTime\n",
            "0     53.654799\n",
            "1     37.025062\n",
            "2     39.263756\n",
            "3     36.030606\n",
            "4     37.208944\n",
            "\n",
            "Sample Mean: 34.14\n",
            "Sample Std Dev: 8.30\n"
          ]
        }
      ]
    },
    {
      "cell_type": "code",
      "source": [
        "delivery_df.describe()"
      ],
      "metadata": {
        "colab": {
          "base_uri": "https://localhost:8080/",
          "height": 300
        },
        "id": "CyCZX6CPuhPS",
        "outputId": "f0fa1a9c-9715-41ec-9059-ac457dfa48c1"
      },
      "execution_count": 6,
      "outputs": [
        {
          "output_type": "execute_result",
          "data": {
            "text/plain": [
              "       DeliveryTime\n",
              "count     50.000000\n",
              "mean      34.144910\n",
              "std        8.299648\n",
              "min       15.854654\n",
              "25%       28.378740\n",
              "50%       33.739706\n",
              "75%       37.403289\n",
              "max       53.654799"
            ],
            "text/html": [
              "\n",
              "  <div id=\"df-a0e00cb4-db73-4499-bfac-0e714991d564\" class=\"colab-df-container\">\n",
              "    <div>\n",
              "<style scoped>\n",
              "    .dataframe tbody tr th:only-of-type {\n",
              "        vertical-align: middle;\n",
              "    }\n",
              "\n",
              "    .dataframe tbody tr th {\n",
              "        vertical-align: top;\n",
              "    }\n",
              "\n",
              "    .dataframe thead th {\n",
              "        text-align: right;\n",
              "    }\n",
              "</style>\n",
              "<table border=\"1\" class=\"dataframe\">\n",
              "  <thead>\n",
              "    <tr style=\"text-align: right;\">\n",
              "      <th></th>\n",
              "      <th>DeliveryTime</th>\n",
              "    </tr>\n",
              "  </thead>\n",
              "  <tbody>\n",
              "    <tr>\n",
              "      <th>count</th>\n",
              "      <td>50.000000</td>\n",
              "    </tr>\n",
              "    <tr>\n",
              "      <th>mean</th>\n",
              "      <td>34.144910</td>\n",
              "    </tr>\n",
              "    <tr>\n",
              "      <th>std</th>\n",
              "      <td>8.299648</td>\n",
              "    </tr>\n",
              "    <tr>\n",
              "      <th>min</th>\n",
              "      <td>15.854654</td>\n",
              "    </tr>\n",
              "    <tr>\n",
              "      <th>25%</th>\n",
              "      <td>28.378740</td>\n",
              "    </tr>\n",
              "    <tr>\n",
              "      <th>50%</th>\n",
              "      <td>33.739706</td>\n",
              "    </tr>\n",
              "    <tr>\n",
              "      <th>75%</th>\n",
              "      <td>37.403289</td>\n",
              "    </tr>\n",
              "    <tr>\n",
              "      <th>max</th>\n",
              "      <td>53.654799</td>\n",
              "    </tr>\n",
              "  </tbody>\n",
              "</table>\n",
              "</div>\n",
              "    <div class=\"colab-df-buttons\">\n",
              "\n",
              "  <div class=\"colab-df-container\">\n",
              "    <button class=\"colab-df-convert\" onclick=\"convertToInteractive('df-a0e00cb4-db73-4499-bfac-0e714991d564')\"\n",
              "            title=\"Convert this dataframe to an interactive table.\"\n",
              "            style=\"display:none;\">\n",
              "\n",
              "  <svg xmlns=\"http://www.w3.org/2000/svg\" height=\"24px\" viewBox=\"0 -960 960 960\">\n",
              "    <path d=\"M120-120v-720h720v720H120Zm60-500h600v-160H180v160Zm220 220h160v-160H400v160Zm0 220h160v-160H400v160ZM180-400h160v-160H180v160Zm440 0h160v-160H620v160ZM180-180h160v-160H180v160Zm440 0h160v-160H620v160Z\"/>\n",
              "  </svg>\n",
              "    </button>\n",
              "\n",
              "  <style>\n",
              "    .colab-df-container {\n",
              "      display:flex;\n",
              "      gap: 12px;\n",
              "    }\n",
              "\n",
              "    .colab-df-convert {\n",
              "      background-color: #E8F0FE;\n",
              "      border: none;\n",
              "      border-radius: 50%;\n",
              "      cursor: pointer;\n",
              "      display: none;\n",
              "      fill: #1967D2;\n",
              "      height: 32px;\n",
              "      padding: 0 0 0 0;\n",
              "      width: 32px;\n",
              "    }\n",
              "\n",
              "    .colab-df-convert:hover {\n",
              "      background-color: #E2EBFA;\n",
              "      box-shadow: 0px 1px 2px rgba(60, 64, 67, 0.3), 0px 1px 3px 1px rgba(60, 64, 67, 0.15);\n",
              "      fill: #174EA6;\n",
              "    }\n",
              "\n",
              "    .colab-df-buttons div {\n",
              "      margin-bottom: 4px;\n",
              "    }\n",
              "\n",
              "    [theme=dark] .colab-df-convert {\n",
              "      background-color: #3B4455;\n",
              "      fill: #D2E3FC;\n",
              "    }\n",
              "\n",
              "    [theme=dark] .colab-df-convert:hover {\n",
              "      background-color: #434B5C;\n",
              "      box-shadow: 0px 1px 3px 1px rgba(0, 0, 0, 0.15);\n",
              "      filter: drop-shadow(0px 1px 2px rgba(0, 0, 0, 0.3));\n",
              "      fill: #FFFFFF;\n",
              "    }\n",
              "  </style>\n",
              "\n",
              "    <script>\n",
              "      const buttonEl =\n",
              "        document.querySelector('#df-a0e00cb4-db73-4499-bfac-0e714991d564 button.colab-df-convert');\n",
              "      buttonEl.style.display =\n",
              "        google.colab.kernel.accessAllowed ? 'block' : 'none';\n",
              "\n",
              "      async function convertToInteractive(key) {\n",
              "        const element = document.querySelector('#df-a0e00cb4-db73-4499-bfac-0e714991d564');\n",
              "        const dataTable =\n",
              "          await google.colab.kernel.invokeFunction('convertToInteractive',\n",
              "                                                    [key], {});\n",
              "        if (!dataTable) return;\n",
              "\n",
              "        const docLinkHtml = 'Like what you see? Visit the ' +\n",
              "          '<a target=\"_blank\" href=https://colab.research.google.com/notebooks/data_table.ipynb>data table notebook</a>'\n",
              "          + ' to learn more about interactive tables.';\n",
              "        element.innerHTML = '';\n",
              "        dataTable['output_type'] = 'display_data';\n",
              "        await google.colab.output.renderOutput(dataTable, element);\n",
              "        const docLink = document.createElement('div');\n",
              "        docLink.innerHTML = docLinkHtml;\n",
              "        element.appendChild(docLink);\n",
              "      }\n",
              "    </script>\n",
              "  </div>\n",
              "\n",
              "\n",
              "    <div id=\"df-ed68a2b2-ab2c-46fe-9ab6-a23fe831c855\">\n",
              "      <button class=\"colab-df-quickchart\" onclick=\"quickchart('df-ed68a2b2-ab2c-46fe-9ab6-a23fe831c855')\"\n",
              "                title=\"Suggest charts\"\n",
              "                style=\"display:none;\">\n",
              "\n",
              "<svg xmlns=\"http://www.w3.org/2000/svg\" height=\"24px\"viewBox=\"0 0 24 24\"\n",
              "     width=\"24px\">\n",
              "    <g>\n",
              "        <path d=\"M19 3H5c-1.1 0-2 .9-2 2v14c0 1.1.9 2 2 2h14c1.1 0 2-.9 2-2V5c0-1.1-.9-2-2-2zM9 17H7v-7h2v7zm4 0h-2V7h2v10zm4 0h-2v-4h2v4z\"/>\n",
              "    </g>\n",
              "</svg>\n",
              "      </button>\n",
              "\n",
              "<style>\n",
              "  .colab-df-quickchart {\n",
              "      --bg-color: #E8F0FE;\n",
              "      --fill-color: #1967D2;\n",
              "      --hover-bg-color: #E2EBFA;\n",
              "      --hover-fill-color: #174EA6;\n",
              "      --disabled-fill-color: #AAA;\n",
              "      --disabled-bg-color: #DDD;\n",
              "  }\n",
              "\n",
              "  [theme=dark] .colab-df-quickchart {\n",
              "      --bg-color: #3B4455;\n",
              "      --fill-color: #D2E3FC;\n",
              "      --hover-bg-color: #434B5C;\n",
              "      --hover-fill-color: #FFFFFF;\n",
              "      --disabled-bg-color: #3B4455;\n",
              "      --disabled-fill-color: #666;\n",
              "  }\n",
              "\n",
              "  .colab-df-quickchart {\n",
              "    background-color: var(--bg-color);\n",
              "    border: none;\n",
              "    border-radius: 50%;\n",
              "    cursor: pointer;\n",
              "    display: none;\n",
              "    fill: var(--fill-color);\n",
              "    height: 32px;\n",
              "    padding: 0;\n",
              "    width: 32px;\n",
              "  }\n",
              "\n",
              "  .colab-df-quickchart:hover {\n",
              "    background-color: var(--hover-bg-color);\n",
              "    box-shadow: 0 1px 2px rgba(60, 64, 67, 0.3), 0 1px 3px 1px rgba(60, 64, 67, 0.15);\n",
              "    fill: var(--button-hover-fill-color);\n",
              "  }\n",
              "\n",
              "  .colab-df-quickchart-complete:disabled,\n",
              "  .colab-df-quickchart-complete:disabled:hover {\n",
              "    background-color: var(--disabled-bg-color);\n",
              "    fill: var(--disabled-fill-color);\n",
              "    box-shadow: none;\n",
              "  }\n",
              "\n",
              "  .colab-df-spinner {\n",
              "    border: 2px solid var(--fill-color);\n",
              "    border-color: transparent;\n",
              "    border-bottom-color: var(--fill-color);\n",
              "    animation:\n",
              "      spin 1s steps(1) infinite;\n",
              "  }\n",
              "\n",
              "  @keyframes spin {\n",
              "    0% {\n",
              "      border-color: transparent;\n",
              "      border-bottom-color: var(--fill-color);\n",
              "      border-left-color: var(--fill-color);\n",
              "    }\n",
              "    20% {\n",
              "      border-color: transparent;\n",
              "      border-left-color: var(--fill-color);\n",
              "      border-top-color: var(--fill-color);\n",
              "    }\n",
              "    30% {\n",
              "      border-color: transparent;\n",
              "      border-left-color: var(--fill-color);\n",
              "      border-top-color: var(--fill-color);\n",
              "      border-right-color: var(--fill-color);\n",
              "    }\n",
              "    40% {\n",
              "      border-color: transparent;\n",
              "      border-right-color: var(--fill-color);\n",
              "      border-top-color: var(--fill-color);\n",
              "    }\n",
              "    60% {\n",
              "      border-color: transparent;\n",
              "      border-right-color: var(--fill-color);\n",
              "    }\n",
              "    80% {\n",
              "      border-color: transparent;\n",
              "      border-right-color: var(--fill-color);\n",
              "      border-bottom-color: var(--fill-color);\n",
              "    }\n",
              "    90% {\n",
              "      border-color: transparent;\n",
              "      border-bottom-color: var(--fill-color);\n",
              "    }\n",
              "  }\n",
              "</style>\n",
              "\n",
              "      <script>\n",
              "        async function quickchart(key) {\n",
              "          const quickchartButtonEl =\n",
              "            document.querySelector('#' + key + ' button');\n",
              "          quickchartButtonEl.disabled = true;  // To prevent multiple clicks.\n",
              "          quickchartButtonEl.classList.add('colab-df-spinner');\n",
              "          try {\n",
              "            const charts = await google.colab.kernel.invokeFunction(\n",
              "                'suggestCharts', [key], {});\n",
              "          } catch (error) {\n",
              "            console.error('Error during call to suggestCharts:', error);\n",
              "          }\n",
              "          quickchartButtonEl.classList.remove('colab-df-spinner');\n",
              "          quickchartButtonEl.classList.add('colab-df-quickchart-complete');\n",
              "        }\n",
              "        (() => {\n",
              "          let quickchartButtonEl =\n",
              "            document.querySelector('#df-ed68a2b2-ab2c-46fe-9ab6-a23fe831c855 button');\n",
              "          quickchartButtonEl.style.display =\n",
              "            google.colab.kernel.accessAllowed ? 'block' : 'none';\n",
              "        })();\n",
              "      </script>\n",
              "    </div>\n",
              "\n",
              "    </div>\n",
              "  </div>\n"
            ],
            "application/vnd.google.colaboratory.intrinsic+json": {
              "type": "dataframe",
              "summary": "{\n  \"name\": \"delivery_df\",\n  \"rows\": 8,\n  \"fields\": [\n    {\n      \"column\": \"DeliveryTime\",\n      \"properties\": {\n        \"dtype\": \"number\",\n        \"std\": 15.406387868959445,\n        \"min\": 8.299647599443764,\n        \"max\": 53.654798715199504,\n        \"num_unique_values\": 8,\n        \"samples\": [\n          34.144910296865376,\n          33.739705855041436,\n          50.0\n        ],\n        \"semantic_type\": \"\",\n        \"description\": \"\"\n      }\n    }\n  ]\n}"
            }
          },
          "metadata": {},
          "execution_count": 6
        }
      ]
    },
    {
      "cell_type": "markdown",
      "source": [
        " ### **1.4. Assumption Check: Normality**\n",
        "\n",
        " The One-Sample t-test assumes the data is approximately normally distributed."
      ],
      "metadata": {
        "id": "vueQSXorutm4"
      }
    },
    {
      "cell_type": "code",
      "source": [
        "print(\"\\nChecking Normality (Shapiro-Wilk Test):\")\n",
        "shapiro_stat, shapiro_p = stats.shapiro(delivery_df['DeliveryTime'])\n",
        "print(f\"Shapiro-Wilk Test: Statistics={shapiro_stat:.4f}, p-value={shapiro_p:.4f}\")\n",
        "if shapiro_p > alpha:\n",
        "    print(\"Interpretation: Data appears normally distributed (fail to reject H₀). Assumption met.\")\n",
        "    normality_met_1samp = True\n",
        "else:\n",
        "    print(\"Interpretation: Data does not appear normally distributed (reject H₀). Assumption not met.\")\n",
        "    print(\"Consider Wilcoxon Signed-Rank test if assumption severely violated, but t-test is robust for moderate sample sizes.\")\n",
        "    normality_met_1samp = False"
      ],
      "metadata": {
        "colab": {
          "base_uri": "https://localhost:8080/"
        },
        "id": "N-_G09lIu2e_",
        "outputId": "7e314aaf-ed82-4cd3-a395-9e8a4a429564"
      },
      "execution_count": 7,
      "outputs": [
        {
          "output_type": "stream",
          "name": "stdout",
          "text": [
            "\n",
            "Checking Normality (Shapiro-Wilk Test):\n",
            "Shapiro-Wilk Test: Statistics=0.9713, p-value=0.2615\n",
            "Interpretation: Data appears normally distributed (fail to reject H₀). Assumption met.\n"
          ]
        }
      ]
    },
    {
      "cell_type": "code",
      "source": [
        "# Visual Check\n",
        "plt.figure(figsize=(6, 4))\n",
        "sns.histplot(delivery_df['DeliveryTime'], kde=True)\n",
        "plt.title('Distribution of Delivery Times')\n",
        "plt.show()"
      ],
      "metadata": {
        "colab": {
          "base_uri": "https://localhost:8080/",
          "height": 419
        },
        "id": "5m5WPufVu8B7",
        "outputId": "eb64626f-eb5a-4eca-dfaf-06f570e3d6bd"
      },
      "execution_count": 8,
      "outputs": [
        {
          "output_type": "display_data",
          "data": {
            "text/plain": [
              "<Figure size 600x400 with 1 Axes>"
            ],
            "image/png": "[encoded data removed]"
          },
          "metadata": {}
        }
      ]
    },
    {
      "cell_type": "markdown",
      "source": [
        "### **1.5. Performing One-Sample t-test**\n",
        "\n",
        "We use `scipy.stats.ttest_1samp`. Since H₁ is μ > 30, we use `alternative='greater'`."
      ],
      "metadata": {
        "id": "XyYN5ZqJu_dD"
      }
    },
    {
      "cell_type": "code",
      "source": [
        "t_stat_1samp, p_value_1samp = stats.ttest_1samp(\n",
        "    a=delivery_df['DeliveryTime'],\n",
        "    popmean=claimed_mean,\n",
        "    alternative='greater' # Because H₁ is μ > 30\n",
        ")\n",
        "\n",
        "print(\"\\n--- One-Sample t-test Results ---\")\n",
        "print(f\"T-statistic: {t_stat_1samp:.4f}\")\n",
        "print(f\"P-value (one-tailed): {p_value_1samp:.4f}\")"
      ],
      "metadata": {
        "colab": {
          "base_uri": "https://localhost:8080/"
        },
        "id": "HMPtm6c0vK24",
        "outputId": "5e249342-167c-4b29-a643-58f62be7fef9"
      },
      "execution_count": 9,
      "outputs": [
        {
          "output_type": "stream",
          "name": "stdout",
          "text": [
            "\n",
            "--- One-Sample t-test Results ---\n",
            "T-statistic: 3.5313\n",
            "P-value (one-tailed): 0.0005\n"
          ]
        }
      ]
    },
    {
      "cell_type": "markdown",
      "source": [
        "### **1.6. Interpretation**"
      ],
      "metadata": {
        "id": "tgLB-Av3vOqn"
      }
    },
    {
      "cell_type": "code",
      "source": [
        "print(\"\\n--- Interpretation (One-Sample t-test) ---\")\n",
        "if p_value_1samp < alpha:\n",
        "    print(f\"Conclusion: Reject the Null Hypothesis (H₀).\")\n",
        "    print(f\"There is statistically significant evidence (at α={alpha}) to suggest that the average delivery time is greater than 30 minutes.\")\n",
        "    print(f\"The sample mean ({delivery_df['DeliveryTime'].mean():.2f} mins) is significantly higher than the claimed 30 minutes.\")\n",
        "else:\n",
        "    print(f\"Conclusion: Fail to Reject the Null Hypothesis (H₀).\")\n",
        "    print(f\"There is not enough statistically significant evidence (at α={alpha}) to conclude that the average delivery time is greater than 30 minutes.\")\n"
      ],
      "metadata": {
        "colab": {
          "base_uri": "https://localhost:8080/"
        },
        "id": "0jilmIMcvRcS",
        "outputId": "bf2fa652-539a-4a74-f09d-46935d602fb5"
      },
      "execution_count": 10,
      "outputs": [
        {
          "output_type": "stream",
          "name": "stdout",
          "text": [
            "\n",
            "--- Interpretation (One-Sample t-test) ---\n",
            "Conclusion: Reject the Null Hypothesis (H₀).\n",
            "There is statistically significant evidence (at α=0.05) to suggest that the average delivery time is greater than 30 minutes.\n",
            "The sample mean (34.14 mins) is significantly higher than the claimed 30 minutes.\n"
          ]
        }
      ]
    },
    {
      "cell_type": "markdown",
      "source": [
        "## **2. Comparing Means of Two Independent Groups (Independent Samples t-test / Mann-Whitney U)**"
      ],
      "metadata": {
        "id": "ruxgUxxVvZAs"
      }
    },
    {
      "cell_type": "markdown",
      "source": [
        "## **2.1. Scenario**\n",
        "\n",
        "A retail company wants to compare the average spending per visit of customers who use their loyalty card versus those who don't.\n",
        "\n",
        "**Goal:** Determine if there's a significant difference in average spending between loyalty card users and non-users.\n",
        "\n",
        "**Metric:** Spending per Visit ($).\n"
      ],
      "metadata": {
        "id": "p7GzVabMve_4"
      }
    },
    {
      "cell_type": "markdown",
      "source": [
        "### **2.2. Hypotheses**\n",
        "\n",
        "**Null Hypothesis (H₀):** The mean spending per visit is the same for loyalty card users and non-users (μ_loyalty = μ_non_loyalty).\n",
        "\n",
        "**Alternative Hypothesis (H₁):** The mean spending per visit is different between the two groups (μ_loyalty ≠ μ_non_loyalty).\n",
        "\n",
        "*Note: This is a two-tailed test.*"
      ],
      "metadata": {
        "id": "xiMvNKjJvkpW"
      }
    },
    {
      "cell_type": "markdown",
      "source": [
        "### **2.3. Data Generation (Synthetic)**"
      ],
      "metadata": {
        "id": "cmaClVIRv5Kw"
      }
    },
    {
      "cell_type": "code",
      "source": [
        "np.random.seed(102)\n",
        "# Group: Loyalty Card Users\n",
        "n_loyalty = 100\n",
        "mean_loyalty = 85.50\n",
        "std_dev_loyalty = 25.0\n",
        "spending_loyalty = np.random.normal(loc=mean_loyalty, scale=std_dev_loyalty, size=n_loyalty)\n",
        "spending_loyalty[spending_loyalty < 5] = 5 # Min spending $5\n",
        "\n",
        "# Group: Non-Loyalty Card Users\n",
        "n_non_loyalty = 120\n",
        "mean_non_loyalty = 78.00\n",
        "std_dev_non_loyalty = 30.0 # Slightly higher variability\n",
        "spending_non_loyalty = np.random.normal(loc=mean_non_loyalty, scale=std_dev_non_loyalty, size=n_non_loyalty)\n",
        "spending_non_loyalty[spending_non_loyalty < 5] = 5\n",
        "\n",
        "# Combine into DataFrame\n",
        "df_loyalty = pd.DataFrame({'Group': 'Loyalty', 'Spending': spending_loyalty})\n",
        "df_non_loyalty = pd.DataFrame({'Group': 'NonLoyalty', 'Spending': spending_non_loyalty})\n",
        "spending_df = pd.concat([df_loyalty, df_non_loyalty], ignore_index=True)\n"
      ],
      "metadata": {
        "id": "hXxfrxuMwA29"
      },
      "execution_count": 14,
      "outputs": []
    },
    {
      "cell_type": "code",
      "source": [
        "print(\"\\n--- Independent Samples: Customer Spending ---\")\n",
        "spending_df.head()"
      ],
      "metadata": {
        "colab": {
          "base_uri": "https://localhost:8080/",
          "height": 241
        },
        "id": "WftKb5F1wXwX",
        "outputId": "645804fb-75ba-4886-c058-28e1df6893b5"
      },
      "execution_count": 15,
      "outputs": [
        {
          "output_type": "stream",
          "name": "stdout",
          "text": [
            "\n",
            "--- Independent Samples: Customer Spending ---\n"
          ]
        },
        {
          "output_type": "execute_result",
          "data": {
            "text/plain": [
              "     Group    Spending\n",
              "0  Loyalty  127.201707\n",
              "1  Loyalty  108.646545\n",
              "2  Loyalty  111.949919\n",
              "3  Loyalty   62.491525\n",
              "4  Loyalty  117.993712"
            ],
            "text/html": [
              "\n",
              "  <div id=\"df-b7220038-5c85-452e-9769-3b4d3978bf78\" class=\"colab-df-container\">\n",
              "    <div>\n",
              "<style scoped>\n",
              "    .dataframe tbody tr th:only-of-type {\n",
              "        vertical-align: middle;\n",
              "    }\n",
              "\n",
              "    .dataframe tbody tr th {\n",
              "        vertical-align: top;\n",
              "    }\n",
              "\n",
              "    .dataframe thead th {\n",
              "        text-align: right;\n",
              "    }\n",
              "</style>\n",
              "<table border=\"1\" class=\"dataframe\">\n",
              "  <thead>\n",
              "    <tr style=\"text-align: right;\">\n",
              "      <th></th>\n",
              "      <th>Group</th>\n",
              "      <th>Spending</th>\n",
              "    </tr>\n",
              "  </thead>\n",
              "  <tbody>\n",
              "    <tr>\n",
              "      <th>0</th>\n",
              "      <td>Loyalty</td>\n",
              "      <td>127.201707</td>\n",
              "    </tr>\n",
              "    <tr>\n",
              "      <th>1</th>\n",
              "      <td>Loyalty</td>\n",
              "      <td>108.646545</td>\n",
              "    </tr>\n",
              "    <tr>\n",
              "      <th>2</th>\n",
              "      <td>Loyalty</td>\n",
              "      <td>111.949919</td>\n",
              "    </tr>\n",
              "    <tr>\n",
              "      <th>3</th>\n",
              "      <td>Loyalty</td>\n",
              "      <td>62.491525</td>\n",
              "    </tr>\n",
              "    <tr>\n",
              "      <th>4</th>\n",
              "      <td>Loyalty</td>\n",
              "      <td>117.993712</td>\n",
              "    </tr>\n",
              "  </tbody>\n",
              "</table>\n",
              "</div>\n",
              "    <div class=\"colab-df-buttons\">\n",
              "\n",
              "  <div class=\"colab-df-container\">\n",
              "    <button class=\"colab-df-convert\" onclick=\"convertToInteractive('df-b7220038-5c85-452e-9769-3b4d3978bf78')\"\n",
              "            title=\"Convert this dataframe to an interactive table.\"\n",
              "            style=\"display:none;\">\n",
              "\n",
              "  <svg xmlns=\"http://www.w3.org/2000/svg\" height=\"24px\" viewBox=\"0 -960 960 960\">\n",
              "    <path d=\"M120-120v-720h720v720H120Zm60-500h600v-160H180v160Zm220 220h160v-160H400v160Zm0 220h160v-160H400v160ZM180-400h160v-160H180v160Zm440 0h160v-160H620v160ZM180-180h160v-160H180v160Zm440 0h160v-160H620v160Z\"/>\n",
              "  </svg>\n",
              "    </button>\n",
              "\n",
              "  <style>\n",
              "    .colab-df-container {\n",
              "      display:flex;\n",
              "      gap: 12px;\n",
              "    }\n",
              "\n",
              "    .colab-df-convert {\n",
              "      background-color: #E8F0FE;\n",
              "      border: none;\n",
              "      border-radius: 50%;\n",
              "      cursor: pointer;\n",
              "      display: none;\n",
              "      fill: #1967D2;\n",
              "      height: 32px;\n",
              "      padding: 0 0 0 0;\n",
              "      width: 32px;\n",
              "    }\n",
              "\n",
              "    .colab-df-convert:hover {\n",
              "      background-color: #E2EBFA;\n",
              "      box-shadow: 0px 1px 2px rgba(60, 64, 67, 0.3), 0px 1px 3px 1px rgba(60, 64, 67, 0.15);\n",
              "      fill: #174EA6;\n",
              "    }\n",
              "\n",
              "    .colab-df-buttons div {\n",
              "      margin-bottom: 4px;\n",
              "    }\n",
              "\n",
              "    [theme=dark] .colab-df-convert {\n",
              "      background-color: #3B4455;\n",
              "      fill: #D2E3FC;\n",
              "    }\n",
              "\n",
              "    [theme=dark] .colab-df-convert:hover {\n",
              "      background-color: #434B5C;\n",
              "      box-shadow: 0px 1px 3px 1px rgba(0, 0, 0, 0.15);\n",
              "      filter: drop-shadow(0px 1px 2px rgba(0, 0, 0, 0.3));\n",
              "      fill: #FFFFFF;\n",
              "    }\n",
              "  </style>\n",
              "\n",
              "    <script>\n",
              "      const buttonEl =\n",
              "        document.querySelector('#df-b7220038-5c85-452e-9769-3b4d3978bf78 button.colab-df-convert');\n",
              "      buttonEl.style.display =\n",
              "        google.colab.kernel.accessAllowed ? 'block' : 'none';\n",
              "\n",
              "      async function convertToInteractive(key) {\n",
              "        const element = document.querySelector('#df-b7220038-5c85-452e-9769-3b4d3978bf78');\n",
              "        const dataTable =\n",
              "          await google.colab.kernel.invokeFunction('convertToInteractive',\n",
              "                                                    [key], {});\n",
              "        if (!dataTable) return;\n",
              "\n",
              "        const docLinkHtml = 'Like what you see? Visit the ' +\n",
              "          '<a target=\"_blank\" href=https://colab.research.google.com/notebooks/data_table.ipynb>data table notebook</a>'\n",
              "          + ' to learn more about interactive tables.';\n",
              "        element.innerHTML = '';\n",
              "        dataTable['output_type'] = 'display_data';\n",
              "        await google.colab.output.renderOutput(dataTable, element);\n",
              "        const docLink = document.createElement('div');\n",
              "        docLink.innerHTML = docLinkHtml;\n",
              "        element.appendChild(docLink);\n",
              "      }\n",
              "    </script>\n",
              "  </div>\n",
              "\n",
              "\n",
              "    <div id=\"df-c0fc80f9-324d-484a-a1c8-f4510f72d4de\">\n",
              "      <button class=\"colab-df-quickchart\" onclick=\"quickchart('df-c0fc80f9-324d-484a-a1c8-f4510f72d4de')\"\n",
              "                title=\"Suggest charts\"\n",
              "                style=\"display:none;\">\n",
              "\n",
              "<svg xmlns=\"http://www.w3.org/2000/svg\" height=\"24px\"viewBox=\"0 0 24 24\"\n",
              "     width=\"24px\">\n",
              "    <g>\n",
              "        <path d=\"M19 3H5c-1.1 0-2 .9-2 2v14c0 1.1.9 2 2 2h14c1.1 0 2-.9 2-2V5c0-1.1-.9-2-2-2zM9 17H7v-7h2v7zm4 0h-2V7h2v10zm4 0h-2v-4h2v4z\"/>\n",
              "    </g>\n",
              "</svg>\n",
              "      </button>\n",
              "\n",
              "<style>\n",
              "  .colab-df-quickchart {\n",
              "      --bg-color: #E8F0FE;\n",
              "      --fill-color: #1967D2;\n",
              "      --hover-bg-color: #E2EBFA;\n",
              "      --hover-fill-color: #174EA6;\n",
              "      --disabled-fill-color: #AAA;\n",
              "      --disabled-bg-color: #DDD;\n",
              "  }\n",
              "\n",
              "  [theme=dark] .colab-df-quickchart {\n",
              "      --bg-color: #3B4455;\n",
              "      --fill-color: #D2E3FC;\n",
              "      --hover-bg-color: #434B5C;\n",
              "      --hover-fill-color: #FFFFFF;\n",
              "      --disabled-bg-color: #3B4455;\n",
              "      --disabled-fill-color: #666;\n",
              "  }\n",
              "\n",
              "  .colab-df-quickchart {\n",
              "    background-color: var(--bg-color);\n",
              "    border: none;\n",
              "    border-radius: 50%;\n",
              "    cursor: pointer;\n",
              "    display: none;\n",
              "    fill: var(--fill-color);\n",
              "    height: 32px;\n",
              "    padding: 0;\n",
              "    width: 32px;\n",
              "  }\n",
              "\n",
              "  .colab-df-quickchart:hover {\n",
              "    background-color: var(--hover-bg-color);\n",
              "    box-shadow: 0 1px 2px rgba(60, 64, 67, 0.3), 0 1px 3px 1px rgba(60, 64, 67, 0.15);\n",
              "    fill: var(--button-hover-fill-color);\n",
              "  }\n",
              "\n",
              "  .colab-df-quickchart-complete:disabled,\n",
              "  .colab-df-quickchart-complete:disabled:hover {\n",
              "    background-color: var(--disabled-bg-color);\n",
              "    fill: var(--disabled-fill-color);\n",
              "    box-shadow: none;\n",
              "  }\n",
              "\n",
              "  .colab-df-spinner {\n",
              "    border: 2px solid var(--fill-color);\n",
              "    border-color: transparent;\n",
              "    border-bottom-color: var(--fill-color);\n",
              "    animation:\n",
              "      spin 1s steps(1) infinite;\n",
              "  }\n",
              "\n",
              "  @keyframes spin {\n",
              "    0% {\n",
              "      border-color: transparent;\n",
              "      border-bottom-color: var(--fill-color);\n",
              "      border-left-color: var(--fill-color);\n",
              "    }\n",
              "    20% {\n",
              "      border-color: transparent;\n",
              "      border-left-color: var(--fill-color);\n",
              "      border-top-color: var(--fill-color);\n",
              "    }\n",
              "    30% {\n",
              "      border-color: transparent;\n",
              "      border-left-color: var(--fill-color);\n",
              "      border-top-color: var(--fill-color);\n",
              "      border-right-color: var(--fill-color);\n",
              "    }\n",
              "    40% {\n",
              "      border-color: transparent;\n",
              "      border-right-color: var(--fill-color);\n",
              "      border-top-color: var(--fill-color);\n",
              "    }\n",
              "    60% {\n",
              "      border-color: transparent;\n",
              "      border-right-color: var(--fill-color);\n",
              "    }\n",
              "    80% {\n",
              "      border-color: transparent;\n",
              "      border-right-color: var(--fill-color);\n",
              "      border-bottom-color: var(--fill-color);\n",
              "    }\n",
              "    90% {\n",
              "      border-color: transparent;\n",
              "      border-bottom-color: var(--fill-color);\n",
              "    }\n",
              "  }\n",
              "</style>\n",
              "\n",
              "      <script>\n",
              "        async function quickchart(key) {\n",
              "          const quickchartButtonEl =\n",
              "            document.querySelector('#' + key + ' button');\n",
              "          quickchartButtonEl.disabled = true;  // To prevent multiple clicks.\n",
              "          quickchartButtonEl.classList.add('colab-df-spinner');\n",
              "          try {\n",
              "            const charts = await google.colab.kernel.invokeFunction(\n",
              "                'suggestCharts', [key], {});\n",
              "          } catch (error) {\n",
              "            console.error('Error during call to suggestCharts:', error);\n",
              "          }\n",
              "          quickchartButtonEl.classList.remove('colab-df-spinner');\n",
              "          quickchartButtonEl.classList.add('colab-df-quickchart-complete');\n",
              "        }\n",
              "        (() => {\n",
              "          let quickchartButtonEl =\n",
              "            document.querySelector('#df-c0fc80f9-324d-484a-a1c8-f4510f72d4de button');\n",
              "          quickchartButtonEl.style.display =\n",
              "            google.colab.kernel.accessAllowed ? 'block' : 'none';\n",
              "        })();\n",
              "      </script>\n",
              "    </div>\n",
              "\n",
              "    </div>\n",
              "  </div>\n"
            ],
            "application/vnd.google.colaboratory.intrinsic+json": {
              "type": "dataframe",
              "variable_name": "spending_df",
              "summary": "{\n  \"name\": \"spending_df\",\n  \"rows\": 220,\n  \"fields\": [\n    {\n      \"column\": \"Group\",\n      \"properties\": {\n        \"dtype\": \"category\",\n        \"num_unique_values\": 2,\n        \"samples\": [\n          \"NonLoyalty\",\n          \"Loyalty\"\n        ],\n        \"semantic_type\": \"\",\n        \"description\": \"\"\n      }\n    },\n    {\n      \"column\": \"Spending\",\n      \"properties\": {\n        \"dtype\": \"number\",\n        \"std\": 28.314162640140296,\n        \"min\": 5.0,\n        \"max\": 171.21407334670715,\n        \"num_unique_values\": 218,\n        \"samples\": [\n          86.36827644039893,\n          95.46292097520436\n        ],\n        \"semantic_type\": \"\",\n        \"description\": \"\"\n      }\n    }\n  ]\n}"
            }
          },
          "metadata": {},
          "execution_count": 15
        }
      ]
    },
    {
      "source": [
        "# Group vs Spending Graph\n",
        "from matplotlib import pyplot as plt\n",
        "import seaborn as sns\n",
        "figsize = (12, 1.2 * len(spending_df['Group'].unique()))\n",
        "plt.figure(figsize=figsize)\n",
        "sns.violinplot(spending_df, x='Spending', y='Group', inner='stick', palette='Dark2', hue='Group', legend=False)\n",
        "sns.despine(top=True, right=True, bottom=True, left=True)"
      ],
      "cell_type": "code",
      "execution_count": 20,
      "outputs": [
        {
          "output_type": "display_data",
          "data": {
            "text/plain": [
              "<Figure size 1200x240 with 1 Axes>"
            ],
            "image/png": "[encoded data removed]"
          },
          "metadata": {}
        }
      ],
      "metadata": {
        "colab": {
          "base_uri": "https://localhost:8080/",
          "height": 273
        },
        "id": "rw7eRRUYwoda",
        "outputId": "648a6900-5878-4045-f64f-2f54360148a1"
      }
    },
    {
      "cell_type": "markdown",
      "source": [
        "### **2.4. Assumption Checks**\n",
        "\n",
        "1. Independence: Assumed based on sampling different customers.\n",
        "\n",
        "2. Normality (Shapiro-Wilk Test for each group)"
      ],
      "metadata": {
        "id": "hgHMqyJOxfyO"
      }
    },
    {
      "cell_type": "code",
      "source": [
        "print(\"Normality Check:\")\n",
        "shapiro_loyalty = stats.shapiro(spending_df[spending_df['Group'] == 'Loyalty']['Spending'])\n",
        "shapiro_non_loyalty = stats.shapiro(spending_df[spending_df['Group'] == 'NonLoyalty']['Spending'])\n",
        "print(f\"Loyalty Group: Statistics={shapiro_loyalty.statistic:.4f}, p-value={shapiro_loyalty.pvalue:.4f}\")\n",
        "print(f\"Non-Loyalty Group: Statistics={shapiro_non_loyalty.statistic:.4f}, p-value={shapiro_non_loyalty.pvalue:.4f}\")\n",
        "\n",
        "normality_met_indep = shapiro_loyalty.pvalue > alpha and shapiro_non_loyalty.pvalue > alpha\n",
        "if normality_met_indep:\n",
        "    print(\"Interpretation: Both groups appear normally distributed.\")\n",
        "else:\n",
        "    print(\"Interpretation: At least one group does not appear normally distributed.\")"
      ],
      "metadata": {
        "colab": {
          "base_uri": "https://localhost:8080/"
        },
        "id": "_SNWoiHQxtXz",
        "outputId": "9f4d1dc1-041f-45f9-be54-049c4bfa1a9d"
      },
      "execution_count": 21,
      "outputs": [
        {
          "output_type": "stream",
          "name": "stdout",
          "text": [
            "Normality Check:\n",
            "Loyalty Group: Statistics=0.9895, p-value=0.6254\n",
            "Non-Loyalty Group: Statistics=0.9830, p-value=0.1349\n",
            "Interpretation: Both groups appear normally distributed.\n"
          ]
        }
      ]
    },
    {
      "cell_type": "markdown",
      "source": [
        "### **Homogeneity of Variances (Levene's Test)**"
      ],
      "metadata": {
        "id": "LlOh1f8Mx1Hh"
      }
    },
    {
      "cell_type": "code",
      "source": [
        "print(\"\\nHomogeneity of Variances Check (Levene's Test):\")\n",
        "levene_stat, levene_p = stats.levene(\n",
        "    spending_df[spending_df['Group'] == 'Loyalty']['Spending'],\n",
        "    spending_df[spending_df['Group'] == 'NonLoyalty']['Spending']\n",
        ")\n",
        "print(f\"Levene's Test: Statistics={levene_stat:.4f}, p-value={levene_p:.4f}\")"
      ],
      "metadata": {
        "colab": {
          "base_uri": "https://localhost:8080/"
        },
        "id": "r09lswpoys9e",
        "outputId": "42ef7c35-5d2c-4284-a6a5-c5f3ab659619"
      },
      "execution_count": 22,
      "outputs": [
        {
          "output_type": "stream",
          "name": "stdout",
          "text": [
            "\n",
            "Homogeneity of Variances Check (Levene's Test):\n",
            "Levene's Test: Statistics=2.4570, p-value=0.1185\n"
          ]
        }
      ]
    },
    {
      "cell_type": "code",
      "source": [
        "equal_variance_met = levene_p > alpha\n",
        "if equal_variance_met:\n",
        "    print(\"Interpretation: Variances are assumed equal.\")\n",
        "else:\n",
        "    print(\"Interpretation: Variances are not assumed equal.\")"
      ],
      "metadata": {
        "colab": {
          "base_uri": "https://localhost:8080/"
        },
        "id": "p3CoTjHryxto",
        "outputId": "aea9af6b-ecbb-4dff-d331-4d225d442dae"
      },
      "execution_count": 23,
      "outputs": [
        {
          "output_type": "stream",
          "name": "stdout",
          "text": [
            "Interpretation: Variances are assumed equal.\n"
          ]
        }
      ]
    },
    {
      "cell_type": "code",
      "source": [
        "# Visual Check\n",
        "plt.figure(figsize=(10, 5))\n",
        "sns.boxplot(x='Group', y='Spending', data=spending_df)\n",
        "plt.title('Spending Distribution by Customer Group')\n",
        "sns.stripplot(x='Group', y='Spending', data=spending_df, color=\".3\", size=4, alpha=0.5) # Add individual points\n",
        "plt.show()"
      ],
      "metadata": {
        "colab": {
          "base_uri": "https://localhost:8080/",
          "height": 496
        },
        "id": "Zb2kdjf9y1wv",
        "outputId": "a6323771-2cdc-4be9-9b3e-17d052e1e09c"
      },
      "execution_count": 24,
      "outputs": [
        {
          "output_type": "display_data",
          "data": {
            "text/plain": [
              "<Figure size 1000x500 with 1 Axes>"
            ],
            "image/png": "[encoded data removed]"
          },
          "metadata": {}
        }
      ]
    },
    {
      "cell_type": "markdown",
      "source": [
        " ### **2.5. Performing Statistical Test**"
      ],
      "metadata": {
        "id": "2jXZF2_Uybac"
      }
    },
    {
      "cell_type": "code",
      "source": [
        "print(\"\\n--- Performing Statistical Test (Independent Samples) ---\")\n",
        "if normality_met_indep:\n",
        "    print(\"Using Independent Samples t-test.\")\n",
        "    # Use Welch's t-test if variances are unequal (`equal_var=False`)\n",
        "    t_stat_indep, p_value_indep = stats.ttest_ind(\n",
        "        spending_df[spending_df['Group'] == 'Loyalty']['Spending'],\n",
        "        spending_df[spending_df['Group'] == 'NonLoyalty']['Spending'],\n",
        "        equal_var=equal_variance_met, # Set based on Levene's test\n",
        "        alternative='two-sided'\n",
        "    )\n",
        "    test_used = \"Standard t-test\" if equal_variance_met else \"Welch's t-test\"\n",
        "    print(f\"Test Used: {test_used}\")\n",
        "    print(f\"T-statistic: {t_stat_indep:.4f}\")\n",
        "    print(f\"P-value: {p_value_indep:.4f}\")\n",
        "    p_value_final_indep = p_value_indep\n",
        "else:\n",
        "    print(\"Normality assumption not met. Using Mann-Whitney U test.\")\n",
        "    u_stat, p_value_mw = stats.mannwhitneyu(\n",
        "        spending_df[spending_df['Group'] == 'Loyalty']['Spending'],\n",
        "        spending_df[spending_df['Group'] == 'NonLoyalty']['Spending'],\n",
        "        alternative='two-sided'\n",
        "    )\n",
        "    print(\"Test Used: Mann-Whitney U test\")\n",
        "    print(f\"U-statistic: {u_stat:.4f}\")\n",
        "    print(f\"P-value: {p_value_mw:.4f}\")\n",
        "    p_value_final_indep = p_value_mw"
      ],
      "metadata": {
        "colab": {
          "base_uri": "https://localhost:8080/"
        },
        "id": "_r9n9-Q6zBHN",
        "outputId": "2d28d586-685e-47db-de80-1353f472e67b"
      },
      "execution_count": 29,
      "outputs": [
        {
          "output_type": "stream",
          "name": "stdout",
          "text": [
            "\n",
            "--- Performing Statistical Test (Independent Samples) ---\n",
            "Using Independent Samples t-test.\n",
            "Test Used: Standard t-test\n",
            "T-statistic: 0.9928\n",
            "P-value: 0.3219\n"
          ]
        }
      ]
    },
    {
      "cell_type": "markdown",
      "source": [
        "### **2.6. Interpretation**"
      ],
      "metadata": {
        "id": "VMo7pvjv1FN1"
      }
    },
    {
      "cell_type": "code",
      "source": [
        "print(\"\\n--- Interpretation (Independent Samples) ---\")\n",
        "if p_value_final_indep < alpha:\n",
        "    print(f\"Conclusion: Reject the Null Hypothesis (H₀).\")\n",
        "    print(f\"There is a statistically significant difference (at α={alpha}) in average spending per visit between loyalty card users and non-users.\")\n",
        "    # Compare means/medians\n",
        "    mean_l = spending_df[spending_df['Group'] == 'Loyalty']['Spending'].mean()\n",
        "    mean_nl = spending_df[spending_df['Group'] == 'NonLoyalty']['Spending'].mean()\n",
        "    median_l = spending_df[spending_df['Group'] == 'Loyalty']['Spending'].median()\n",
        "    median_nl = spending_df[spending_df['Group'] == 'NonLoyalty']['Spending'].median()\n",
        "    print(f\"Mean Spending: Loyalty=${mean_l:.2f}, Non-Loyalty=${mean_nl:.2f}\")\n",
        "    print(f\"Median Spending: Loyalty=${median_l:.2f}, Non-Loyalty=${median_nl:.2f}\")\n",
        "    if mean_l > mean_nl: # Or compare medians if Mann-Whitney was used\n",
        "         print(\"Loyalty card users tend to spend significantly more per visit.\")\n",
        "    else:\n",
        "         print(\"Non-loyalty card users tend to spend significantly more per visit.\")\n",
        "\n",
        "else:\n",
        "    print(f\"Conclusion: Fail to Reject the Null Hypothesis (H₀).\")\n",
        "    print(f\"There is not enough statistically significant evidence (at α={alpha}) to conclude a difference in average spending per visit between the two groups.\")"
      ],
      "metadata": {
        "colab": {
          "base_uri": "https://localhost:8080/"
        },
        "id": "6m9ZnXYC1Hhi",
        "outputId": "9887929b-2335-4786-b198-c01bf315958a"
      },
      "execution_count": 32,
      "outputs": [
        {
          "output_type": "stream",
          "name": "stdout",
          "text": [
            "\n",
            "--- Interpretation (Independent Samples) ---\n",
            "Conclusion: Fail to Reject the Null Hypothesis (H₀).\n",
            "There is not enough statistically significant evidence (at α=0.05) to conclude a difference in average spending per visit between the two groups.\n"
          ]
        }
      ]
    },
    {
      "cell_type": "markdown",
      "source": [
        "## **3. Comparing Means of Two Related Groups (Paired Samples t-test / Wilcoxon Signed-Rank)**\n"
      ],
      "metadata": {
        "id": "b23Jj-Uk1Zcc"
      }
    },
    {
      "cell_type": "markdown",
      "source": [
        "### **3.1. Scenario**\n",
        "\n",
        "A company implements a new training program for its sales team. They measure the sales performance (e.g., number of deals closed) for a sample of salespeople *before* and *after* the training.\n",
        "\n",
        "\n",
        "**Goal:** Determine if the training program significantly improved sales performance.\n",
        "#\n",
        "\n",
        "**Metric:** Number of Deals Closed (per month)."
      ],
      "metadata": {
        "id": "I-EF_UrX1eCf"
      }
    },
    {
      "cell_type": "markdown",
      "source": [
        "### **3.2. Hypotheses**\n",
        "\n",
        "**Null Hypothesis (H₀):** There is no difference in the mean number of deals closed before and after the training (μ_diff = 0, where diff = after - before).\n",
        "\n",
        "**Alternative Hypothesis (H₁):** The mean number of deals closed is higher after the training (μ_diff > 0).\n",
        "\n",
        "*Note: This is a one-tailed test because we expect improvement.*"
      ],
      "metadata": {
        "id": "p7h4IahS1ow4"
      }
    },
    {
      "cell_type": "markdown",
      "source": [
        "### **3.3. Data Generation (Synthetic)**"
      ],
      "metadata": {
        "id": "Q3xPlxMw1yRf"
      }
    },
    {
      "cell_type": "code",
      "source": [
        "np.random.seed(103)\n",
        "n_salespeople = 40\n",
        "# Before training scores\n",
        "mean_before = 15\n",
        "std_dev_before = 4\n",
        "sales_before = np.random.normal(loc=mean_before, scale=std_dev_before, size=n_salespeople).astype(int)\n",
        "sales_before[sales_before < 0] = 0"
      ],
      "metadata": {
        "id": "NBsYUrHA1Wpo"
      },
      "execution_count": 33,
      "outputs": []
    },
    {
      "cell_type": "code",
      "source": [
        "# After training scores - simulate an improvement + individual variability\n",
        "improvement = np.random.normal(loc=3, scale=2, size=n_salespeople) # Average improvement of 3 deals\n",
        "sales_after = (sales_before + improvement).astype(int)\n",
        "sales_after[sales_after < 0] = 0"
      ],
      "metadata": {
        "id": "55yQOKo716RC"
      },
      "execution_count": 34,
      "outputs": []
    },
    {
      "cell_type": "code",
      "source": [
        "# Create DataFrame\n",
        "paired_df = pd.DataFrame({\n",
        "    'SalespersonID': range(1, n_salespeople + 1),\n",
        "    'Deals_Before': sales_before,\n",
        "    'Deals_After': sales_after\n",
        "})\n",
        "paired_df['Difference'] = paired_df['Deals_After'] - paired_df['Deals_Before']\n",
        "\n",
        "print(\"\\n--- Paired Samples: Sales Performance ---\")\n",
        "print(paired_df.head())\n",
        "print(f\"\\nMean Difference (After - Before): {paired_df['Difference'].mean():.2f}\")\n"
      ],
      "metadata": {
        "colab": {
          "base_uri": "https://localhost:8080/"
        },
        "id": "YPUd1B4a19XE",
        "outputId": "e56393d3-d879-4fc4-e85d-7bc0023f47b5"
      },
      "execution_count": 35,
      "outputs": [
        {
          "output_type": "stream",
          "name": "stdout",
          "text": [
            "\n",
            "--- Paired Samples: Sales Performance ---\n",
            "   SalespersonID  Deals_Before  Deals_After  Difference\n",
            "0              1            10           14           4\n",
            "1              2            13           19           6\n",
            "2              3            16           21           5\n",
            "3              4            13           16           3\n",
            "4              5            10           11           1\n",
            "\n",
            "Mean Difference (After - Before): 2.73\n"
          ]
        }
      ]
    },
    {
      "cell_type": "markdown",
      "source": [
        "### **3.4. Assumption Check: Normality of Differences**\n",
        "\n",
        "The Paired Samples t-test assumes the *differences* between the paired observations are normally distributed."
      ],
      "metadata": {
        "id": "4bp9f6Rw2D5G"
      }
    },
    {
      "cell_type": "code",
      "source": [
        "print(\"\\n--- Assumption Check (Paired Samples) ---\")\n",
        "print(\"Normality Check of Differences (Shapiro-Wilk Test):\")\n",
        "shapiro_diff_stat, shapiro_diff_p = stats.shapiro(paired_df['Difference'])\n",
        "print(f\"Shapiro-Wilk Test: Statistics={shapiro_diff_stat:.4f}, p-value={shapiro_diff_p:.4f}\")\n",
        "\n",
        "normality_met_paired = shapiro_diff_p > alpha\n",
        "if normality_met_paired:\n",
        "    print(\"Interpretation: Differences appear normally distributed.\")\n",
        "else:\n",
        "    print(\"Interpretation: Differences do not appear normally distributed.\")\n"
      ],
      "metadata": {
        "colab": {
          "base_uri": "https://localhost:8080/"
        },
        "id": "kOFdMyE22KY5",
        "outputId": "0ea305b8-aac2-4821-89bd-a6d0d6502567"
      },
      "execution_count": 36,
      "outputs": [
        {
          "output_type": "stream",
          "name": "stdout",
          "text": [
            "\n",
            "--- Assumption Check (Paired Samples) ---\n",
            "Normality Check of Differences (Shapiro-Wilk Test):\n",
            "Shapiro-Wilk Test: Statistics=0.9489, p-value=0.0697\n",
            "Interpretation: Differences appear normally distributed.\n"
          ]
        }
      ]
    },
    {
      "cell_type": "code",
      "source": [
        "# Visual Check\n",
        "plt.figure(figsize=(6, 4))\n",
        "sns.histplot(paired_df['Difference'], kde=True)\n",
        "plt.title('Distribution of Differences (After - Before)')\n",
        "plt.show()"
      ],
      "metadata": {
        "colab": {
          "base_uri": "https://localhost:8080/",
          "height": 419
        },
        "id": "RxLkOlye2THV",
        "outputId": "51eecbc4-221d-49f1-cdd3-95e063c104c8"
      },
      "execution_count": 37,
      "outputs": [
        {
          "output_type": "display_data",
          "data": {
            "text/plain": [
              "<Figure size 600x400 with 1 Axes>"
            ],
            "image/png": "[encoded data removed]"
          },
          "metadata": {}
        }
      ]
    },
    {
      "cell_type": "markdown",
      "source": [
        "### **3.5. Performing Statistical Test**"
      ],
      "metadata": {
        "id": "i_hzIHju2jYr"
      }
    },
    {
      "cell_type": "code",
      "source": [
        "print(\"\\n--- Performing Statistical Test (Paired Samples) ---\")\n",
        "if normality_met_paired:\n",
        "    print(\"Using Paired Samples t-test.\")\n",
        "    t_stat_paired, p_value_paired = stats.ttest_rel(\n",
        "        a=paired_df['Deals_After'],\n",
        "        b=paired_df['Deals_Before'],\n",
        "        alternative='greater' # Because H₁ is μ_diff > 0\n",
        "    )\n",
        "    print(f\"Test Used: Paired Samples t-test\")\n",
        "    print(f\"T-statistic: {t_stat_paired:.4f}\")\n",
        "    print(f\"P-value (one-tailed): {p_value_paired:.4f}\")\n",
        "    p_value_final_paired = p_value_paired\n",
        "else:\n",
        "    print(\"Normality assumption not met. Using Wilcoxon Signed-Rank test.\")\n",
        "    # Ensure no zero differences if using Wilcoxon (or handle them)\n",
        "    non_zero_diffs = paired_df['Difference'][paired_df['Difference'] != 0]\n",
        "    if len(non_zero_diffs) < len(paired_df['Difference']):\n",
        "         print(f\"Note: {len(paired_df['Difference']) - len(non_zero_diffs)} zero differences excluded for Wilcoxon test.\")\n",
        "\n",
        "    # Scipy's Wilcoxon performs a two-sided test by default.\n",
        "    # For one-sided, we can compare the statistic or adjust the p-value.\n",
        "    # Let's use the 'greater' alternative directly if available, or adjust p-value.\n",
        "    try:\n",
        "        # Check if the version of scipy supports the 'alternative' parameter for wilcoxon\n",
        "        w_stat, p_value_wilcoxon = stats.wilcoxon(\n",
        "             paired_df['Difference'], # Use differences directly\n",
        "             alternative='greater'\n",
        "        )\n",
        "    except TypeError:\n",
        "         # Older scipy: perform two-sided and adjust p-value\n",
        "         print(\"Older scipy version detected, performing two-sided Wilcoxon and adjusting p-value.\")\n",
        "         w_stat, p_value_wilcoxon_two_sided = stats.wilcoxon(paired_df['Difference'])\n",
        "         # If W is positive (indicating 'After' tends to be higher), p_one_sided = p_two_sided / 2\n",
        "         # If W is negative, p_one_sided = 1 - (p_two_sided / 2) - check median sign\n",
        "         median_diff = paired_df['Difference'].median()\n",
        "         if median_diff > 0 :\n",
        "             p_value_wilcoxon = p_value_wilcoxon_two_sided / 2\n",
        "         elif median_diff < 0:\n",
        "              p_value_wilcoxon = 1.0 - (p_value_wilcoxon_two_sided / 2)\n",
        "         else: # Median diff is 0, hard to say direction\n",
        "             p_value_wilcoxon = p_value_wilcoxon_two_sided # Be conservative\n",
        "\n",
        "    print(\"Test Used: Wilcoxon Signed-Rank test\")\n",
        "    print(f\"W-statistic: {w_stat:.4f}\")\n",
        "    print(f\"P-value (one-tailed): {p_value_wilcoxon:.4f}\")\n",
        "    p_value_final_paired = p_value_wilcoxon"
      ],
      "metadata": {
        "colab": {
          "base_uri": "https://localhost:8080/"
        },
        "id": "HUU-teuF2rc0",
        "outputId": "2e8bb04d-4484-493d-e2b4-c8d52f8ea126"
      },
      "execution_count": 38,
      "outputs": [
        {
          "output_type": "stream",
          "name": "stdout",
          "text": [
            "\n",
            "--- Performing Statistical Test (Paired Samples) ---\n",
            "Using Paired Samples t-test.\n",
            "Test Used: Paired Samples t-test\n",
            "T-statistic: 8.5095\n",
            "P-value (one-tailed): 0.0000\n"
          ]
        }
      ]
    },
    {
      "cell_type": "markdown",
      "source": [
        "### **3.6. Interpretation**"
      ],
      "metadata": {
        "id": "MqkMZUNh2zk8"
      }
    },
    {
      "cell_type": "code",
      "source": [
        "print(\"\\n--- Interpretation (Paired Samples) ---\")\n",
        "if p_value_final_paired < alpha:\n",
        "    print(f\"Conclusion: Reject the Null Hypothesis (H₀).\")\n",
        "    print(f\"There is statistically significant evidence (at α={alpha}) that the sales training program improved performance.\")\n",
        "    print(f\"The average number of deals closed after training ({paired_df['Deals_After'].mean():.2f}) is significantly higher than before ({paired_df['Deals_Before'].mean():.2f}).\")\n",
        "else:\n",
        "    print(f\"Conclusion: Fail to Reject the Null Hypothesis (H₀).\")\n",
        "    print(f\"There is not enough statistically significant evidence (at α={alpha}) to conclude that the sales training program improved performance.\")\n"
      ],
      "metadata": {
        "colab": {
          "base_uri": "https://localhost:8080/"
        },
        "id": "fG8u-o8M238r",
        "outputId": "7838bed3-7da7-475c-a229-ee9ef76f7b15"
      },
      "execution_count": 39,
      "outputs": [
        {
          "output_type": "stream",
          "name": "stdout",
          "text": [
            "\n",
            "--- Interpretation (Paired Samples) ---\n",
            "Conclusion: Reject the Null Hypothesis (H₀).\n",
            "There is statistically significant evidence (at α=0.05) that the sales training program improved performance.\n",
            "The average number of deals closed after training (17.00) is significantly higher than before (14.28).\n"
          ]
        }
      ]
    },
    {
      "cell_type": "markdown",
      "source": [
        "## **4. Comparing Means of More Than Two Independent Groups (ANOVA / Kruskal-Wallis)**"
      ],
      "metadata": {
        "id": "fEybtFkc2_K0"
      }
    },
    {
      "cell_type": "markdown",
      "source": [
        "### **4.1. Scenario**\n",
        "\n",
        "A marketing team tested three different advertising campaigns (Campaign A, Campaign B, Campaign C) on different, comparable customer segments. They measured the resulting 'Customer Lifetime Value' (CLV) attributed to each campaign after 6 months.\n",
        "\n",
        "**Goal:** Determine if there is a significant difference in the mean CLV generated by the three campaigns.\n",
        "\n",
        "**Metric:** Customer Lifetime Value (CLV) ($)."
      ],
      "metadata": {
        "id": "x65223eK3Do6"
      }
    },
    {
      "cell_type": "markdown",
      "source": [
        "### **4.2. Hypotheses**\n",
        "\n",
        "**Null Hypothesis (H₀):** The mean CLV is the same for all three campaigns (μ_A = μ_B = μ_C).\n",
        "\n",
        "**Alternative Hypothesis (H₁):** At least one campaign has a different mean CLV than the others.\n",
        "\n",
        "*Note: ANOVA is an omnibus test; a significant result tells us there's a difference, but not which groups differ.*"
      ],
      "metadata": {
        "id": "EiQS8Z0v3OFn"
      }
    },
    {
      "cell_type": "markdown",
      "source": [
        "### **4.3. Data Generation (Synthetic)**"
      ],
      "metadata": {
        "id": "fSXzNxi_3aer"
      }
    },
    {
      "cell_type": "code",
      "source": [
        "np.random.seed(104)\n",
        "n_per_group = 75\n",
        "# Campaign A\n",
        "clv_A = np.random.normal(loc=500, scale=150, size=n_per_group)\n",
        "# Campaign B (Slightly better)\n",
        "clv_B = np.random.normal(loc=560, scale=160, size=n_per_group)\n",
        "# Campaign C\n",
        "clv_C = np.random.normal(loc=510, scale=140, size=n_per_group)\n",
        "\n",
        "# Ensure no negative CLV\n",
        "clv_A[clv_A < 0] = 0\n",
        "clv_B[clv_B < 0] = 0\n",
        "clv_C[clv_C < 0] = 0\n",
        "\n",
        "# Combine into DataFrame\n",
        "df_A = pd.DataFrame({'Campaign': 'A', 'CLV': clv_A})\n",
        "df_B = pd.DataFrame({'Campaign': 'B', 'CLV': clv_B})\n",
        "df_C = pd.DataFrame({'Campaign': 'C', 'CLV': clv_C})\n",
        "clv_df = pd.concat([df_A, df_B, df_C], ignore_index=True)\n",
        "\n",
        "print(\"\\n--- ANOVA/Kruskal-Wallis: Campaign CLV ---\")\n",
        "print(clv_df.head())\n",
        "print(\"\\nSummary Statistics per Campaign:\")\n",
        "print(clv_df.groupby('Campaign')['CLV'].describe())"
      ],
      "metadata": {
        "colab": {
          "base_uri": "https://localhost:8080/"
        },
        "id": "xFCjInma3iIJ",
        "outputId": "aa4922df-79ea-4b5f-ab91-7cf8696a4db6"
      },
      "execution_count": 40,
      "outputs": [
        {
          "output_type": "stream",
          "name": "stdout",
          "text": [
            "\n",
            "--- ANOVA/Kruskal-Wallis: Campaign CLV ---\n",
            "  Campaign         CLV\n",
            "0        A  437.268015\n",
            "1        A  418.709958\n",
            "2        A  408.813515\n",
            "3        A  639.134994\n",
            "4        A  584.361808\n",
            "\n",
            "Summary Statistics per Campaign:\n",
            "          count        mean         std         min         25%         50%  \\\n",
            "Campaign                                                                      \n",
            "A          75.0  495.886141  132.646611  163.425829  402.827001  469.495844   \n",
            "B          75.0  560.806750  153.500038  193.387807  450.010818  571.051514   \n",
            "C          75.0  491.764359  136.438281  202.047872  390.335411  497.380488   \n",
            "\n",
            "                 75%          max  \n",
            "Campaign                           \n",
            "A         595.596238   825.862505  \n",
            "B         656.710195  1096.093034  \n",
            "C         603.224374   785.582854  \n"
          ]
        }
      ]
    },
    {
      "cell_type": "markdown",
      "source": [
        "### **4.4. Assumption Checks**\n",
        "\n",
        "1. Independence: Assumed (different customer segments).\n",
        "2. Normality (Shapiro-Wilk Test for each group)"
      ],
      "metadata": {
        "id": "i7vg7UE-3o2Z"
      }
    },
    {
      "cell_type": "code",
      "source": [
        "print(\"Normality Check:\")\n",
        "shapiro_A = stats.shapiro(clv_df[clv_df['Campaign'] == 'A']['CLV'])\n",
        "shapiro_B = stats.shapiro(clv_df[clv_df['Campaign'] == 'B']['CLV'])\n",
        "shapiro_C = stats.shapiro(clv_df[clv_df['Campaign'] == 'C']['CLV'])\n",
        "print(f\"Campaign A: Statistics={shapiro_A.statistic:.4f}, p-value={shapiro_A.pvalue:.4f}\")\n",
        "print(f\"Campaign B: Statistics={shapiro_B.statistic:.4f}, p-value={shapiro_B.pvalue:.4f}\")\n",
        "print(f\"Campaign C: Statistics={shapiro_C.statistic:.4f}, p-value={shapiro_C.pvalue:.4f}\")\n",
        "\n",
        "normality_met_anova = (shapiro_A.pvalue > alpha) and (shapiro_B.pvalue > alpha) and (shapiro_C.pvalue > alpha)\n",
        "if normality_met_anova:\n",
        "    print(\"Interpretation: All groups appear normally distributed.\")\n",
        "else:\n",
        "    print(\"Interpretation: At least one group does not appear normally distributed.\")"
      ],
      "metadata": {
        "colab": {
          "base_uri": "https://localhost:8080/"
        },
        "id": "7lb9zZbd3nwA",
        "outputId": "c79775e8-1ae8-4344-a688-df19fd231105"
      },
      "execution_count": 42,
      "outputs": [
        {
          "output_type": "stream",
          "name": "stdout",
          "text": [
            "Normality Check:\n",
            "Campaign A: Statistics=0.9773, p-value=0.1968\n",
            "Campaign B: Statistics=0.9822, p-value=0.3739\n",
            "Campaign C: Statistics=0.9833, p-value=0.4264\n",
            "Interpretation: All groups appear normally distributed.\n"
          ]
        }
      ]
    },
    {
      "cell_type": "markdown",
      "source": [
        "### **Homogeneity of Variances (Levene's Test)**"
      ],
      "metadata": {
        "id": "lLTnDN5h5iGO"
      }
    },
    {
      "cell_type": "code",
      "source": [
        "print(\"\\nHomogeneity of Variances Check (Levene's Test):\")\n",
        "levene_stat_anova, levene_p_anova = stats.levene(\n",
        "    clv_df[clv_df['Campaign'] == 'A']['CLV'],\n",
        "    clv_df[clv_df['Campaign'] == 'B']['CLV'],\n",
        "    clv_df[clv_df['Campaign'] == 'C']['CLV']\n",
        ")\n",
        "print(f\"Levene's Test: Statistics={levene_stat_anova:.4f}, p-value={levene_p_anova:.4f}\")\n",
        "\n",
        "equal_variance_met_anova = levene_p_anova > alpha\n",
        "if equal_variance_met_anova:\n",
        "    print(\"Interpretation: Variances are assumed equal.\")\n",
        "else:\n",
        "    print(\"Interpretation: Variances are not assumed equal.\")\n",
        "    if normality_met_anova:\n",
        "         print(\"Note: ANOVA is somewhat robust to violations of equal variance if group sizes are equal.\")\n",
        "         print(\"Consider Welch's ANOVA if variances are very different.\")"
      ],
      "metadata": {
        "colab": {
          "base_uri": "https://localhost:8080/"
        },
        "id": "V_gjoNhd5y5B",
        "outputId": "79fcadb9-29c7-4cac-dab9-a6dfeffd2080"
      },
      "execution_count": 43,
      "outputs": [
        {
          "output_type": "stream",
          "name": "stdout",
          "text": [
            "\n",
            "Homogeneity of Variances Check (Levene's Test):\n",
            "Levene's Test: Statistics=0.5568, p-value=0.5738\n",
            "Interpretation: Variances are assumed equal.\n"
          ]
        }
      ]
    },
    {
      "cell_type": "code",
      "source": [
        "# Visual Check\n",
        "plt.figure(figsize=(10, 6))\n",
        "sns.boxplot(x='Campaign', y='CLV', data=clv_df)\n",
        "plt.title('CLV Distribution by Campaign')\n",
        "sns.stripplot(x='Campaign', y='CLV', data=clv_df, color=\".3\", size=4, alpha=0.5)\n",
        "plt.show()"
      ],
      "metadata": {
        "colab": {
          "base_uri": "https://localhost:8080/",
          "height": 573
        },
        "id": "m4cQSw_g551u",
        "outputId": "830e34ca-47db-4900-9a1c-20f19b110de5"
      },
      "execution_count": 44,
      "outputs": [
        {
          "output_type": "display_data",
          "data": {
            "text/plain": [
              "<Figure size 1000x600 with 1 Axes>"
            ],
            "image/png": "[encoded data removed]"
          },
          "metadata": {}
        }
      ]
    },
    {
      "cell_type": "markdown",
      "source": [
        "### **4.5. Performing Statistical Test**"
      ],
      "metadata": {
        "id": "wMsC-wcq5-OR"
      }
    },
    {
      "cell_type": "code",
      "source": [
        "print(\"\\n--- Performing Statistical Test (ANOVA / Kruskal-Wallis) ---\")\n",
        "if normality_met_anova and equal_variance_met_anova:\n",
        "    print(\"Using One-Way ANOVA.\")\n",
        "    f_stat, p_value_anova = stats.f_oneway(\n",
        "        clv_df[clv_df['Campaign'] == 'A']['CLV'],\n",
        "        clv_df[clv_df['Campaign'] == 'B']['CLV'],\n",
        "        clv_df[clv_df['Campaign'] == 'C']['CLV']\n",
        "    )\n",
        "    print(\"Test Used: One-Way ANOVA\")\n",
        "    print(f\"F-statistic: {f_stat:.4f}\")\n",
        "    print(f\"P-value: {p_value_anova:.4f}\")\n",
        "    p_value_final_groups = p_value_anova\n",
        "    test_used_groups = \"ANOVA\"\n",
        "\n",
        "elif normality_met_anova and not equal_variance_met_anova:\n",
        "     print(\"Normality met but variances unequal. Standard ANOVA may be okay with equal samples, but Kruskal-Wallis is safer.\")\n",
        "     print(\"Alternatively, consider Welch's ANOVA (not directly in scipy.stats, requires statsmodels or other packages).\")\n",
        "     print(\"Proceeding with Kruskal-Wallis as a robust non-parametric alternative.\")\n",
        "     h_stat, p_value_kw = stats.kruskal(\n",
        "        clv_df[clv_df['Campaign'] == 'A']['CLV'],\n",
        "        clv_df[clv_df['Campaign'] == 'B']['CLV'],\n",
        "        clv_df[clv_df['Campaign'] == 'C']['CLV']\n",
        "     )\n",
        "     print(\"Test Used: Kruskal-Wallis Test\")\n",
        "     print(f\"H-statistic: {h_stat:.4f}\")\n",
        "     print(f\"P-value: {p_value_kw:.4f}\")\n",
        "     p_value_final_groups = p_value_kw\n",
        "     test_used_groups = \"Kruskal-Wallis\"\n",
        "\n",
        "else: # Normality not met\n",
        "    print(\"Normality assumption not met. Using Kruskal-Wallis Test.\")\n",
        "    h_stat, p_value_kw = stats.kruskal(\n",
        "        clv_df[clv_df['Campaign'] == 'A']['CLV'],\n",
        "        clv_df[clv_df['Campaign'] == 'B']['CLV'],\n",
        "        clv_df[clv_df['Campaign'] == 'C']['CLV']\n",
        "    )\n",
        "    print(\"Test Used: Kruskal-Wallis Test\")\n",
        "    print(f\"H-statistic: {h_stat:.4f}\")\n",
        "    print(f\"P-value: {p_value_kw:.4f}\")\n",
        "    p_value_final_groups = p_value_kw\n",
        "    test_used_groups = \"Kruskal-Wallis\""
      ],
      "metadata": {
        "colab": {
          "base_uri": "https://localhost:8080/"
        },
        "id": "sckHjyao6DTI",
        "outputId": "42e565df-da7b-4b12-d140-28a3ccedd549"
      },
      "execution_count": 45,
      "outputs": [
        {
          "output_type": "stream",
          "name": "stdout",
          "text": [
            "\n",
            "--- Performing Statistical Test (ANOVA / Kruskal-Wallis) ---\n",
            "Using One-Way ANOVA.\n",
            "Test Used: One-Way ANOVA\n",
            "F-statistic: 5.6455\n",
            "P-value: 0.0041\n"
          ]
        }
      ]
    },
    {
      "cell_type": "markdown",
      "source": [
        "### **4.6. Interpretation**"
      ],
      "metadata": {
        "id": "ZVKDzmPL6Km3"
      }
    },
    {
      "cell_type": "code",
      "source": [
        "print(\"\\n--- Interpretation (ANOVA / Kruskal-Wallis) ---\")\n",
        "if p_value_final_groups < alpha:\n",
        "    print(f\"Conclusion: Reject the Null Hypothesis (H₀).\")\n",
        "    print(f\"There is a statistically significant difference (at α={alpha}) in the mean (or median for Kruskal-Wallis) CLV among the three campaigns.\")\n",
        "    print(\"Further post-hoc tests (e.g., Tukey's HSD for ANOVA, Dunn's test for Kruskal-Wallis) are needed to determine which specific campaigns differ from each other.\")\n",
        "\n",
        "    # Example: Mentioning means/medians\n",
        "    print(\"\\nGroup Means:\")\n",
        "    print(clv_df.groupby('Campaign')['CLV'].mean())\n",
        "    print(\"\\nGroup Medians:\")\n",
        "    print(clv_df.groupby('Campaign')['CLV'].median())\n",
        "\n",
        "else:\n",
        "    print(f\"Conclusion: Fail to Reject the Null Hypothesis (H₀).\")\n",
        "    print(f\"There is not enough statistically significant evidence (at α={alpha}) to conclude a difference in the mean (or median) CLV among the three campaigns.\")\n"
      ],
      "metadata": {
        "colab": {
          "base_uri": "https://localhost:8080/"
        },
        "id": "gH3vTVPK6QxL",
        "outputId": "5a6f64c4-c59b-49f0-f04a-fe755fcc9f1a"
      },
      "execution_count": 46,
      "outputs": [
        {
          "output_type": "stream",
          "name": "stdout",
          "text": [
            "\n",
            "--- Interpretation (ANOVA / Kruskal-Wallis) ---\n",
            "Conclusion: Reject the Null Hypothesis (H₀).\n",
            "There is a statistically significant difference (at α=0.05) in the mean (or median for Kruskal-Wallis) CLV among the three campaigns.\n",
            "Further post-hoc tests (e.g., Tukey's HSD for ANOVA, Dunn's test for Kruskal-Wallis) are needed to determine which specific campaigns differ from each other.\n",
            "\n",
            "Group Means:\n",
            "Campaign\n",
            "A    495.886141\n",
            "B    560.806750\n",
            "C    491.764359\n",
            "Name: CLV, dtype: float64\n",
            "\n",
            "Group Medians:\n",
            "Campaign\n",
            "A    469.495844\n",
            "B    571.051514\n",
            "C    497.380488\n",
            "Name: CLV, dtype: float64\n"
          ]
        }
      ]
    },
    {
      "cell_type": "markdown",
      "source": [
        "## **5. Testing Goodness of Fit (Chi-Square Goodness-of-Fit Test)**"
      ],
      "metadata": {
        "id": "8yQb4Sgz6fbo"
      }
    },
    {
      "cell_type": "markdown",
      "source": [
        "### **5.1. Scenario**\n",
        "\n",
        "A website manager believes that traffic is evenly distributed across four main sections of the site:\n",
        "\n",
        "Home, Products, Blog, and Contact Us (i.e., 25% to each). They collect data on page views for a week.\n",
        "\n",
        "**Goal:** Determine if the observed distribution of page views significantly differs from the expected uniform distribution (25% each).\n",
        "\n",
        "**Metric:** Page Views per Section."
      ],
      "metadata": {
        "id": "Bp9KRdL76idB"
      }
    },
    {
      "cell_type": "markdown",
      "source": [
        "### **5.2. Hypotheses**\n",
        "\n",
        "**Null Hypothesis (H₀):** The observed distribution of page views matches the expected uniform distribution (25% Home, 25% Products, 25% Blog, 25% Contact Us).\n",
        "\n",
        "**Alternative Hypothesis (H₁):** The observed distribution of page views does not match the expected uniform distribution."
      ],
      "metadata": {
        "id": "yd4V1Cu16rFq"
      }
    },
    {
      "cell_type": "markdown",
      "source": [
        "### **5.3. Data (Observed Frequencies)**"
      ],
      "metadata": {
        "id": "v1Ld7Hpr6xEr"
      }
    },
    {
      "cell_type": "code",
      "source": [
        "# Assume the following page views were observed over a week:\n",
        "observed_views = pd.Series({\n",
        "    'Home': 1250,\n",
        "    'Products': 1100,\n",
        "    'Blog': 950,\n",
        "    'Contact Us': 700\n",
        "})\n",
        "total_views = observed_views.sum()\n",
        "\n",
        "print(\"\\n--- Chi-Square Goodness-of-Fit: Website Traffic ---\")\n",
        "print(\"Observed Page Views:\")\n",
        "print(observed_views)\n",
        "print(f\"Total Observed Views: {total_views}\")"
      ],
      "metadata": {
        "colab": {
          "base_uri": "https://localhost:8080/"
        },
        "id": "2DCH8to9602W",
        "outputId": "a17364e3-2f7c-48a2-9502-2b4a27f0f9cd"
      },
      "execution_count": 4,
      "outputs": [
        {
          "output_type": "stream",
          "name": "stdout",
          "text": [
            "\n",
            "--- Chi-Square Goodness-of-Fit: Website Traffic ---\n",
            "Observed Page Views:\n",
            "Home          1250\n",
            "Products      1100\n",
            "Blog           950\n",
            "Contact Us     700\n",
            "dtype: int64\n",
            "Total Observed Views: 4000\n"
          ]
        }
      ]
    },
    {
      "cell_type": "code",
      "source": [
        "# Defining a color palette\n",
        "dark_palette = ['#1f78b4', '#33a02c', '#e31a1c', '#ff7f00']\n",
        "\n",
        "plt.figure(figsize=(8, 8))\n",
        "observed_views.plot(\n",
        "    kind='pie',\n",
        "    autopct='%1.1f%%',\n",
        "    startangle=90,\n",
        "    colors=dark_palette,\n",
        "    wedgeprops={'linewidth': 1, 'edgecolor': 'black'},  # Add black edges for better separation\n",
        "    textprops={'color': 'white', 'fontsize': 12}  # Make labels white and larger\n",
        ")\n",
        "plt.title('Page View Distribution (Observed)', fontsize=16, color='white')\n",
        "plt.ylabel('')  # Hide y-label for pie chart\n",
        "plt.tight_layout()\n",
        "\n",
        "plt.gca().set_facecolor('black')\n",
        "plt.gcf().set_facecolor('black')\n",
        "\n",
        "plt.show()\n"
      ],
      "metadata": {
        "colab": {
          "base_uri": "https://localhost:8080/",
          "height": 801
        },
        "id": "usO6dpNnRXkk",
        "outputId": "f66da7d5-8ba9-4ec7-a4c2-b968d56a31cd"
      },
      "execution_count": 12,
      "outputs": [
        {
          "output_type": "display_data",
          "data": {
            "text/plain": [
              "<Figure size 800x800 with 1 Axes>"
            ],
            "image/png": "[encoded data removed]"
          },
          "metadata": {}
        }
      ]
    },
    {
      "cell_type": "code",
      "source": [
        "# Calculate Expected Frequencies based on H₀ (uniform distribution)\n",
        "expected_proportions = [0.25, 0.25, 0.25, 0.25]\n",
        "expected_views = total_views * np.array(expected_proportions)\n",
        "expected_views_series = pd.Series(expected_views, index=observed_views.index)\n",
        "\n",
        "print(\"\\nExpected Page Views (under H₀):\")\n",
        "print(expected_views_series)"
      ],
      "metadata": {
        "colab": {
          "base_uri": "https://localhost:8080/"
        },
        "id": "kqptQKnB65KZ",
        "outputId": "31e3cb96-dd67-43c9-ddca-7f88de0b76a3"
      },
      "execution_count": 9,
      "outputs": [
        {
          "output_type": "stream",
          "name": "stdout",
          "text": [
            "\n",
            "Expected Page Views (under H₀):\n",
            "Home          1000.0\n",
            "Products      1000.0\n",
            "Blog          1000.0\n",
            "Contact Us    1000.0\n",
            "dtype: float64\n"
          ]
        }
      ]
    },
    {
      "cell_type": "code",
      "source": [
        "plt.figure(figsize=(8, 8))\n",
        "expected_views_series.plot(\n",
        "    kind='pie',\n",
        "    autopct='%1.1f%%',\n",
        "    startangle=90,\n",
        "    colors=dark_palette,\n",
        "    wedgeprops={'linewidth': 1, 'edgecolor': 'black'},  # Add black edges for better separation\n",
        "    textprops={'color': 'white', 'fontsize': 12}  # Make labels white and larger\n",
        ")\n",
        "plt.title('Page View Distribution (Expected)', fontsize=16, color='white')\n",
        "plt.ylabel('')  # Hide y-label for pie chart\n",
        "plt.tight_layout()\n",
        "\n",
        "plt.gca().set_facecolor('black')\n",
        "plt.gcf().set_facecolor('black')\n",
        "\n",
        "plt.show()"
      ],
      "metadata": {
        "colab": {
          "base_uri": "https://localhost:8080/",
          "height": 801
        },
        "id": "iJF0GXTjTm5L",
        "outputId": "42940a90-03e9-4b9a-ff55-2f04f2c546eb"
      },
      "execution_count": 14,
      "outputs": [
        {
          "output_type": "display_data",
          "data": {
            "text/plain": [
              "<Figure size 800x800 with 1 Axes>"
            ],
            "image/png": "[encoded data removed]"
          },
          "metadata": {}
        }
      ]
    },
    {
      "cell_type": "code",
      "source": [
        "# Plot Observed vs Expected Side-by-Side\n",
        "# Defining a color palette\n",
        "color_palette = ['#1f78b4', '#e31a1c']\n",
        "\n",
        "# Create the bar chart with the dark palette\n",
        "plt.figure(figsize=(10, 6))\n",
        "width = 0.35  # Width of the bars\n",
        "x = np.arange(len(observed_views))\n",
        "\n",
        "plt.bar(x - width/2, observed_views.values, width, label='Observed', color=color_palette[0], edgecolor='black')\n",
        "plt.bar(x + width/2, expected_views_series.values, width, label='Expected', color=color_palette[1], edgecolor='black')\n",
        "\n",
        "plt.xlabel('Page', fontsize=12, color='white')\n",
        "plt.ylabel('Views', fontsize=12, color='white')\n",
        "plt.title('Observed vs Expected Page Views (Chi-Square Goodness-of-Fit)', fontsize=14, color='white')  # Increased title fontsize and color\n",
        "plt.xticks(x, observed_views.index, rotation=45, color='white', fontsize=10)  # Increased tick fontsize and color\n",
        "plt.yticks(color='white', fontsize=10)\n",
        "plt.legend(fontsize=12, facecolor='black', edgecolor='white', labelcolor='white')  # Increased legend fontsize and color\n",
        "\n",
        "plt.tight_layout()\n",
        "\n",
        "# Add a black background to the chart\n",
        "plt.gca().set_facecolor('black')\n",
        "plt.gcf().set_facecolor('black')\n",
        "\n",
        "plt.show()\n"
      ],
      "metadata": {
        "colab": {
          "base_uri": "https://localhost:8080/",
          "height": 600
        },
        "id": "6r_4SliCS0xB",
        "outputId": "4f46e9ba-098c-47c2-c6d1-95549dcea020"
      },
      "execution_count": 11,
      "outputs": [
        {
          "output_type": "display_data",
          "data": {
            "text/plain": [
              "<Figure size 1000x600 with 1 Axes>"
            ],
            "image/png": "[encoded data removed]"
          },
          "metadata": {}
        }
      ]
    },
    {
      "cell_type": "markdown",
      "source": [
        "### **5.4. Assumption Check**\n",
        "\n",
        "The main assumption for Chi-Square GoF is that expected frequencies in each category should be reasonably large (typically >= 5)."
      ],
      "metadata": {
        "id": "hRvyAoqF68hY"
      }
    },
    {
      "cell_type": "code",
      "source": [
        "print(\"\\n--- Assumption Check (Chi-Square GoF) ---\")\n",
        "min_expected = expected_views.min()\n",
        "print(f\"Minimum Expected Frequency: {min_expected:.2f}\")\n",
        "if min_expected >= 5:\n",
        "    print(\"Assumption met: All expected frequencies are >= 5.\")\n",
        "    gof_assumption_met = True\n",
        "else:\n",
        "    print(\"Warning: Assumption not met. Some expected frequencies are < 5. Consider combining categories if appropriate.\")\n",
        "    gof_assumption_met = False"
      ],
      "metadata": {
        "colab": {
          "base_uri": "https://localhost:8080/"
        },
        "id": "m14o9ZRd7Cdv",
        "outputId": "a1600cf2-fec4-4e51-a415-4d9f65c28efa"
      },
      "execution_count": 49,
      "outputs": [
        {
          "output_type": "stream",
          "name": "stdout",
          "text": [
            "\n",
            "--- Assumption Check (Chi-Square GoF) ---\n",
            "Minimum Expected Frequency: 1000.00\n",
            "Assumption met: All expected frequencies are >= 5.\n"
          ]
        }
      ]
    },
    {
      "cell_type": "markdown",
      "source": [
        "### **5.5. Performing Chi-Square Goodness-of-Fit Test**"
      ],
      "metadata": {
        "id": "HJyWf4_67Epz"
      }
    },
    {
      "cell_type": "code",
      "source": [
        "print(\"\\n--- Performing Chi-Square Goodness-of-Fit Test ---\")\n",
        "if gof_assumption_met:\n",
        "    # `chisquare` needs observed counts and *optionally* expected counts (f_exp).\n",
        "    # If f_exp is not given, it assumes a uniform distribution.\n",
        "    chi2_stat_gof, p_value_gof = stats.chisquare(\n",
        "        f_obs=observed_views.values,\n",
        "        f_exp=expected_views # Provide the calculated expected values\n",
        "    )\n",
        "    print(f\"Chi-Square Statistic: {chi2_stat_gof:.4f}\")\n",
        "    print(f\"P-value: {p_value_gof:.4f}\")\n",
        "else:\n",
        "    print(\"Cannot reliably perform Chi-Square GoF test due to low expected frequencies.\")\n",
        "    p_value_gof = 1.0 # Set p-value high to indicate failure to proceed"
      ],
      "metadata": {
        "colab": {
          "base_uri": "https://localhost:8080/"
        },
        "id": "TE-bknSw7ICO",
        "outputId": "435179f8-bb49-4ab1-c8b8-690753db5416"
      },
      "execution_count": 50,
      "outputs": [
        {
          "output_type": "stream",
          "name": "stdout",
          "text": [
            "\n",
            "--- Performing Chi-Square Goodness-of-Fit Test ---\n",
            "Chi-Square Statistic: 165.0000\n",
            "P-value: 0.0000\n"
          ]
        }
      ]
    },
    {
      "cell_type": "markdown",
      "source": [
        "### **5.6. Interpretation**"
      ],
      "metadata": {
        "id": "s0GHPW0A7TQk"
      }
    },
    {
      "cell_type": "code",
      "source": [
        "print(\"\\n--- Interpretation (Chi-Square GoF) ---\")\n",
        "if gof_assumption_met:\n",
        "    if p_value_gof < alpha:\n",
        "        print(f\"Conclusion: Reject the Null Hypothesis (H₀).\")\n",
        "        print(f\"There is a statistically significant difference (at α={alpha}) between the observed distribution of website traffic and the expected uniform distribution.\")\n",
        "        print(\"The traffic is not evenly distributed across the four sections as hypothesized.\")\n",
        "    else:\n",
        "        print(f\"Conclusion: Fail to Reject the Null Hypothesis (H₀).\")\n",
        "        print(f\"There is not enough statistically significant evidence (at α={alpha}) to conclude that the observed distribution of website traffic differs from the expected uniform distribution.\")\n",
        "        print(\"The data is consistent with traffic being evenly distributed.\")\n",
        "else:\n",
        "    print(\"Interpretation cannot be made due to unmet assumptions.\")"
      ],
      "metadata": {
        "colab": {
          "base_uri": "https://localhost:8080/"
        },
        "id": "y3zIhGgk7YjQ",
        "outputId": "8275cebf-6fa3-4358-ac29-83acfc84e472"
      },
      "execution_count": 51,
      "outputs": [
        {
          "output_type": "stream",
          "name": "stdout",
          "text": [
            "\n",
            "--- Interpretation (Chi-Square GoF) ---\n",
            "Conclusion: Reject the Null Hypothesis (H₀).\n",
            "There is a statistically significant difference (at α=0.05) between the observed distribution of website traffic and the expected uniform distribution.\n",
            "The traffic is not evenly distributed across the four sections as hypothesized.\n"
          ]
        }
      ]
    },
    {
      "cell_type": "markdown",
      "source": [
        "# ---**End of Comprehensive Hypothesis Tests Notebook**---"
      ],
      "metadata": {
        "id": "5zx4YMEf7if7"
      }
    }
  ],
  "metadata": {
    "colab": {
      "provenance": []
    },
    "kernelspec": {
      "display_name": "Python 3",
      "name": "python3"
    }
  },
  "nbformat": 4,
  "nbformat_minor": 0
}