{
  "nbformat": 4,
  "nbformat_minor": 0,
  "metadata": {
    "colab": {
      "provenance": []
    },
    "kernelspec": {
      "name": "python3",
      "display_name": "Python 3"
    },
    "language_info": {
      "name": "python"
    }
  },
  "cells": [
    {
      "cell_type": "markdown",
      "source": [
        "# Chi-Square Test of Independence Example: Customer Region vs. Support Channel Preference\n",
        "\n",
        "This notebook demonstrates the Chi-Square test to determine if there is a\n",
        "statistically significant association between two categorical variables:\n",
        "customer region and preferred support channel.\n"
      ],
      "metadata": {
        "id": "sQMIOINnHpWM"
      }
    },
    {
      "cell_type": "markdown",
      "source": [
        "## **1. Importing Libraries**"
      ],
      "metadata": {
        "id": "SSyOCMEZHnpp"
      }
    },
    {
      "cell_type": "code",
      "execution_count": 2,
      "metadata": {
        "id": "zhd4LREeHmjv"
      },
      "outputs": [],
      "source": [
        "import pandas as pd\n",
        "import numpy as np\n",
        "import scipy.stats as stats\n",
        "import matplotlib.pyplot as plt\n",
        "import seaborn as sns"
      ]
    },
    {
      "cell_type": "code",
      "source": [
        "# Setting plot style\n",
        "sns.set(style=\"whitegrid\")"
      ],
      "metadata": {
        "id": "AgYpyYKNISMB"
      },
      "execution_count": 3,
      "outputs": []
    },
    {
      "cell_type": "markdown",
      "source": [
        "## **2. Defining Business Scenario & Goal**"
      ],
      "metadata": {
        "id": "hIiG0aniIaxW"
      }
    },
    {
      "cell_type": "markdown",
      "source": [
        " **Scenario:** A Bangladeshi company offers customer support through multiple channels: Phone, Email, Chat, and FAQ/Self-Service. They want to understand if customers in different geographical regions of the country, that is the eight divisions (Dhaka, Rajshahi, Chittagong, Sylhet, Khulna, Mymensingh, Barisal, Rangpur) have different preferences for these support channels.\n",
        "\n",
        "**Goal:** Determine if there is a statistically significant association (dependence) between customer region and their preferred support channel. This information can help allocate support resources more effectively."
      ],
      "metadata": {
        "id": "or9HjF0MIs2Q"
      }
    },
    {
      "cell_type": "markdown",
      "source": [
        " **Variables:**\n",
        "- Categorical Variable 1: Customer Region (Dhaka, Rajshahi, Chittagong, Sylhet, Khulna, Mymensingh, Barisal, Rangpur)\n",
        "- Categorical Variable 2: Preferred Support Channel (Phone, Email, Chat, FAQ)"
      ],
      "metadata": {
        "id": "ZdwM9QLoJ184"
      }
    },
    {
      "cell_type": "markdown",
      "source": [
        "## **3. Defining Hypothesis**"
      ],
      "metadata": {
        "id": "EdqCLDelKD2s"
      }
    },
    {
      "cell_type": "markdown",
      "source": [
        "**Null Hypothesis (H₀):** Customer region and preferred support channel are independent (There is no association between where a customer lives and the support channel they prefer).\n",
        "\n",
        "**Alternative Hypothesis (H₁):** Customer region and preferred support channel are dependent (There is an association between where a customer lives and the support channel they prefer)."
      ],
      "metadata": {
        "id": "VEJoQBQSKNLM"
      }
    },
    {
      "cell_type": "markdown",
      "source": [
        "**Significance Level (α):** We'll set the standard significance level at 0.05."
      ],
      "metadata": {
        "id": "wnwrg4DeKjb1"
      }
    },
    {
      "cell_type": "code",
      "source": [
        "alpha = 0.05"
      ],
      "metadata": {
        "id": "ZV6z_CfBKns_"
      },
      "execution_count": 4,
      "outputs": []
    },
    {
      "cell_type": "markdown",
      "source": [
        "## **4. Data Representation (Contingency Table)**\n",
        "\n",
        "In a real scenario, this data would be compiled from customer surveys or support interaction logs.\n",
        "Here, we'll create a contingency table (also known as a cross-tabulation) with observed frequencies.\n",
        "Let's assume we surveyed a sample of customers."
      ],
      "metadata": {
        "id": "Lpf4c6YsKq2f"
      }
    },
    {
      "cell_type": "markdown",
      "source": [
        "Observed frequencies (Example Data)\n",
        "\n",
        "Rows: Regions (Dhaka, Rajshahi, Chittagong, Sylhet, Khulna, Mymensingh, Barisal, Rangpur)\n",
        "\n",
        "Columns: Channels (Phone, Email, Chat, FAQ)"
      ],
      "metadata": {
        "id": "WEIGZCS8K6gP"
      }
    },
    {
      "cell_type": "code",
      "source": [
        "# Defining the target counts based on the observed_data DataFrame\n",
        "target_counts = {\n",
        "    'Dhaka': {'Phone': 100, 'Email': 120, 'Chat': 130, 'FAQ': 40},\n",
        "    'Rajshahi': {'Phone': 60, 'Email': 70, 'Chat': 65, 'FAQ': 30},\n",
        "    'Chittagong': {'Phone': 75, 'Email': 85, 'Chat': 90, 'FAQ': 50},\n",
        "    'Sylhet': {'Phone': 50, 'Email': 60, 'Chat': 55, 'FAQ': 25},\n",
        "    'Khulna': {'Phone': 65, 'Email': 75, 'Chat': 80, 'FAQ': 40},\n",
        "    'Mymensingh': {'Phone': 80, 'Email': 90, 'Chat': 100, 'FAQ': 55},\n",
        "    'Barisal': {'Phone': 55, 'Email': 65, 'Chat': 70, 'FAQ': 35},\n",
        "    'Rangpur': {'Phone': 70, 'Email': 80, 'Chat': 85, 'FAQ': 45},\n",
        "}"
      ],
      "metadata": {
        "id": "hR2uB_meLSc7"
      },
      "execution_count": 37,
      "outputs": []
    },
    {
      "cell_type": "code",
      "source": [
        "# Create the raw data with added noise\n",
        "raw_data_list = []\n",
        "for region, channels in target_counts.items():\n",
        "    for channel, count in channels.items():\n",
        "        # Generate a single noisy value per count\n",
        "        noise = int(np.round(np.random.normal(0, count * 0.1)))\n",
        "        noisy_count = max(0, count + noise)  # Ensure counts are not negative\n",
        "        for _ in range(noisy_count):\n",
        "            raw_data_list.append({'Region': region, 'PreferredChannel': channel})"
      ],
      "metadata": {
        "id": "6jADcYOKj_Ls"
      },
      "execution_count": 48,
      "outputs": []
    },
    {
      "cell_type": "code",
      "source": [
        "# Convert raw data to a DataFrame\n",
        "raw_df = pd.DataFrame(raw_data_list)"
      ],
      "metadata": {
        "id": "u_eBmp6GkIsH"
      },
      "execution_count": 49,
      "outputs": []
    },
    {
      "cell_type": "code",
      "source": [
        "# Shuffle the DataFrame to make it look more like real raw data\n",
        "raw_df = raw_df.sample(frac=1, random_state=42).reset_index(drop=True)\n",
        "\n",
        "print(\"Sample of Synthetic Raw Customer Data:\")\n",
        "print(raw_df.head())\n",
        "print(f\"\\nTotal number of observations in raw data: {len(raw_df)}\")"
      ],
      "metadata": {
        "colab": {
          "base_uri": "https://localhost:8080/"
        },
        "id": "D84KNE9KkKKT",
        "outputId": "20e3c1f1-997a-4236-bc57-dc52653a0bec"
      },
      "execution_count": 50,
      "outputs": [
        {
          "output_type": "stream",
          "name": "stdout",
          "text": [
            "Sample of Synthetic Raw Customer Data:\n",
            "       Region PreferredChannel\n",
            "0     Rangpur            Phone\n",
            "1     Barisal            Email\n",
            "2  Mymensingh            Email\n",
            "3     Rangpur             Chat\n",
            "4      Sylhet            Email\n",
            "\n",
            "Total number of observations in raw data: 2141\n"
          ]
        }
      ]
    },
    {
      "cell_type": "code",
      "source": [
        "# Creating the Contingency Table from Raw Data\n",
        "observed_data = pd.crosstab(index=raw_df['Region'], columns=raw_df['PreferredChannel'])\n",
        "\n",
        "# Reorder columns to match the original desired order for consistency\n",
        "desired_column_order = ['Phone', 'Email', 'Chat', 'FAQ']\n",
        "observed_data = observed_data.reindex(columns=desired_column_order, fill_value=0)\n",
        "\n",
        "# Reorder rows (index) to match the original desired order\n",
        "desired_index_order = ['Dhaka', 'Rajshahi', 'Chittagong', 'Sylhet', 'Khulna', 'Mymensingh', 'Barisal', 'Rangpur']\n",
        "observed_data = observed_data.reindex(index=desired_index_order, fill_value=0)\n",
        "\n",
        "print(\"\\n*Contingency Table* based on Observed Frequencies generated from raw data):\")\n",
        "\n",
        "observed_data\n"
      ],
      "metadata": {
        "colab": {
          "base_uri": "https://localhost:8080/",
          "height": 366
        },
        "id": "aoubzTRtkS4V",
        "outputId": "3805ab65-fbe7-421a-bbdf-864029616e4b"
      },
      "execution_count": 60,
      "outputs": [
        {
          "output_type": "stream",
          "name": "stdout",
          "text": [
            "\n",
            "*Contingency Table* based on Observed Frequencies generated from raw data):\n"
          ]
        },
        {
          "output_type": "execute_result",
          "data": {
            "text/plain": [
              "PreferredChannel  Phone  Email  Chat  FAQ\n",
              "Region                                   \n",
              "Dhaka                93    116   119   33\n",
              "Rajshahi             63     66    63   33\n",
              "Chittagong           66     92    79   46\n",
              "Sylhet               49     60    55   25\n",
              "Khulna               67     68    81   41\n",
              "Mymensingh           77     97   102   59\n",
              "Barisal              59     64    81   35\n",
              "Rangpur              76     69    69   38"
            ],
            "text/html": [
              "\n",
              "  <div id=\"df-c2a3c5bf-04db-4775-aba2-dd32d86e86dc\" class=\"colab-df-container\">\n",
              "    <div>\n",
              "<style scoped>\n",
              "    .dataframe tbody tr th:only-of-type {\n",
              "        vertical-align: middle;\n",
              "    }\n",
              "\n",
              "    .dataframe tbody tr th {\n",
              "        vertical-align: top;\n",
              "    }\n",
              "\n",
              "    .dataframe thead th {\n",
              "        text-align: right;\n",
              "    }\n",
              "</style>\n",
              "<table border=\"1\" class=\"dataframe\">\n",
              "  <thead>\n",
              "    <tr style=\"text-align: right;\">\n",
              "      <th>PreferredChannel</th>\n",
              "      <th>Phone</th>\n",
              "      <th>Email</th>\n",
              "      <th>Chat</th>\n",
              "      <th>FAQ</th>\n",
              "    </tr>\n",
              "    <tr>\n",
              "      <th>Region</th>\n",
              "      <th></th>\n",
              "      <th></th>\n",
              "      <th></th>\n",
              "      <th></th>\n",
              "    </tr>\n",
              "  </thead>\n",
              "  <tbody>\n",
              "    <tr>\n",
              "      <th>Dhaka</th>\n",
              "      <td>93</td>\n",
              "      <td>116</td>\n",
              "      <td>119</td>\n",
              "      <td>33</td>\n",
              "    </tr>\n",
              "    <tr>\n",
              "      <th>Rajshahi</th>\n",
              "      <td>63</td>\n",
              "      <td>66</td>\n",
              "      <td>63</td>\n",
              "      <td>33</td>\n",
              "    </tr>\n",
              "    <tr>\n",
              "      <th>Chittagong</th>\n",
              "      <td>66</td>\n",
              "      <td>92</td>\n",
              "      <td>79</td>\n",
              "      <td>46</td>\n",
              "    </tr>\n",
              "    <tr>\n",
              "      <th>Sylhet</th>\n",
              "      <td>49</td>\n",
              "      <td>60</td>\n",
              "      <td>55</td>\n",
              "      <td>25</td>\n",
              "    </tr>\n",
              "    <tr>\n",
              "      <th>Khulna</th>\n",
              "      <td>67</td>\n",
              "      <td>68</td>\n",
              "      <td>81</td>\n",
              "      <td>41</td>\n",
              "    </tr>\n",
              "    <tr>\n",
              "      <th>Mymensingh</th>\n",
              "      <td>77</td>\n",
              "      <td>97</td>\n",
              "      <td>102</td>\n",
              "      <td>59</td>\n",
              "    </tr>\n",
              "    <tr>\n",
              "      <th>Barisal</th>\n",
              "      <td>59</td>\n",
              "      <td>64</td>\n",
              "      <td>81</td>\n",
              "      <td>35</td>\n",
              "    </tr>\n",
              "    <tr>\n",
              "      <th>Rangpur</th>\n",
              "      <td>76</td>\n",
              "      <td>69</td>\n",
              "      <td>69</td>\n",
              "      <td>38</td>\n",
              "    </tr>\n",
              "  </tbody>\n",
              "</table>\n",
              "</div>\n",
              "    <div class=\"colab-df-buttons\">\n",
              "\n",
              "  <div class=\"colab-df-container\">\n",
              "    <button class=\"colab-df-convert\" onclick=\"convertToInteractive('df-c2a3c5bf-04db-4775-aba2-dd32d86e86dc')\"\n",
              "            title=\"Convert this dataframe to an interactive table.\"\n",
              "            style=\"display:none;\">\n",
              "\n",
              "  <svg xmlns=\"http://www.w3.org/2000/svg\" height=\"24px\" viewBox=\"0 -960 960 960\">\n",
              "    <path d=\"M120-120v-720h720v720H120Zm60-500h600v-160H180v160Zm220 220h160v-160H400v160Zm0 220h160v-160H400v160ZM180-400h160v-160H180v160Zm440 0h160v-160H620v160ZM180-180h160v-160H180v160Zm440 0h160v-160H620v160Z\"/>\n",
              "  </svg>\n",
              "    </button>\n",
              "\n",
              "  <style>\n",
              "    .colab-df-container {\n",
              "      display:flex;\n",
              "      gap: 12px;\n",
              "    }\n",
              "\n",
              "    .colab-df-convert {\n",
              "      background-color: #E8F0FE;\n",
              "      border: none;\n",
              "      border-radius: 50%;\n",
              "      cursor: pointer;\n",
              "      display: none;\n",
              "      fill: #1967D2;\n",
              "      height: 32px;\n",
              "      padding: 0 0 0 0;\n",
              "      width: 32px;\n",
              "    }\n",
              "\n",
              "    .colab-df-convert:hover {\n",
              "      background-color: #E2EBFA;\n",
              "      box-shadow: 0px 1px 2px rgba(60, 64, 67, 0.3), 0px 1px 3px 1px rgba(60, 64, 67, 0.15);\n",
              "      fill: #174EA6;\n",
              "    }\n",
              "\n",
              "    .colab-df-buttons div {\n",
              "      margin-bottom: 4px;\n",
              "    }\n",
              "\n",
              "    [theme=dark] .colab-df-convert {\n",
              "      background-color: #3B4455;\n",
              "      fill: #D2E3FC;\n",
              "    }\n",
              "\n",
              "    [theme=dark] .colab-df-convert:hover {\n",
              "      background-color: #434B5C;\n",
              "      box-shadow: 0px 1px 3px 1px rgba(0, 0, 0, 0.15);\n",
              "      filter: drop-shadow(0px 1px 2px rgba(0, 0, 0, 0.3));\n",
              "      fill: #FFFFFF;\n",
              "    }\n",
              "  </style>\n",
              "\n",
              "    <script>\n",
              "      const buttonEl =\n",
              "        document.querySelector('#df-c2a3c5bf-04db-4775-aba2-dd32d86e86dc button.colab-df-convert');\n",
              "      buttonEl.style.display =\n",
              "        google.colab.kernel.accessAllowed ? 'block' : 'none';\n",
              "\n",
              "      async function convertToInteractive(key) {\n",
              "        const element = document.querySelector('#df-c2a3c5bf-04db-4775-aba2-dd32d86e86dc');\n",
              "        const dataTable =\n",
              "          await google.colab.kernel.invokeFunction('convertToInteractive',\n",
              "                                                    [key], {});\n",
              "        if (!dataTable) return;\n",
              "\n",
              "        const docLinkHtml = 'Like what you see? Visit the ' +\n",
              "          '<a target=\"_blank\" href=https://colab.research.google.com/notebooks/data_table.ipynb>data table notebook</a>'\n",
              "          + ' to learn more about interactive tables.';\n",
              "        element.innerHTML = '';\n",
              "        dataTable['output_type'] = 'display_data';\n",
              "        await google.colab.output.renderOutput(dataTable, element);\n",
              "        const docLink = document.createElement('div');\n",
              "        docLink.innerHTML = docLinkHtml;\n",
              "        element.appendChild(docLink);\n",
              "      }\n",
              "    </script>\n",
              "  </div>\n",
              "\n",
              "\n",
              "    <div id=\"df-dd260fa9-f1e7-4b73-b68c-ac002263ea97\">\n",
              "      <button class=\"colab-df-quickchart\" onclick=\"quickchart('df-dd260fa9-f1e7-4b73-b68c-ac002263ea97')\"\n",
              "                title=\"Suggest charts\"\n",
              "                style=\"display:none;\">\n",
              "\n",
              "<svg xmlns=\"http://www.w3.org/2000/svg\" height=\"24px\"viewBox=\"0 0 24 24\"\n",
              "     width=\"24px\">\n",
              "    <g>\n",
              "        <path d=\"M19 3H5c-1.1 0-2 .9-2 2v14c0 1.1.9 2 2 2h14c1.1 0 2-.9 2-2V5c0-1.1-.9-2-2-2zM9 17H7v-7h2v7zm4 0h-2V7h2v10zm4 0h-2v-4h2v4z\"/>\n",
              "    </g>\n",
              "</svg>\n",
              "      </button>\n",
              "\n",
              "<style>\n",
              "  .colab-df-quickchart {\n",
              "      --bg-color: #E8F0FE;\n",
              "      --fill-color: #1967D2;\n",
              "      --hover-bg-color: #E2EBFA;\n",
              "      --hover-fill-color: #174EA6;\n",
              "      --disabled-fill-color: #AAA;\n",
              "      --disabled-bg-color: #DDD;\n",
              "  }\n",
              "\n",
              "  [theme=dark] .colab-df-quickchart {\n",
              "      --bg-color: #3B4455;\n",
              "      --fill-color: #D2E3FC;\n",
              "      --hover-bg-color: #434B5C;\n",
              "      --hover-fill-color: #FFFFFF;\n",
              "      --disabled-bg-color: #3B4455;\n",
              "      --disabled-fill-color: #666;\n",
              "  }\n",
              "\n",
              "  .colab-df-quickchart {\n",
              "    background-color: var(--bg-color);\n",
              "    border: none;\n",
              "    border-radius: 50%;\n",
              "    cursor: pointer;\n",
              "    display: none;\n",
              "    fill: var(--fill-color);\n",
              "    height: 32px;\n",
              "    padding: 0;\n",
              "    width: 32px;\n",
              "  }\n",
              "\n",
              "  .colab-df-quickchart:hover {\n",
              "    background-color: var(--hover-bg-color);\n",
              "    box-shadow: 0 1px 2px rgba(60, 64, 67, 0.3), 0 1px 3px 1px rgba(60, 64, 67, 0.15);\n",
              "    fill: var(--button-hover-fill-color);\n",
              "  }\n",
              "\n",
              "  .colab-df-quickchart-complete:disabled,\n",
              "  .colab-df-quickchart-complete:disabled:hover {\n",
              "    background-color: var(--disabled-bg-color);\n",
              "    fill: var(--disabled-fill-color);\n",
              "    box-shadow: none;\n",
              "  }\n",
              "\n",
              "  .colab-df-spinner {\n",
              "    border: 2px solid var(--fill-color);\n",
              "    border-color: transparent;\n",
              "    border-bottom-color: var(--fill-color);\n",
              "    animation:\n",
              "      spin 1s steps(1) infinite;\n",
              "  }\n",
              "\n",
              "  @keyframes spin {\n",
              "    0% {\n",
              "      border-color: transparent;\n",
              "      border-bottom-color: var(--fill-color);\n",
              "      border-left-color: var(--fill-color);\n",
              "    }\n",
              "    20% {\n",
              "      border-color: transparent;\n",
              "      border-left-color: var(--fill-color);\n",
              "      border-top-color: var(--fill-color);\n",
              "    }\n",
              "    30% {\n",
              "      border-color: transparent;\n",
              "      border-left-color: var(--fill-color);\n",
              "      border-top-color: var(--fill-color);\n",
              "      border-right-color: var(--fill-color);\n",
              "    }\n",
              "    40% {\n",
              "      border-color: transparent;\n",
              "      border-right-color: var(--fill-color);\n",
              "      border-top-color: var(--fill-color);\n",
              "    }\n",
              "    60% {\n",
              "      border-color: transparent;\n",
              "      border-right-color: var(--fill-color);\n",
              "    }\n",
              "    80% {\n",
              "      border-color: transparent;\n",
              "      border-right-color: var(--fill-color);\n",
              "      border-bottom-color: var(--fill-color);\n",
              "    }\n",
              "    90% {\n",
              "      border-color: transparent;\n",
              "      border-bottom-color: var(--fill-color);\n",
              "    }\n",
              "  }\n",
              "</style>\n",
              "\n",
              "      <script>\n",
              "        async function quickchart(key) {\n",
              "          const quickchartButtonEl =\n",
              "            document.querySelector('#' + key + ' button');\n",
              "          quickchartButtonEl.disabled = true;  // To prevent multiple clicks.\n",
              "          quickchartButtonEl.classList.add('colab-df-spinner');\n",
              "          try {\n",
              "            const charts = await google.colab.kernel.invokeFunction(\n",
              "                'suggestCharts', [key], {});\n",
              "          } catch (error) {\n",
              "            console.error('Error during call to suggestCharts:', error);\n",
              "          }\n",
              "          quickchartButtonEl.classList.remove('colab-df-spinner');\n",
              "          quickchartButtonEl.classList.add('colab-df-quickchart-complete');\n",
              "        }\n",
              "        (() => {\n",
              "          let quickchartButtonEl =\n",
              "            document.querySelector('#df-dd260fa9-f1e7-4b73-b68c-ac002263ea97 button');\n",
              "          quickchartButtonEl.style.display =\n",
              "            google.colab.kernel.accessAllowed ? 'block' : 'none';\n",
              "        })();\n",
              "      </script>\n",
              "    </div>\n",
              "\n",
              "  <div id=\"id_f327f13e-fadf-409c-b706-9d9f8b117db9\">\n",
              "    <style>\n",
              "      .colab-df-generate {\n",
              "        background-color: #E8F0FE;\n",
              "        border: none;\n",
              "        border-radius: 50%;\n",
              "        cursor: pointer;\n",
              "        display: none;\n",
              "        fill: #1967D2;\n",
              "        height: 32px;\n",
              "        padding: 0 0 0 0;\n",
              "        width: 32px;\n",
              "      }\n",
              "\n",
              "      .colab-df-generate:hover {\n",
              "        background-color: #E2EBFA;\n",
              "        box-shadow: 0px 1px 2px rgba(60, 64, 67, 0.3), 0px 1px 3px 1px rgba(60, 64, 67, 0.15);\n",
              "        fill: #174EA6;\n",
              "      }\n",
              "\n",
              "      [theme=dark] .colab-df-generate {\n",
              "        background-color: #3B4455;\n",
              "        fill: #D2E3FC;\n",
              "      }\n",
              "\n",
              "      [theme=dark] .colab-df-generate:hover {\n",
              "        background-color: #434B5C;\n",
              "        box-shadow: 0px 1px 3px 1px rgba(0, 0, 0, 0.15);\n",
              "        filter: drop-shadow(0px 1px 2px rgba(0, 0, 0, 0.3));\n",
              "        fill: #FFFFFF;\n",
              "      }\n",
              "    </style>\n",
              "    <button class=\"colab-df-generate\" onclick=\"generateWithVariable('observed_data')\"\n",
              "            title=\"Generate code using this dataframe.\"\n",
              "            style=\"display:none;\">\n",
              "\n",
              "  <svg xmlns=\"http://www.w3.org/2000/svg\" height=\"24px\"viewBox=\"0 0 24 24\"\n",
              "       width=\"24px\">\n",
              "    <path d=\"M7,19H8.4L18.45,9,17,7.55,7,17.6ZM5,21V16.75L18.45,3.32a2,2,0,0,1,2.83,0l1.4,1.43a1.91,1.91,0,0,1,.58,1.4,1.91,1.91,0,0,1-.58,1.4L9.25,21ZM18.45,9,17,7.55Zm-12,3A5.31,5.31,0,0,0,4.9,8.1,5.31,5.31,0,0,0,1,6.5,5.31,5.31,0,0,0,4.9,4.9,5.31,5.31,0,0,0,6.5,1,5.31,5.31,0,0,0,8.1,4.9,5.31,5.31,0,0,0,12,6.5,5.46,5.46,0,0,0,6.5,12Z\"/>\n",
              "  </svg>\n",
              "    </button>\n",
              "    <script>\n",
              "      (() => {\n",
              "      const buttonEl =\n",
              "        document.querySelector('#id_f327f13e-fadf-409c-b706-9d9f8b117db9 button.colab-df-generate');\n",
              "      buttonEl.style.display =\n",
              "        google.colab.kernel.accessAllowed ? 'block' : 'none';\n",
              "\n",
              "      buttonEl.onclick = () => {\n",
              "        google.colab.notebook.generateWithVariable('observed_data');\n",
              "      }\n",
              "      })();\n",
              "    </script>\n",
              "  </div>\n",
              "\n",
              "    </div>\n",
              "  </div>\n"
            ],
            "application/vnd.google.colaboratory.intrinsic+json": {
              "type": "dataframe",
              "variable_name": "observed_data",
              "summary": "{\n  \"name\": \"observed_data\",\n  \"rows\": 8,\n  \"fields\": [\n    {\n      \"column\": \"Region\",\n      \"properties\": {\n        \"dtype\": \"string\",\n        \"num_unique_values\": 8,\n        \"samples\": [\n          \"Rajshahi\",\n          \"Mymensingh\",\n          \"Dhaka\"\n        ],\n        \"semantic_type\": \"\",\n        \"description\": \"\"\n      }\n    },\n    {\n      \"column\": \"Phone\",\n      \"properties\": {\n        \"dtype\": \"number\",\n        \"std\": 13,\n        \"min\": 49,\n        \"max\": 93,\n        \"num_unique_values\": 8,\n        \"samples\": [\n          63,\n          77,\n          93\n        ],\n        \"semantic_type\": \"\",\n        \"description\": \"\"\n      }\n    },\n    {\n      \"column\": \"Email\",\n      \"properties\": {\n        \"dtype\": \"number\",\n        \"std\": 20,\n        \"min\": 60,\n        \"max\": 116,\n        \"num_unique_values\": 8,\n        \"samples\": [\n          66,\n          97,\n          116\n        ],\n        \"semantic_type\": \"\",\n        \"description\": \"\"\n      }\n    },\n    {\n      \"column\": \"Chat\",\n      \"properties\": {\n        \"dtype\": \"number\",\n        \"std\": 20,\n        \"min\": 55,\n        \"max\": 119,\n        \"num_unique_values\": 7,\n        \"samples\": [\n          119,\n          63,\n          102\n        ],\n        \"semantic_type\": \"\",\n        \"description\": \"\"\n      }\n    },\n    {\n      \"column\": \"FAQ\",\n      \"properties\": {\n        \"dtype\": \"number\",\n        \"std\": 10,\n        \"min\": 25,\n        \"max\": 59,\n        \"num_unique_values\": 7,\n        \"samples\": [\n          33,\n          46,\n          35\n        ],\n        \"semantic_type\": \"\",\n        \"description\": \"\"\n      }\n    }\n  ]\n}"
            }
          },
          "metadata": {},
          "execution_count": 60
        }
      ]
    },
    {
      "cell_type": "code",
      "source": [
        "# Visualizing the observed data (from the contingency table)\n",
        "observed_data.plot(kind='bar', figsize=(12, 7), colormap='viridis')\n",
        "plt.title('Observed Support Channel Preferences by Region (from Raw Data)')\n",
        "plt.ylabel('Number of Customers')\n",
        "plt.xlabel('Region')\n",
        "plt.xticks(rotation=0)\n",
        "plt.legend(title='Support Channel')\n",
        "plt.tight_layout()\n",
        "plt.show()"
      ],
      "metadata": {
        "colab": {
          "base_uri": "https://localhost:8080/",
          "height": 701
        },
        "id": "NjamYr99XAF4",
        "outputId": "8bb15fdf-592a-4c17-d4a5-c68b820a87d3"
      },
      "execution_count": 58,
      "outputs": [
        {
          "output_type": "display_data",
          "data": {
            "text/plain": [
              "<Figure size 1200x700 with 1 Axes>"
            ],
            "image/png": "[encoded data removed]"
          },
          "metadata": {}
        }
      ]
    },
    {
      "cell_type": "markdown",
      "source": [
        "## **5. Assumption Checks for Chi-Square Test**"
      ],
      "metadata": {
        "id": "cWO-iA_bNl-0"
      }
    },
    {
      "cell_type": "markdown",
      "source": [
        "The Chi-Square Test of Independence has a few key assumptions:\n",
        "1. Two Categorical Variables: We have Region and Support Channel (Checked).\n",
        "2. Independence of Observations: Assumed that each customer is counted only once and their preference is independent of others (Checked by study design).\n",
        "3. Expected Cell Frequencies: Most (>=80%) expected cell frequencies should be 5 or greater, and none should be less than 1. We check this after calculating expected frequencies.\n"
      ],
      "metadata": {
        "id": "NnILittPNuIV"
      }
    },
    {
      "cell_type": "markdown",
      "source": [
        "## **6. Performing Statistical Test (Chi-Square Test)**\n",
        "\n",
        "We use `scipy.stats.chi2_contingency` which calculates the Chi-square statistic, p-value, degrees of freedom (dof), and expected frequencies."
      ],
      "metadata": {
        "id": "b6ds8RfSN4Gz"
      }
    },
    {
      "cell_type": "code",
      "source": [
        "print(\"\\n--- Performing Chi-Square Test of Independence ---\")\n",
        "\n",
        "chi2_stat, p_value, dof, expected_freq = stats.chi2_contingency(observed_data)\n",
        "\n",
        "print(f\"Chi-Square Statistic: {chi2_stat:.4f}\")\n",
        "print(f\"P-value: {p_value:.4f}\")\n",
        "print(f\"Degrees of Freedom: {dof}\")\n",
        "print(\"\\nExpected Frequencies:\")\n",
        "expected_df = pd.DataFrame(expected_freq, index=observed_data.index, columns=observed_data.columns)\n",
        "expected_df"
      ],
      "metadata": {
        "colab": {
          "base_uri": "https://localhost:8080/",
          "height": 453
        },
        "id": "SSVqfyM8Nkrn",
        "outputId": "26057c50-178b-4d99-d4fb-c2c186da9d8a"
      },
      "execution_count": 54,
      "outputs": [
        {
          "output_type": "stream",
          "name": "stdout",
          "text": [
            "\n",
            "--- Performing Chi-Square Test of Independence ---\n",
            "Chi-Square Statistic: 22.3391\n",
            "P-value: 0.3802\n",
            "Degrees of Freedom: 21\n",
            "\n",
            "Expected Frequencies:\n"
          ]
        },
        {
          "output_type": "execute_result",
          "data": {
            "text/plain": [
              "PreferredChannel      Phone       Email        Chat        FAQ\n",
              "Region                                                        \n",
              "Dhaka             92.737039  106.563288  109.429706  52.269967\n",
              "Rajshahi          57.800093   66.417562   68.204110  32.578234\n",
              "Chittagong        72.699673   83.538533   85.785614  40.976179\n",
              "Sylhet            48.552078   55.790752   57.291453  27.365717\n",
              "Khulna            66.020551   75.863615   77.904250  37.211583\n",
              "Mymensingh        86.057917   98.888370  101.548342  48.505371\n",
              "Barisal           61.396544   70.550210   72.447922  34.605325\n",
              "Rangpur           64.736105   74.387669   76.388603  36.487623"
            ],
            "text/html": [
              "\n",
              "  <div id=\"df-c9660f39-c601-4305-94eb-c603d26a8612\" class=\"colab-df-container\">\n",
              "    <div>\n",
              "<style scoped>\n",
              "    .dataframe tbody tr th:only-of-type {\n",
              "        vertical-align: middle;\n",
              "    }\n",
              "\n",
              "    .dataframe tbody tr th {\n",
              "        vertical-align: top;\n",
              "    }\n",
              "\n",
              "    .dataframe thead th {\n",
              "        text-align: right;\n",
              "    }\n",
              "</style>\n",
              "<table border=\"1\" class=\"dataframe\">\n",
              "  <thead>\n",
              "    <tr style=\"text-align: right;\">\n",
              "      <th>PreferredChannel</th>\n",
              "      <th>Phone</th>\n",
              "      <th>Email</th>\n",
              "      <th>Chat</th>\n",
              "      <th>FAQ</th>\n",
              "    </tr>\n",
              "    <tr>\n",
              "      <th>Region</th>\n",
              "      <th></th>\n",
              "      <th></th>\n",
              "      <th></th>\n",
              "      <th></th>\n",
              "    </tr>\n",
              "  </thead>\n",
              "  <tbody>\n",
              "    <tr>\n",
              "      <th>Dhaka</th>\n",
              "      <td>92.737039</td>\n",
              "      <td>106.563288</td>\n",
              "      <td>109.429706</td>\n",
              "      <td>52.269967</td>\n",
              "    </tr>\n",
              "    <tr>\n",
              "      <th>Rajshahi</th>\n",
              "      <td>57.800093</td>\n",
              "      <td>66.417562</td>\n",
              "      <td>68.204110</td>\n",
              "      <td>32.578234</td>\n",
              "    </tr>\n",
              "    <tr>\n",
              "      <th>Chittagong</th>\n",
              "      <td>72.699673</td>\n",
              "      <td>83.538533</td>\n",
              "      <td>85.785614</td>\n",
              "      <td>40.976179</td>\n",
              "    </tr>\n",
              "    <tr>\n",
              "      <th>Sylhet</th>\n",
              "      <td>48.552078</td>\n",
              "      <td>55.790752</td>\n",
              "      <td>57.291453</td>\n",
              "      <td>27.365717</td>\n",
              "    </tr>\n",
              "    <tr>\n",
              "      <th>Khulna</th>\n",
              "      <td>66.020551</td>\n",
              "      <td>75.863615</td>\n",
              "      <td>77.904250</td>\n",
              "      <td>37.211583</td>\n",
              "    </tr>\n",
              "    <tr>\n",
              "      <th>Mymensingh</th>\n",
              "      <td>86.057917</td>\n",
              "      <td>98.888370</td>\n",
              "      <td>101.548342</td>\n",
              "      <td>48.505371</td>\n",
              "    </tr>\n",
              "    <tr>\n",
              "      <th>Barisal</th>\n",
              "      <td>61.396544</td>\n",
              "      <td>70.550210</td>\n",
              "      <td>72.447922</td>\n",
              "      <td>34.605325</td>\n",
              "    </tr>\n",
              "    <tr>\n",
              "      <th>Rangpur</th>\n",
              "      <td>64.736105</td>\n",
              "      <td>74.387669</td>\n",
              "      <td>76.388603</td>\n",
              "      <td>36.487623</td>\n",
              "    </tr>\n",
              "  </tbody>\n",
              "</table>\n",
              "</div>\n",
              "    <div class=\"colab-df-buttons\">\n",
              "\n",
              "  <div class=\"colab-df-container\">\n",
              "    <button class=\"colab-df-convert\" onclick=\"convertToInteractive('df-c9660f39-c601-4305-94eb-c603d26a8612')\"\n",
              "            title=\"Convert this dataframe to an interactive table.\"\n",
              "            style=\"display:none;\">\n",
              "\n",
              "  <svg xmlns=\"http://www.w3.org/2000/svg\" height=\"24px\" viewBox=\"0 -960 960 960\">\n",
              "    <path d=\"M120-120v-720h720v720H120Zm60-500h600v-160H180v160Zm220 220h160v-160H400v160Zm0 220h160v-160H400v160ZM180-400h160v-160H180v160Zm440 0h160v-160H620v160ZM180-180h160v-160H180v160Zm440 0h160v-160H620v160Z\"/>\n",
              "  </svg>\n",
              "    </button>\n",
              "\n",
              "  <style>\n",
              "    .colab-df-container {\n",
              "      display:flex;\n",
              "      gap: 12px;\n",
              "    }\n",
              "\n",
              "    .colab-df-convert {\n",
              "      background-color: #E8F0FE;\n",
              "      border: none;\n",
              "      border-radius: 50%;\n",
              "      cursor: pointer;\n",
              "      display: none;\n",
              "      fill: #1967D2;\n",
              "      height: 32px;\n",
              "      padding: 0 0 0 0;\n",
              "      width: 32px;\n",
              "    }\n",
              "\n",
              "    .colab-df-convert:hover {\n",
              "      background-color: #E2EBFA;\n",
              "      box-shadow: 0px 1px 2px rgba(60, 64, 67, 0.3), 0px 1px 3px 1px rgba(60, 64, 67, 0.15);\n",
              "      fill: #174EA6;\n",
              "    }\n",
              "\n",
              "    .colab-df-buttons div {\n",
              "      margin-bottom: 4px;\n",
              "    }\n",
              "\n",
              "    [theme=dark] .colab-df-convert {\n",
              "      background-color: #3B4455;\n",
              "      fill: #D2E3FC;\n",
              "    }\n",
              "\n",
              "    [theme=dark] .colab-df-convert:hover {\n",
              "      background-color: #434B5C;\n",
              "      box-shadow: 0px 1px 3px 1px rgba(0, 0, 0, 0.15);\n",
              "      filter: drop-shadow(0px 1px 2px rgba(0, 0, 0, 0.3));\n",
              "      fill: #FFFFFF;\n",
              "    }\n",
              "  </style>\n",
              "\n",
              "    <script>\n",
              "      const buttonEl =\n",
              "        document.querySelector('#df-c9660f39-c601-4305-94eb-c603d26a8612 button.colab-df-convert');\n",
              "      buttonEl.style.display =\n",
              "        google.colab.kernel.accessAllowed ? 'block' : 'none';\n",
              "\n",
              "      async function convertToInteractive(key) {\n",
              "        const element = document.querySelector('#df-c9660f39-c601-4305-94eb-c603d26a8612');\n",
              "        const dataTable =\n",
              "          await google.colab.kernel.invokeFunction('convertToInteractive',\n",
              "                                                    [key], {});\n",
              "        if (!dataTable) return;\n",
              "\n",
              "        const docLinkHtml = 'Like what you see? Visit the ' +\n",
              "          '<a target=\"_blank\" href=https://colab.research.google.com/notebooks/data_table.ipynb>data table notebook</a>'\n",
              "          + ' to learn more about interactive tables.';\n",
              "        element.innerHTML = '';\n",
              "        dataTable['output_type'] = 'display_data';\n",
              "        await google.colab.output.renderOutput(dataTable, element);\n",
              "        const docLink = document.createElement('div');\n",
              "        docLink.innerHTML = docLinkHtml;\n",
              "        element.appendChild(docLink);\n",
              "      }\n",
              "    </script>\n",
              "  </div>\n",
              "\n",
              "\n",
              "    <div id=\"df-69fff1fe-2d15-4a41-a4f9-13bd106ae392\">\n",
              "      <button class=\"colab-df-quickchart\" onclick=\"quickchart('df-69fff1fe-2d15-4a41-a4f9-13bd106ae392')\"\n",
              "                title=\"Suggest charts\"\n",
              "                style=\"display:none;\">\n",
              "\n",
              "<svg xmlns=\"http://www.w3.org/2000/svg\" height=\"24px\"viewBox=\"0 0 24 24\"\n",
              "     width=\"24px\">\n",
              "    <g>\n",
              "        <path d=\"M19 3H5c-1.1 0-2 .9-2 2v14c0 1.1.9 2 2 2h14c1.1 0 2-.9 2-2V5c0-1.1-.9-2-2-2zM9 17H7v-7h2v7zm4 0h-2V7h2v10zm4 0h-2v-4h2v4z\"/>\n",
              "    </g>\n",
              "</svg>\n",
              "      </button>\n",
              "\n",
              "<style>\n",
              "  .colab-df-quickchart {\n",
              "      --bg-color: #E8F0FE;\n",
              "      --fill-color: #1967D2;\n",
              "      --hover-bg-color: #E2EBFA;\n",
              "      --hover-fill-color: #174EA6;\n",
              "      --disabled-fill-color: #AAA;\n",
              "      --disabled-bg-color: #DDD;\n",
              "  }\n",
              "\n",
              "  [theme=dark] .colab-df-quickchart {\n",
              "      --bg-color: #3B4455;\n",
              "      --fill-color: #D2E3FC;\n",
              "      --hover-bg-color: #434B5C;\n",
              "      --hover-fill-color: #FFFFFF;\n",
              "      --disabled-bg-color: #3B4455;\n",
              "      --disabled-fill-color: #666;\n",
              "  }\n",
              "\n",
              "  .colab-df-quickchart {\n",
              "    background-color: var(--bg-color);\n",
              "    border: none;\n",
              "    border-radius: 50%;\n",
              "    cursor: pointer;\n",
              "    display: none;\n",
              "    fill: var(--fill-color);\n",
              "    height: 32px;\n",
              "    padding: 0;\n",
              "    width: 32px;\n",
              "  }\n",
              "\n",
              "  .colab-df-quickchart:hover {\n",
              "    background-color: var(--hover-bg-color);\n",
              "    box-shadow: 0 1px 2px rgba(60, 64, 67, 0.3), 0 1px 3px 1px rgba(60, 64, 67, 0.15);\n",
              "    fill: var(--button-hover-fill-color);\n",
              "  }\n",
              "\n",
              "  .colab-df-quickchart-complete:disabled,\n",
              "  .colab-df-quickchart-complete:disabled:hover {\n",
              "    background-color: var(--disabled-bg-color);\n",
              "    fill: var(--disabled-fill-color);\n",
              "    box-shadow: none;\n",
              "  }\n",
              "\n",
              "  .colab-df-spinner {\n",
              "    border: 2px solid var(--fill-color);\n",
              "    border-color: transparent;\n",
              "    border-bottom-color: var(--fill-color);\n",
              "    animation:\n",
              "      spin 1s steps(1) infinite;\n",
              "  }\n",
              "\n",
              "  @keyframes spin {\n",
              "    0% {\n",
              "      border-color: transparent;\n",
              "      border-bottom-color: var(--fill-color);\n",
              "      border-left-color: var(--fill-color);\n",
              "    }\n",
              "    20% {\n",
              "      border-color: transparent;\n",
              "      border-left-color: var(--fill-color);\n",
              "      border-top-color: var(--fill-color);\n",
              "    }\n",
              "    30% {\n",
              "      border-color: transparent;\n",
              "      border-left-color: var(--fill-color);\n",
              "      border-top-color: var(--fill-color);\n",
              "      border-right-color: var(--fill-color);\n",
              "    }\n",
              "    40% {\n",
              "      border-color: transparent;\n",
              "      border-right-color: var(--fill-color);\n",
              "      border-top-color: var(--fill-color);\n",
              "    }\n",
              "    60% {\n",
              "      border-color: transparent;\n",
              "      border-right-color: var(--fill-color);\n",
              "    }\n",
              "    80% {\n",
              "      border-color: transparent;\n",
              "      border-right-color: var(--fill-color);\n",
              "      border-bottom-color: var(--fill-color);\n",
              "    }\n",
              "    90% {\n",
              "      border-color: transparent;\n",
              "      border-bottom-color: var(--fill-color);\n",
              "    }\n",
              "  }\n",
              "</style>\n",
              "\n",
              "      <script>\n",
              "        async function quickchart(key) {\n",
              "          const quickchartButtonEl =\n",
              "            document.querySelector('#' + key + ' button');\n",
              "          quickchartButtonEl.disabled = true;  // To prevent multiple clicks.\n",
              "          quickchartButtonEl.classList.add('colab-df-spinner');\n",
              "          try {\n",
              "            const charts = await google.colab.kernel.invokeFunction(\n",
              "                'suggestCharts', [key], {});\n",
              "          } catch (error) {\n",
              "            console.error('Error during call to suggestCharts:', error);\n",
              "          }\n",
              "          quickchartButtonEl.classList.remove('colab-df-spinner');\n",
              "          quickchartButtonEl.classList.add('colab-df-quickchart-complete');\n",
              "        }\n",
              "        (() => {\n",
              "          let quickchartButtonEl =\n",
              "            document.querySelector('#df-69fff1fe-2d15-4a41-a4f9-13bd106ae392 button');\n",
              "          quickchartButtonEl.style.display =\n",
              "            google.colab.kernel.accessAllowed ? 'block' : 'none';\n",
              "        })();\n",
              "      </script>\n",
              "    </div>\n",
              "\n",
              "  <div id=\"id_6bc86047-2901-41f2-9d72-50a234ecf194\">\n",
              "    <style>\n",
              "      .colab-df-generate {\n",
              "        background-color: #E8F0FE;\n",
              "        border: none;\n",
              "        border-radius: 50%;\n",
              "        cursor: pointer;\n",
              "        display: none;\n",
              "        fill: #1967D2;\n",
              "        height: 32px;\n",
              "        padding: 0 0 0 0;\n",
              "        width: 32px;\n",
              "      }\n",
              "\n",
              "      .colab-df-generate:hover {\n",
              "        background-color: #E2EBFA;\n",
              "        box-shadow: 0px 1px 2px rgba(60, 64, 67, 0.3), 0px 1px 3px 1px rgba(60, 64, 67, 0.15);\n",
              "        fill: #174EA6;\n",
              "      }\n",
              "\n",
              "      [theme=dark] .colab-df-generate {\n",
              "        background-color: #3B4455;\n",
              "        fill: #D2E3FC;\n",
              "      }\n",
              "\n",
              "      [theme=dark] .colab-df-generate:hover {\n",
              "        background-color: #434B5C;\n",
              "        box-shadow: 0px 1px 3px 1px rgba(0, 0, 0, 0.15);\n",
              "        filter: drop-shadow(0px 1px 2px rgba(0, 0, 0, 0.3));\n",
              "        fill: #FFFFFF;\n",
              "      }\n",
              "    </style>\n",
              "    <button class=\"colab-df-generate\" onclick=\"generateWithVariable('expected_df')\"\n",
              "            title=\"Generate code using this dataframe.\"\n",
              "            style=\"display:none;\">\n",
              "\n",
              "  <svg xmlns=\"http://www.w3.org/2000/svg\" height=\"24px\"viewBox=\"0 0 24 24\"\n",
              "       width=\"24px\">\n",
              "    <path d=\"M7,19H8.4L18.45,9,17,7.55,7,17.6ZM5,21V16.75L18.45,3.32a2,2,0,0,1,2.83,0l1.4,1.43a1.91,1.91,0,0,1,.58,1.4,1.91,1.91,0,0,1-.58,1.4L9.25,21ZM18.45,9,17,7.55Zm-12,3A5.31,5.31,0,0,0,4.9,8.1,5.31,5.31,0,0,0,1,6.5,5.31,5.31,0,0,0,4.9,4.9,5.31,5.31,0,0,0,6.5,1,5.31,5.31,0,0,0,8.1,4.9,5.31,5.31,0,0,0,12,6.5,5.46,5.46,0,0,0,6.5,12Z\"/>\n",
              "  </svg>\n",
              "    </button>\n",
              "    <script>\n",
              "      (() => {\n",
              "      const buttonEl =\n",
              "        document.querySelector('#id_6bc86047-2901-41f2-9d72-50a234ecf194 button.colab-df-generate');\n",
              "      buttonEl.style.display =\n",
              "        google.colab.kernel.accessAllowed ? 'block' : 'none';\n",
              "\n",
              "      buttonEl.onclick = () => {\n",
              "        google.colab.notebook.generateWithVariable('expected_df');\n",
              "      }\n",
              "      })();\n",
              "    </script>\n",
              "  </div>\n",
              "\n",
              "    </div>\n",
              "  </div>\n"
            ],
            "application/vnd.google.colaboratory.intrinsic+json": {
              "type": "dataframe",
              "variable_name": "expected_df",
              "summary": "{\n  \"name\": \"expected_df\",\n  \"rows\": 8,\n  \"fields\": [\n    {\n      \"column\": \"Region\",\n      \"properties\": {\n        \"dtype\": \"string\",\n        \"num_unique_values\": 8,\n        \"samples\": [\n          \"Rajshahi\",\n          \"Mymensingh\",\n          \"Dhaka\"\n        ],\n        \"semantic_type\": \"\",\n        \"description\": \"\"\n      }\n    },\n    {\n      \"column\": \"Phone\",\n      \"properties\": {\n        \"dtype\": \"number\",\n        \"std\": 14.619131240839737,\n        \"min\": 48.552078468005604,\n        \"max\": 92.73703876693133,\n        \"num_unique_values\": 8,\n        \"samples\": [\n          57.800093414292384,\n          86.05791686127978,\n          92.73703876693133\n        ],\n        \"semantic_type\": \"\",\n        \"description\": \"\"\n      }\n    },\n    {\n      \"column\": \"Email\",\n      \"properties\": {\n        \"dtype\": \"number\",\n        \"std\": 16.798710807655844,\n        \"min\": 55.79075198505371,\n        \"max\": 106.56328818309201,\n        \"num_unique_values\": 8,\n        \"samples\": [\n          66.41756188696871,\n          98.88836992059785,\n          106.56328818309201\n        ],\n        \"semantic_type\": \"\",\n        \"description\": \"\"\n      }\n    },\n    {\n      \"column\": \"Chat\",\n      \"properties\": {\n        \"dtype\": \"number\",\n        \"std\": 17.250574864190884,\n        \"min\": 57.291452592246614,\n        \"max\": 109.42970574497897,\n        \"num_unique_values\": 8,\n        \"samples\": [\n          68.20411022886502,\n          101.54834189631013,\n          109.42970574497897\n        ],\n        \"semantic_type\": \"\",\n        \"description\": \"\"\n      }\n    },\n    {\n      \"column\": \"FAQ\",\n      \"properties\": {\n        \"dtype\": \"number\",\n        \"std\": 8.239873972109669,\n        \"min\": 27.36571695469407,\n        \"max\": 52.269967304997664,\n        \"num_unique_values\": 8,\n        \"samples\": [\n          32.57823446987389,\n          48.505371321812234,\n          52.269967304997664\n        ],\n        \"semantic_type\": \"\",\n        \"description\": \"\"\n      }\n    }\n  ]\n}"
            }
          },
          "metadata": {},
          "execution_count": 54
        }
      ]
    },
    {
      "cell_type": "markdown",
      "source": [
        "### **6.1. Check Expected Frequencies Assumption**"
      ],
      "metadata": {
        "id": "N2ppeWpYObD-"
      }
    },
    {
      "cell_type": "code",
      "source": [
        "print(\"\\n--- Checking Expected Frequency Assumption ---\")\n",
        "min_expected_freq = expected_freq.min()\n",
        "print(f\"Minimum Expected Frequency: {min_expected_freq:.2f}\")\n",
        "\n",
        "if min_expected_freq < 5:\n",
        "    print(\"Warning: There are expected frequencies less than 5.\")\n",
        "    # Calculate percentage of cells with expected frequency < 5\n",
        "    cells_lt_5 = (expected_freq < 5).sum()\n",
        "    total_cells = expected_freq.size\n",
        "    percent_lt_5 = (cells_lt_5 / total_cells) * 100\n",
        "    print(f\"Percentage of cells with expected frequency < 5: {percent_lt_5:.2f}%\")\n",
        "    if percent_lt_5 > 20:\n",
        "        print(\"Caution: More than 20% of cells have expected frequencies < 5. The Chi-Square test results might be unreliable.\")\n",
        "        print(\"Consider combining categories or using Fisher's Exact Test if applicable (usually for 2x2 tables or small samples).\")\n",
        "    else:\n",
        "        print(\"Less than 20% of cells have expected frequencies < 5. The Chi-Square test is likely still acceptable.\")\n",
        "else:\n",
        "    print(\"Assumption met: All expected frequencies are 5 or greater.\")"
      ],
      "metadata": {
        "colab": {
          "base_uri": "https://localhost:8080/"
        },
        "id": "J7Q3H116O6It",
        "outputId": "b73fed1d-58d9-40ec-8f98-ce869f890938"
      },
      "execution_count": 55,
      "outputs": [
        {
          "output_type": "stream",
          "name": "stdout",
          "text": [
            "\n",
            "--- Checking Expected Frequency Assumption ---\n",
            "Minimum Expected Frequency: 27.37\n",
            "Assumption met: All expected frequencies are 5 or greater.\n"
          ]
        }
      ]
    },
    {
      "cell_type": "markdown",
      "source": [
        "## **7. Interpretation of Results**"
      ],
      "metadata": {
        "id": "hJ0JYyh1PD1i"
      }
    },
    {
      "cell_type": "code",
      "source": [
        "print(\"\\n--- Interpretation ---\")\n",
        "print(f\"Significance Level (α): {alpha}\")\n",
        "print(f\"P-value from the Chi-Square test: {p_value:.4f}\")"
      ],
      "metadata": {
        "colab": {
          "base_uri": "https://localhost:8080/"
        },
        "id": "ngVochtXPUeK",
        "outputId": "9ffb3b34-d57b-493c-ae9c-a9df3496b997"
      },
      "execution_count": 56,
      "outputs": [
        {
          "output_type": "stream",
          "name": "stdout",
          "text": [
            "\n",
            "--- Interpretation ---\n",
            "Significance Level (α): 0.05\n",
            "P-value from the Chi-Square test: 0.3802\n"
          ]
        }
      ]
    },
    {
      "cell_type": "code",
      "source": [
        "# Comparing p-value to alpha\n",
        "if p_value < alpha:\n",
        "    print(f\"\\nConclusion: Reject the Null Hypothesis (H₀).\")\n",
        "    print(\"There is a statistically significant association between customer region and preferred support channel at the 5% significance level.\")\n",
        "    print(\"This suggests that support channel preferences differ across regions.\")\n",
        "    # Further analysis (e.g., examining residuals) could pinpoint which specific region/channel combinations contribute most to the association.\n",
        "\n",
        "else:\n",
        "    print(f\"\\nConclusion: Fail to Reject the Null Hypothesis (H₀).\")\n",
        "    print(\"There is not enough evidence to conclude a statistically significant association between customer region and preferred support channel at the 5% significance level.\")\n",
        "    print(\"Based on this data, we cannot say that support channel preferences differ significantly across regions.\")"
      ],
      "metadata": {
        "colab": {
          "base_uri": "https://localhost:8080/"
        },
        "id": "xx4hIdHKPWqP",
        "outputId": "aee4d02a-317a-42dc-8ae0-19e8fb08668d"
      },
      "execution_count": 57,
      "outputs": [
        {
          "output_type": "stream",
          "name": "stdout",
          "text": [
            "\n",
            "Conclusion: Fail to Reject the Null Hypothesis (H₀).\n",
            "There is not enough evidence to conclude a statistically significant association between customer region and preferred support channel at the 5% significance level.\n",
            "Based on this data, we cannot say that support channel preferences differ significantly across regions.\n"
          ]
        }
      ]
    },
    {
      "cell_type": "markdown",
      "source": [
        "**The p-value (0.3802) exceeds the pre-established alpha of 0.05. This leads us not to reject the null hypothesis—suggesting no significant link between the customer region (division) and preferred support channel (Phone, Email, Chat, FAQ) at a significance level of 0.05.**\n"
      ],
      "metadata": {
        "id": "C6Sipw2gRMMG"
      }
    },
    {
      "cell_type": "markdown",
      "source": [],
      "metadata": {
        "id": "-tVwlph_RPE8"
      }
    }
  ]
}