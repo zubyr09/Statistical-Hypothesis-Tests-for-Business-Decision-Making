{
  "cells": [
    {
      "cell_type": "markdown",
      "id": "69e54b57-555e-4217-92d1-be5b94449981",
      "metadata": {
        "id": "69e54b57-555e-4217-92d1-be5b94449981"
      },
      "source": [
        "# A/B Testing Scenario: **Interactive Cares** Website Layout Engagement Time"
      ]
    },
    {
      "cell_type": "markdown",
      "id": "0a78f991-2a99-4253-9cbd-7104ccb0f084",
      "metadata": {
        "id": "0a78f991-2a99-4253-9cbd-7104ccb0f084"
      },
      "source": [
        "![image.png](attachment:20506a2c-ea6c-4f7c-b0e5-7ab7f1ecfba1.png)"
      ]
    },
    {
      "cell_type": "markdown",
      "id": "c813f900-ecff-4992-95c4-3c620421c2f7",
      "metadata": {
        "id": "c813f900-ecff-4992-95c4-3c620421c2f7"
      },
      "source": [
        "# This notebook demonstrates an A/B test comparing user engagement time on two different website layouts (Old vs New)"
      ]
    },
    {
      "cell_type": "markdown",
      "id": "c9295125-e722-4b09-b4fc-22bbbde9b991",
      "metadata": {
        "id": "c9295125-e722-4b09-b4fc-22bbbde9b991"
      },
      "source": [
        "## **1. Importing the Necessary Libraries**"
      ]
    },
    {
      "cell_type": "code",
      "execution_count": 1,
      "id": "85c6be32-ec18-4303-8c06-c51089633bdc",
      "metadata": {
        "id": "85c6be32-ec18-4303-8c06-c51089633bdc"
      },
      "outputs": [],
      "source": [
        "import pandas as pd\n",
        "import numpy as np\n",
        "import scipy.stats as stats\n",
        "import matplotlib.pyplot as plt\n",
        "import seaborn as sns\n",
        "import statsmodels.stats.power as smp"
      ]
    },
    {
      "cell_type": "code",
      "execution_count": 2,
      "id": "be0e841f-2b0e-4ba1-bd8d-08f0c530b40a",
      "metadata": {
        "id": "be0e841f-2b0e-4ba1-bd8d-08f0c530b40a"
      },
      "outputs": [],
      "source": [
        "# Set plot style\n",
        "sns.set(style=\"whitegrid\")"
      ]
    },
    {
      "cell_type": "markdown",
      "id": "26156738-3e44-4112-9650-7f787593bf95",
      "metadata": {
        "id": "26156738-3e44-4112-9650-7f787593bf95"
      },
      "source": [
        "## **2. Defining Business Scenario & Goal**\n",
        "**Scenario:** A Bangladeshi Skill Learning Platform **Interactive Cares** wants to test if a newly designed user dashboard (Version B) leads to higher average user engagement time (measured in minutes per session) compared to the current dashboard (Version A).\n",
        "\n",
        "**Goal:** Determine if the difference in average engagement time is statistically significant.\n",
        "\n",
        " **Metric:** Average Session Duration (in minutes)."
      ]
    },
    {
      "cell_type": "markdown",
      "id": "bb0771ce-28ee-4b34-a0f0-1eec5e1b2b4a",
      "metadata": {
        "id": "bb0771ce-28ee-4b34-a0f0-1eec5e1b2b4a"
      },
      "source": [
        "## **3. Defining Hypothesis**"
      ]
    },
    {
      "cell_type": "markdown",
      "id": "ee436797-6a4b-4367-9110-51ee8b696794",
      "metadata": {
        "id": "ee436797-6a4b-4367-9110-51ee8b696794"
      },
      "source": [
        "We want to see if the new version (B) *increases* engagement time compared to the old version (A).\n",
        "This suggests a one-tailed test, but it's often safer and more common to start with a two-tailed test unless there's a very strong reason otherwise (e.g., we absolutely don't care if B is worse).\n",
        "\n",
        "Let's formulate both:\n",
        "\n",
        "**Null Hypothesis (H₀):**\n",
        "There is no difference in the mean engagement time between Version A and Version B.\n",
        "Mathematically: μ_A = μ_B  (or μ_B - μ_A = 0)\n",
        "\n",
        "**Alternative Hypothesis (H₁):**\n",
        "There is a difference in the mean engagement time between Version A and Version B.\n",
        "Mathematically (Two-tailed): μ_A ≠ μ_B (or μ_B - μ_A ≠ 0)\n",
        "Mathematically (One-tailed, if we only care if B is better): μ_B > μ_A (or μ_B - μ_A > 0)\n",
        "\n",
        "**Significance Level (α):**\n",
        "We'll set the standard significance level at 0.05."
      ]
    },
    {
      "cell_type": "code",
      "execution_count": 3,
      "id": "cd6824b4-d790-41c0-ad62-162527141ba8",
      "metadata": {
        "id": "cd6824b4-d790-41c0-ad62-162527141ba8"
      },
      "outputs": [],
      "source": [
        "alpha = 0.05"
      ]
    },
    {
      "cell_type": "markdown",
      "id": "3db2ac48-80ce-4e27-86b2-2789ae4692ed",
      "metadata": {
        "id": "3db2ac48-80ce-4e27-86b2-2789ae4692ed"
      },
      "source": [
        "## **4. Data Generation (Synthetic)**"
      ]
    },
    {
      "cell_type": "markdown",
      "id": "a639ace0-dc6d-4e8a-ac81-2f06aee1a619",
      "metadata": {
        "id": "a639ace0-dc6d-4e8a-ac81-2f06aee1a619"
      },
      "source": [
        "**In a real world scenario, this data would come from tracking user sessions. Here, we'll generate synthetic data simulating the results. Let's assume we ran the test and collected data for 500 users in each group.**"
      ]
    },
    {
      "cell_type": "code",
      "execution_count": 4,
      "id": "b18a0d60-77ff-4f93-be21-51066f790833",
      "metadata": {
        "id": "b18a0d60-77ff-4f93-be21-51066f790833"
      },
      "outputs": [],
      "source": [
        "np.random.seed(42) # for reproducibility"
      ]
    },
    {
      "cell_type": "code",
      "execution_count": 5,
      "id": "a8067634-a7e2-4859-b9c2-0960eb80c80e",
      "metadata": {
        "id": "a8067634-a7e2-4859-b9c2-0960eb80c80e"
      },
      "outputs": [],
      "source": [
        "# Group A (Old Layout) - Assume mean engagement of 15 minutes, std dev of 5\n",
        "sample_size_A = 500\n",
        "mean_A = 15.0\n",
        "std_dev_A = 5.0\n",
        "engagement_A = np.random.normal(loc=mean_A, scale=std_dev_A, size=sample_size_A)\n",
        "\n",
        "# Ensure no negative times (practical consideration)\n",
        "engagement_A[engagement_A < 0] = 0"
      ]
    },
    {
      "cell_type": "code",
      "execution_count": 6,
      "id": "69b8a1c1-32c4-40b6-873d-0efd47c19623",
      "metadata": {
        "id": "69b8a1c1-32c4-40b6-873d-0efd47c19623"
      },
      "outputs": [],
      "source": [
        "# Group B (New Layout) - Assume a slightly higher mean engagement of 16.5 minutes, std dev of 5.5\n",
        "sample_size_B = 500\n",
        "mean_B = 16.5 # Let's hypothesize the new design is slightly better\n",
        "std_dev_B = 5.5\n",
        "engagement_B = np.random.normal(loc=mean_B, scale=std_dev_B, size=sample_size_B)\n",
        "\n",
        "# Ensure no negative times\n",
        "engagement_B[engagement_B < 0] = 0"
      ]
    },
    {
      "cell_type": "code",
      "execution_count": 7,
      "id": "ede839c2-322c-4026-9814-8c6a1cdd4dc7",
      "metadata": {
        "id": "ede839c2-322c-4026-9814-8c6a1cdd4dc7"
      },
      "outputs": [],
      "source": [
        "# Create a DataFrame for easier handling\n",
        "df_A = pd.DataFrame({'Group': 'A', 'EngagementTime': engagement_A})\n",
        "df_B = pd.DataFrame({'Group': 'B', 'EngagementTime': engagement_B})\n",
        "df = pd.concat([df_A, df_B], ignore_index=True)"
      ]
    },
    {
      "cell_type": "code",
      "execution_count": 8,
      "id": "6308f56f-3d27-4040-8899-5d5eedc763b2",
      "metadata": {
        "colab": {
          "base_uri": "https://localhost:8080/",
          "height": 224
        },
        "id": "6308f56f-3d27-4040-8899-5d5eedc763b2",
        "outputId": "408e45f7-0046-43eb-a38f-5fd7de1af8e1"
      },
      "outputs": [
        {
          "output_type": "stream",
          "name": "stdout",
          "text": [
            "Dataset Overview:\n"
          ]
        },
        {
          "output_type": "execute_result",
          "data": {
            "text/plain": [
              "  Group  EngagementTime\n",
              "0     A       17.483571\n",
              "1     A       14.308678\n",
              "2     A       18.238443\n",
              "3     A       22.615149\n",
              "4     A       13.829233"
            ],
            "text/html": [
              "\n",
              "  <div id=\"df-04f1e857-42e2-4c98-b6ea-7ae8e50694f1\" class=\"colab-df-container\">\n",
              "    <div>\n",
              "<style scoped>\n",
              "    .dataframe tbody tr th:only-of-type {\n",
              "        vertical-align: middle;\n",
              "    }\n",
              "\n",
              "    .dataframe tbody tr th {\n",
              "        vertical-align: top;\n",
              "    }\n",
              "\n",
              "    .dataframe thead th {\n",
              "        text-align: right;\n",
              "    }\n",
              "</style>\n",
              "<table border=\"1\" class=\"dataframe\">\n",
              "  <thead>\n",
              "    <tr style=\"text-align: right;\">\n",
              "      <th></th>\n",
              "      <th>Group</th>\n",
              "      <th>EngagementTime</th>\n",
              "    </tr>\n",
              "  </thead>\n",
              "  <tbody>\n",
              "    <tr>\n",
              "      <th>0</th>\n",
              "      <td>A</td>\n",
              "      <td>17.483571</td>\n",
              "    </tr>\n",
              "    <tr>\n",
              "      <th>1</th>\n",
              "      <td>A</td>\n",
              "      <td>14.308678</td>\n",
              "    </tr>\n",
              "    <tr>\n",
              "      <th>2</th>\n",
              "      <td>A</td>\n",
              "      <td>18.238443</td>\n",
              "    </tr>\n",
              "    <tr>\n",
              "      <th>3</th>\n",
              "      <td>A</td>\n",
              "      <td>22.615149</td>\n",
              "    </tr>\n",
              "    <tr>\n",
              "      <th>4</th>\n",
              "      <td>A</td>\n",
              "      <td>13.829233</td>\n",
              "    </tr>\n",
              "  </tbody>\n",
              "</table>\n",
              "</div>\n",
              "    <div class=\"colab-df-buttons\">\n",
              "\n",
              "  <div class=\"colab-df-container\">\n",
              "    <button class=\"colab-df-convert\" onclick=\"convertToInteractive('df-04f1e857-42e2-4c98-b6ea-7ae8e50694f1')\"\n",
              "            title=\"Convert this dataframe to an interactive table.\"\n",
              "            style=\"display:none;\">\n",
              "\n",
              "  <svg xmlns=\"http://www.w3.org/2000/svg\" height=\"24px\" viewBox=\"0 -960 960 960\">\n",
              "    <path d=\"M120-120v-720h720v720H120Zm60-500h600v-160H180v160Zm220 220h160v-160H400v160Zm0 220h160v-160H400v160ZM180-400h160v-160H180v160Zm440 0h160v-160H620v160ZM180-180h160v-160H180v160Zm440 0h160v-160H620v160Z\"/>\n",
              "  </svg>\n",
              "    </button>\n",
              "\n",
              "  <style>\n",
              "    .colab-df-container {\n",
              "      display:flex;\n",
              "      gap: 12px;\n",
              "    }\n",
              "\n",
              "    .colab-df-convert {\n",
              "      background-color: #E8F0FE;\n",
              "      border: none;\n",
              "      border-radius: 50%;\n",
              "      cursor: pointer;\n",
              "      display: none;\n",
              "      fill: #1967D2;\n",
              "      height: 32px;\n",
              "      padding: 0 0 0 0;\n",
              "      width: 32px;\n",
              "    }\n",
              "\n",
              "    .colab-df-convert:hover {\n",
              "      background-color: #E2EBFA;\n",
              "      box-shadow: 0px 1px 2px rgba(60, 64, 67, 0.3), 0px 1px 3px 1px rgba(60, 64, 67, 0.15);\n",
              "      fill: #174EA6;\n",
              "    }\n",
              "\n",
              "    .colab-df-buttons div {\n",
              "      margin-bottom: 4px;\n",
              "    }\n",
              "\n",
              "    [theme=dark] .colab-df-convert {\n",
              "      background-color: #3B4455;\n",
              "      fill: #D2E3FC;\n",
              "    }\n",
              "\n",
              "    [theme=dark] .colab-df-convert:hover {\n",
              "      background-color: #434B5C;\n",
              "      box-shadow: 0px 1px 3px 1px rgba(0, 0, 0, 0.15);\n",
              "      filter: drop-shadow(0px 1px 2px rgba(0, 0, 0, 0.3));\n",
              "      fill: #FFFFFF;\n",
              "    }\n",
              "  </style>\n",
              "\n",
              "    <script>\n",
              "      const buttonEl =\n",
              "        document.querySelector('#df-04f1e857-42e2-4c98-b6ea-7ae8e50694f1 button.colab-df-convert');\n",
              "      buttonEl.style.display =\n",
              "        google.colab.kernel.accessAllowed ? 'block' : 'none';\n",
              "\n",
              "      async function convertToInteractive(key) {\n",
              "        const element = document.querySelector('#df-04f1e857-42e2-4c98-b6ea-7ae8e50694f1');\n",
              "        const dataTable =\n",
              "          await google.colab.kernel.invokeFunction('convertToInteractive',\n",
              "                                                    [key], {});\n",
              "        if (!dataTable) return;\n",
              "\n",
              "        const docLinkHtml = 'Like what you see? Visit the ' +\n",
              "          '<a target=\"_blank\" href=https://colab.research.google.com/notebooks/data_table.ipynb>data table notebook</a>'\n",
              "          + ' to learn more about interactive tables.';\n",
              "        element.innerHTML = '';\n",
              "        dataTable['output_type'] = 'display_data';\n",
              "        await google.colab.output.renderOutput(dataTable, element);\n",
              "        const docLink = document.createElement('div');\n",
              "        docLink.innerHTML = docLinkHtml;\n",
              "        element.appendChild(docLink);\n",
              "      }\n",
              "    </script>\n",
              "  </div>\n",
              "\n",
              "\n",
              "    <div id=\"df-bf79a15d-1fa5-45d4-8d5b-4cc7750661b3\">\n",
              "      <button class=\"colab-df-quickchart\" onclick=\"quickchart('df-bf79a15d-1fa5-45d4-8d5b-4cc7750661b3')\"\n",
              "                title=\"Suggest charts\"\n",
              "                style=\"display:none;\">\n",
              "\n",
              "<svg xmlns=\"http://www.w3.org/2000/svg\" height=\"24px\"viewBox=\"0 0 24 24\"\n",
              "     width=\"24px\">\n",
              "    <g>\n",
              "        <path d=\"M19 3H5c-1.1 0-2 .9-2 2v14c0 1.1.9 2 2 2h14c1.1 0 2-.9 2-2V5c0-1.1-.9-2-2-2zM9 17H7v-7h2v7zm4 0h-2V7h2v10zm4 0h-2v-4h2v4z\"/>\n",
              "    </g>\n",
              "</svg>\n",
              "      </button>\n",
              "\n",
              "<style>\n",
              "  .colab-df-quickchart {\n",
              "      --bg-color: #E8F0FE;\n",
              "      --fill-color: #1967D2;\n",
              "      --hover-bg-color: #E2EBFA;\n",
              "      --hover-fill-color: #174EA6;\n",
              "      --disabled-fill-color: #AAA;\n",
              "      --disabled-bg-color: #DDD;\n",
              "  }\n",
              "\n",
              "  [theme=dark] .colab-df-quickchart {\n",
              "      --bg-color: #3B4455;\n",
              "      --fill-color: #D2E3FC;\n",
              "      --hover-bg-color: #434B5C;\n",
              "      --hover-fill-color: #FFFFFF;\n",
              "      --disabled-bg-color: #3B4455;\n",
              "      --disabled-fill-color: #666;\n",
              "  }\n",
              "\n",
              "  .colab-df-quickchart {\n",
              "    background-color: var(--bg-color);\n",
              "    border: none;\n",
              "    border-radius: 50%;\n",
              "    cursor: pointer;\n",
              "    display: none;\n",
              "    fill: var(--fill-color);\n",
              "    height: 32px;\n",
              "    padding: 0;\n",
              "    width: 32px;\n",
              "  }\n",
              "\n",
              "  .colab-df-quickchart:hover {\n",
              "    background-color: var(--hover-bg-color);\n",
              "    box-shadow: 0 1px 2px rgba(60, 64, 67, 0.3), 0 1px 3px 1px rgba(60, 64, 67, 0.15);\n",
              "    fill: var(--button-hover-fill-color);\n",
              "  }\n",
              "\n",
              "  .colab-df-quickchart-complete:disabled,\n",
              "  .colab-df-quickchart-complete:disabled:hover {\n",
              "    background-color: var(--disabled-bg-color);\n",
              "    fill: var(--disabled-fill-color);\n",
              "    box-shadow: none;\n",
              "  }\n",
              "\n",
              "  .colab-df-spinner {\n",
              "    border: 2px solid var(--fill-color);\n",
              "    border-color: transparent;\n",
              "    border-bottom-color: var(--fill-color);\n",
              "    animation:\n",
              "      spin 1s steps(1) infinite;\n",
              "  }\n",
              "\n",
              "  @keyframes spin {\n",
              "    0% {\n",
              "      border-color: transparent;\n",
              "      border-bottom-color: var(--fill-color);\n",
              "      border-left-color: var(--fill-color);\n",
              "    }\n",
              "    20% {\n",
              "      border-color: transparent;\n",
              "      border-left-color: var(--fill-color);\n",
              "      border-top-color: var(--fill-color);\n",
              "    }\n",
              "    30% {\n",
              "      border-color: transparent;\n",
              "      border-left-color: var(--fill-color);\n",
              "      border-top-color: var(--fill-color);\n",
              "      border-right-color: var(--fill-color);\n",
              "    }\n",
              "    40% {\n",
              "      border-color: transparent;\n",
              "      border-right-color: var(--fill-color);\n",
              "      border-top-color: var(--fill-color);\n",
              "    }\n",
              "    60% {\n",
              "      border-color: transparent;\n",
              "      border-right-color: var(--fill-color);\n",
              "    }\n",
              "    80% {\n",
              "      border-color: transparent;\n",
              "      border-right-color: var(--fill-color);\n",
              "      border-bottom-color: var(--fill-color);\n",
              "    }\n",
              "    90% {\n",
              "      border-color: transparent;\n",
              "      border-bottom-color: var(--fill-color);\n",
              "    }\n",
              "  }\n",
              "</style>\n",
              "\n",
              "      <script>\n",
              "        async function quickchart(key) {\n",
              "          const quickchartButtonEl =\n",
              "            document.querySelector('#' + key + ' button');\n",
              "          quickchartButtonEl.disabled = true;  // To prevent multiple clicks.\n",
              "          quickchartButtonEl.classList.add('colab-df-spinner');\n",
              "          try {\n",
              "            const charts = await google.colab.kernel.invokeFunction(\n",
              "                'suggestCharts', [key], {});\n",
              "          } catch (error) {\n",
              "            console.error('Error during call to suggestCharts:', error);\n",
              "          }\n",
              "          quickchartButtonEl.classList.remove('colab-df-spinner');\n",
              "          quickchartButtonEl.classList.add('colab-df-quickchart-complete');\n",
              "        }\n",
              "        (() => {\n",
              "          let quickchartButtonEl =\n",
              "            document.querySelector('#df-bf79a15d-1fa5-45d4-8d5b-4cc7750661b3 button');\n",
              "          quickchartButtonEl.style.display =\n",
              "            google.colab.kernel.accessAllowed ? 'block' : 'none';\n",
              "        })();\n",
              "      </script>\n",
              "    </div>\n",
              "\n",
              "    </div>\n",
              "  </div>\n"
            ],
            "application/vnd.google.colaboratory.intrinsic+json": {
              "type": "dataframe",
              "variable_name": "df",
              "summary": "{\n  \"name\": \"df\",\n  \"rows\": 1000,\n  \"fields\": [\n    {\n      \"column\": \"Group\",\n      \"properties\": {\n        \"dtype\": \"category\",\n        \"num_unique_values\": 2,\n        \"samples\": [\n          \"B\",\n          \"A\"\n        ],\n        \"semantic_type\": \"\",\n        \"description\": \"\"\n      }\n    },\n    {\n      \"column\": \"EngagementTime\",\n      \"properties\": {\n        \"dtype\": \"number\",\n        \"std\": 5.20672240717473,\n        \"min\": 0.0,\n        \"max\": 34.26365745327361,\n        \"num_unique_values\": 1000,\n        \"samples\": [\n          19.488481058089643,\n          21.904800411700325\n        ],\n        \"semantic_type\": \"\",\n        \"description\": \"\"\n      }\n    }\n  ]\n}"
            }
          },
          "metadata": {},
          "execution_count": 8
        }
      ],
      "source": [
        "print(\"Dataset Overview:\")\n",
        "df.head()"
      ]
    },
    {
      "cell_type": "code",
      "execution_count": 9,
      "id": "671e488b-b8e5-495d-8c95-ab0e6775ef3d",
      "metadata": {
        "colab": {
          "base_uri": "https://localhost:8080/",
          "height": 224
        },
        "id": "671e488b-b8e5-495d-8c95-ab0e6775ef3d",
        "outputId": "43cbc9df-ae7d-485b-c5fa-b717ad782d48"
      },
      "outputs": [
        {
          "output_type": "stream",
          "name": "stdout",
          "text": [
            "Dataset Overview:\n"
          ]
        },
        {
          "output_type": "execute_result",
          "data": {
            "text/plain": [
              "    Group  EngagementTime\n",
              "995     B       14.953948\n",
              "996     B       26.387276\n",
              "997     B       20.024636\n",
              "998     B       13.358516\n",
              "999     B       19.649205"
            ],
            "text/html": [
              "\n",
              "  <div id=\"df-15cec911-441a-48f3-b2be-f2e9341ae077\" class=\"colab-df-container\">\n",
              "    <div>\n",
              "<style scoped>\n",
              "    .dataframe tbody tr th:only-of-type {\n",
              "        vertical-align: middle;\n",
              "    }\n",
              "\n",
              "    .dataframe tbody tr th {\n",
              "        vertical-align: top;\n",
              "    }\n",
              "\n",
              "    .dataframe thead th {\n",
              "        text-align: right;\n",
              "    }\n",
              "</style>\n",
              "<table border=\"1\" class=\"dataframe\">\n",
              "  <thead>\n",
              "    <tr style=\"text-align: right;\">\n",
              "      <th></th>\n",
              "      <th>Group</th>\n",
              "      <th>EngagementTime</th>\n",
              "    </tr>\n",
              "  </thead>\n",
              "  <tbody>\n",
              "    <tr>\n",
              "      <th>995</th>\n",
              "      <td>B</td>\n",
              "      <td>14.953948</td>\n",
              "    </tr>\n",
              "    <tr>\n",
              "      <th>996</th>\n",
              "      <td>B</td>\n",
              "      <td>26.387276</td>\n",
              "    </tr>\n",
              "    <tr>\n",
              "      <th>997</th>\n",
              "      <td>B</td>\n",
              "      <td>20.024636</td>\n",
              "    </tr>\n",
              "    <tr>\n",
              "      <th>998</th>\n",
              "      <td>B</td>\n",
              "      <td>13.358516</td>\n",
              "    </tr>\n",
              "    <tr>\n",
              "      <th>999</th>\n",
              "      <td>B</td>\n",
              "      <td>19.649205</td>\n",
              "    </tr>\n",
              "  </tbody>\n",
              "</table>\n",
              "</div>\n",
              "    <div class=\"colab-df-buttons\">\n",
              "\n",
              "  <div class=\"colab-df-container\">\n",
              "    <button class=\"colab-df-convert\" onclick=\"convertToInteractive('df-15cec911-441a-48f3-b2be-f2e9341ae077')\"\n",
              "            title=\"Convert this dataframe to an interactive table.\"\n",
              "            style=\"display:none;\">\n",
              "\n",
              "  <svg xmlns=\"http://www.w3.org/2000/svg\" height=\"24px\" viewBox=\"0 -960 960 960\">\n",
              "    <path d=\"M120-120v-720h720v720H120Zm60-500h600v-160H180v160Zm220 220h160v-160H400v160Zm0 220h160v-160H400v160ZM180-400h160v-160H180v160Zm440 0h160v-160H620v160ZM180-180h160v-160H180v160Zm440 0h160v-160H620v160Z\"/>\n",
              "  </svg>\n",
              "    </button>\n",
              "\n",
              "  <style>\n",
              "    .colab-df-container {\n",
              "      display:flex;\n",
              "      gap: 12px;\n",
              "    }\n",
              "\n",
              "    .colab-df-convert {\n",
              "      background-color: #E8F0FE;\n",
              "      border: none;\n",
              "      border-radius: 50%;\n",
              "      cursor: pointer;\n",
              "      display: none;\n",
              "      fill: #1967D2;\n",
              "      height: 32px;\n",
              "      padding: 0 0 0 0;\n",
              "      width: 32px;\n",
              "    }\n",
              "\n",
              "    .colab-df-convert:hover {\n",
              "      background-color: #E2EBFA;\n",
              "      box-shadow: 0px 1px 2px rgba(60, 64, 67, 0.3), 0px 1px 3px 1px rgba(60, 64, 67, 0.15);\n",
              "      fill: #174EA6;\n",
              "    }\n",
              "\n",
              "    .colab-df-buttons div {\n",
              "      margin-bottom: 4px;\n",
              "    }\n",
              "\n",
              "    [theme=dark] .colab-df-convert {\n",
              "      background-color: #3B4455;\n",
              "      fill: #D2E3FC;\n",
              "    }\n",
              "\n",
              "    [theme=dark] .colab-df-convert:hover {\n",
              "      background-color: #434B5C;\n",
              "      box-shadow: 0px 1px 3px 1px rgba(0, 0, 0, 0.15);\n",
              "      filter: drop-shadow(0px 1px 2px rgba(0, 0, 0, 0.3));\n",
              "      fill: #FFFFFF;\n",
              "    }\n",
              "  </style>\n",
              "\n",
              "    <script>\n",
              "      const buttonEl =\n",
              "        document.querySelector('#df-15cec911-441a-48f3-b2be-f2e9341ae077 button.colab-df-convert');\n",
              "      buttonEl.style.display =\n",
              "        google.colab.kernel.accessAllowed ? 'block' : 'none';\n",
              "\n",
              "      async function convertToInteractive(key) {\n",
              "        const element = document.querySelector('#df-15cec911-441a-48f3-b2be-f2e9341ae077');\n",
              "        const dataTable =\n",
              "          await google.colab.kernel.invokeFunction('convertToInteractive',\n",
              "                                                    [key], {});\n",
              "        if (!dataTable) return;\n",
              "\n",
              "        const docLinkHtml = 'Like what you see? Visit the ' +\n",
              "          '<a target=\"_blank\" href=https://colab.research.google.com/notebooks/data_table.ipynb>data table notebook</a>'\n",
              "          + ' to learn more about interactive tables.';\n",
              "        element.innerHTML = '';\n",
              "        dataTable['output_type'] = 'display_data';\n",
              "        await google.colab.output.renderOutput(dataTable, element);\n",
              "        const docLink = document.createElement('div');\n",
              "        docLink.innerHTML = docLinkHtml;\n",
              "        element.appendChild(docLink);\n",
              "      }\n",
              "    </script>\n",
              "  </div>\n",
              "\n",
              "\n",
              "    <div id=\"df-56539641-9045-4d0a-9071-dc87ba661498\">\n",
              "      <button class=\"colab-df-quickchart\" onclick=\"quickchart('df-56539641-9045-4d0a-9071-dc87ba661498')\"\n",
              "                title=\"Suggest charts\"\n",
              "                style=\"display:none;\">\n",
              "\n",
              "<svg xmlns=\"http://www.w3.org/2000/svg\" height=\"24px\"viewBox=\"0 0 24 24\"\n",
              "     width=\"24px\">\n",
              "    <g>\n",
              "        <path d=\"M19 3H5c-1.1 0-2 .9-2 2v14c0 1.1.9 2 2 2h14c1.1 0 2-.9 2-2V5c0-1.1-.9-2-2-2zM9 17H7v-7h2v7zm4 0h-2V7h2v10zm4 0h-2v-4h2v4z\"/>\n",
              "    </g>\n",
              "</svg>\n",
              "      </button>\n",
              "\n",
              "<style>\n",
              "  .colab-df-quickchart {\n",
              "      --bg-color: #E8F0FE;\n",
              "      --fill-color: #1967D2;\n",
              "      --hover-bg-color: #E2EBFA;\n",
              "      --hover-fill-color: #174EA6;\n",
              "      --disabled-fill-color: #AAA;\n",
              "      --disabled-bg-color: #DDD;\n",
              "  }\n",
              "\n",
              "  [theme=dark] .colab-df-quickchart {\n",
              "      --bg-color: #3B4455;\n",
              "      --fill-color: #D2E3FC;\n",
              "      --hover-bg-color: #434B5C;\n",
              "      --hover-fill-color: #FFFFFF;\n",
              "      --disabled-bg-color: #3B4455;\n",
              "      --disabled-fill-color: #666;\n",
              "  }\n",
              "\n",
              "  .colab-df-quickchart {\n",
              "    background-color: var(--bg-color);\n",
              "    border: none;\n",
              "    border-radius: 50%;\n",
              "    cursor: pointer;\n",
              "    display: none;\n",
              "    fill: var(--fill-color);\n",
              "    height: 32px;\n",
              "    padding: 0;\n",
              "    width: 32px;\n",
              "  }\n",
              "\n",
              "  .colab-df-quickchart:hover {\n",
              "    background-color: var(--hover-bg-color);\n",
              "    box-shadow: 0 1px 2px rgba(60, 64, 67, 0.3), 0 1px 3px 1px rgba(60, 64, 67, 0.15);\n",
              "    fill: var(--button-hover-fill-color);\n",
              "  }\n",
              "\n",
              "  .colab-df-quickchart-complete:disabled,\n",
              "  .colab-df-quickchart-complete:disabled:hover {\n",
              "    background-color: var(--disabled-bg-color);\n",
              "    fill: var(--disabled-fill-color);\n",
              "    box-shadow: none;\n",
              "  }\n",
              "\n",
              "  .colab-df-spinner {\n",
              "    border: 2px solid var(--fill-color);\n",
              "    border-color: transparent;\n",
              "    border-bottom-color: var(--fill-color);\n",
              "    animation:\n",
              "      spin 1s steps(1) infinite;\n",
              "  }\n",
              "\n",
              "  @keyframes spin {\n",
              "    0% {\n",
              "      border-color: transparent;\n",
              "      border-bottom-color: var(--fill-color);\n",
              "      border-left-color: var(--fill-color);\n",
              "    }\n",
              "    20% {\n",
              "      border-color: transparent;\n",
              "      border-left-color: var(--fill-color);\n",
              "      border-top-color: var(--fill-color);\n",
              "    }\n",
              "    30% {\n",
              "      border-color: transparent;\n",
              "      border-left-color: var(--fill-color);\n",
              "      border-top-color: var(--fill-color);\n",
              "      border-right-color: var(--fill-color);\n",
              "    }\n",
              "    40% {\n",
              "      border-color: transparent;\n",
              "      border-right-color: var(--fill-color);\n",
              "      border-top-color: var(--fill-color);\n",
              "    }\n",
              "    60% {\n",
              "      border-color: transparent;\n",
              "      border-right-color: var(--fill-color);\n",
              "    }\n",
              "    80% {\n",
              "      border-color: transparent;\n",
              "      border-right-color: var(--fill-color);\n",
              "      border-bottom-color: var(--fill-color);\n",
              "    }\n",
              "    90% {\n",
              "      border-color: transparent;\n",
              "      border-bottom-color: var(--fill-color);\n",
              "    }\n",
              "  }\n",
              "</style>\n",
              "\n",
              "      <script>\n",
              "        async function quickchart(key) {\n",
              "          const quickchartButtonEl =\n",
              "            document.querySelector('#' + key + ' button');\n",
              "          quickchartButtonEl.disabled = true;  // To prevent multiple clicks.\n",
              "          quickchartButtonEl.classList.add('colab-df-spinner');\n",
              "          try {\n",
              "            const charts = await google.colab.kernel.invokeFunction(\n",
              "                'suggestCharts', [key], {});\n",
              "          } catch (error) {\n",
              "            console.error('Error during call to suggestCharts:', error);\n",
              "          }\n",
              "          quickchartButtonEl.classList.remove('colab-df-spinner');\n",
              "          quickchartButtonEl.classList.add('colab-df-quickchart-complete');\n",
              "        }\n",
              "        (() => {\n",
              "          let quickchartButtonEl =\n",
              "            document.querySelector('#df-56539641-9045-4d0a-9071-dc87ba661498 button');\n",
              "          quickchartButtonEl.style.display =\n",
              "            google.colab.kernel.accessAllowed ? 'block' : 'none';\n",
              "        })();\n",
              "      </script>\n",
              "    </div>\n",
              "\n",
              "    </div>\n",
              "  </div>\n"
            ],
            "application/vnd.google.colaboratory.intrinsic+json": {
              "type": "dataframe",
              "summary": "{\n  \"name\": \"df\",\n  \"rows\": 5,\n  \"fields\": [\n    {\n      \"column\": \"Group\",\n      \"properties\": {\n        \"dtype\": \"category\",\n        \"num_unique_values\": 1,\n        \"samples\": [\n          \"B\"\n        ],\n        \"semantic_type\": \"\",\n        \"description\": \"\"\n      }\n    },\n    {\n      \"column\": \"EngagementTime\",\n      \"properties\": {\n        \"dtype\": \"number\",\n        \"std\": 5.102979308310261,\n        \"min\": 13.358515556194618,\n        \"max\": 26.387275897672374,\n        \"num_unique_values\": 5,\n        \"samples\": [\n          26.387275897672374\n        ],\n        \"semantic_type\": \"\",\n        \"description\": \"\"\n      }\n    }\n  ]\n}"
            }
          },
          "metadata": {},
          "execution_count": 9
        }
      ],
      "source": [
        "print(\"Dataset Overview:\")\n",
        "df.tail()"
      ]
    },
    {
      "cell_type": "code",
      "execution_count": 10,
      "id": "3ce6eb52-8ffc-4fbb-ab27-c7f27f5c33d5",
      "metadata": {
        "colab": {
          "base_uri": "https://localhost:8080/",
          "height": 178
        },
        "id": "3ce6eb52-8ffc-4fbb-ab27-c7f27f5c33d5",
        "outputId": "ab0feb87-e295-4e99-9e1e-42f075bcba64"
      },
      "outputs": [
        {
          "output_type": "stream",
          "name": "stdout",
          "text": [
            "\n",
            "Summary Statistics per Group:\n"
          ]
        },
        {
          "output_type": "execute_result",
          "data": {
            "text/plain": [
              "       count       mean       std       min        25%        50%        75%  \\\n",
              "Group                                                                          \n",
              "A      500.0  15.036603  4.898554  0.000000  11.498463  15.063986  18.183916   \n",
              "B      500.0  16.675044  5.378985  1.667123  13.225895  16.656924  20.081833   \n",
              "\n",
              "             max  \n",
              "Group             \n",
              "A      34.263657  \n",
              "B      30.978101  "
            ],
            "text/html": [
              "\n",
              "  <div id=\"df-57a70647-0eac-47b0-9772-e47c665e4b32\" class=\"colab-df-container\">\n",
              "    <div>\n",
              "<style scoped>\n",
              "    .dataframe tbody tr th:only-of-type {\n",
              "        vertical-align: middle;\n",
              "    }\n",
              "\n",
              "    .dataframe tbody tr th {\n",
              "        vertical-align: top;\n",
              "    }\n",
              "\n",
              "    .dataframe thead th {\n",
              "        text-align: right;\n",
              "    }\n",
              "</style>\n",
              "<table border=\"1\" class=\"dataframe\">\n",
              "  <thead>\n",
              "    <tr style=\"text-align: right;\">\n",
              "      <th></th>\n",
              "      <th>count</th>\n",
              "      <th>mean</th>\n",
              "      <th>std</th>\n",
              "      <th>min</th>\n",
              "      <th>25%</th>\n",
              "      <th>50%</th>\n",
              "      <th>75%</th>\n",
              "      <th>max</th>\n",
              "    </tr>\n",
              "    <tr>\n",
              "      <th>Group</th>\n",
              "      <th></th>\n",
              "      <th></th>\n",
              "      <th></th>\n",
              "      <th></th>\n",
              "      <th></th>\n",
              "      <th></th>\n",
              "      <th></th>\n",
              "      <th></th>\n",
              "    </tr>\n",
              "  </thead>\n",
              "  <tbody>\n",
              "    <tr>\n",
              "      <th>A</th>\n",
              "      <td>500.0</td>\n",
              "      <td>15.036603</td>\n",
              "      <td>4.898554</td>\n",
              "      <td>0.000000</td>\n",
              "      <td>11.498463</td>\n",
              "      <td>15.063986</td>\n",
              "      <td>18.183916</td>\n",
              "      <td>34.263657</td>\n",
              "    </tr>\n",
              "    <tr>\n",
              "      <th>B</th>\n",
              "      <td>500.0</td>\n",
              "      <td>16.675044</td>\n",
              "      <td>5.378985</td>\n",
              "      <td>1.667123</td>\n",
              "      <td>13.225895</td>\n",
              "      <td>16.656924</td>\n",
              "      <td>20.081833</td>\n",
              "      <td>30.978101</td>\n",
              "    </tr>\n",
              "  </tbody>\n",
              "</table>\n",
              "</div>\n",
              "    <div class=\"colab-df-buttons\">\n",
              "\n",
              "  <div class=\"colab-df-container\">\n",
              "    <button class=\"colab-df-convert\" onclick=\"convertToInteractive('df-57a70647-0eac-47b0-9772-e47c665e4b32')\"\n",
              "            title=\"Convert this dataframe to an interactive table.\"\n",
              "            style=\"display:none;\">\n",
              "\n",
              "  <svg xmlns=\"http://www.w3.org/2000/svg\" height=\"24px\" viewBox=\"0 -960 960 960\">\n",
              "    <path d=\"M120-120v-720h720v720H120Zm60-500h600v-160H180v160Zm220 220h160v-160H400v160Zm0 220h160v-160H400v160ZM180-400h160v-160H180v160Zm440 0h160v-160H620v160ZM180-180h160v-160H180v160Zm440 0h160v-160H620v160Z\"/>\n",
              "  </svg>\n",
              "    </button>\n",
              "\n",
              "  <style>\n",
              "    .colab-df-container {\n",
              "      display:flex;\n",
              "      gap: 12px;\n",
              "    }\n",
              "\n",
              "    .colab-df-convert {\n",
              "      background-color: #E8F0FE;\n",
              "      border: none;\n",
              "      border-radius: 50%;\n",
              "      cursor: pointer;\n",
              "      display: none;\n",
              "      fill: #1967D2;\n",
              "      height: 32px;\n",
              "      padding: 0 0 0 0;\n",
              "      width: 32px;\n",
              "    }\n",
              "\n",
              "    .colab-df-convert:hover {\n",
              "      background-color: #E2EBFA;\n",
              "      box-shadow: 0px 1px 2px rgba(60, 64, 67, 0.3), 0px 1px 3px 1px rgba(60, 64, 67, 0.15);\n",
              "      fill: #174EA6;\n",
              "    }\n",
              "\n",
              "    .colab-df-buttons div {\n",
              "      margin-bottom: 4px;\n",
              "    }\n",
              "\n",
              "    [theme=dark] .colab-df-convert {\n",
              "      background-color: #3B4455;\n",
              "      fill: #D2E3FC;\n",
              "    }\n",
              "\n",
              "    [theme=dark] .colab-df-convert:hover {\n",
              "      background-color: #434B5C;\n",
              "      box-shadow: 0px 1px 3px 1px rgba(0, 0, 0, 0.15);\n",
              "      filter: drop-shadow(0px 1px 2px rgba(0, 0, 0, 0.3));\n",
              "      fill: #FFFFFF;\n",
              "    }\n",
              "  </style>\n",
              "\n",
              "    <script>\n",
              "      const buttonEl =\n",
              "        document.querySelector('#df-57a70647-0eac-47b0-9772-e47c665e4b32 button.colab-df-convert');\n",
              "      buttonEl.style.display =\n",
              "        google.colab.kernel.accessAllowed ? 'block' : 'none';\n",
              "\n",
              "      async function convertToInteractive(key) {\n",
              "        const element = document.querySelector('#df-57a70647-0eac-47b0-9772-e47c665e4b32');\n",
              "        const dataTable =\n",
              "          await google.colab.kernel.invokeFunction('convertToInteractive',\n",
              "                                                    [key], {});\n",
              "        if (!dataTable) return;\n",
              "\n",
              "        const docLinkHtml = 'Like what you see? Visit the ' +\n",
              "          '<a target=\"_blank\" href=https://colab.research.google.com/notebooks/data_table.ipynb>data table notebook</a>'\n",
              "          + ' to learn more about interactive tables.';\n",
              "        element.innerHTML = '';\n",
              "        dataTable['output_type'] = 'display_data';\n",
              "        await google.colab.output.renderOutput(dataTable, element);\n",
              "        const docLink = document.createElement('div');\n",
              "        docLink.innerHTML = docLinkHtml;\n",
              "        element.appendChild(docLink);\n",
              "      }\n",
              "    </script>\n",
              "  </div>\n",
              "\n",
              "\n",
              "    <div id=\"df-32bdb302-d000-42df-80bf-342739d5bb76\">\n",
              "      <button class=\"colab-df-quickchart\" onclick=\"quickchart('df-32bdb302-d000-42df-80bf-342739d5bb76')\"\n",
              "                title=\"Suggest charts\"\n",
              "                style=\"display:none;\">\n",
              "\n",
              "<svg xmlns=\"http://www.w3.org/2000/svg\" height=\"24px\"viewBox=\"0 0 24 24\"\n",
              "     width=\"24px\">\n",
              "    <g>\n",
              "        <path d=\"M19 3H5c-1.1 0-2 .9-2 2v14c0 1.1.9 2 2 2h14c1.1 0 2-.9 2-2V5c0-1.1-.9-2-2-2zM9 17H7v-7h2v7zm4 0h-2V7h2v10zm4 0h-2v-4h2v4z\"/>\n",
              "    </g>\n",
              "</svg>\n",
              "      </button>\n",
              "\n",
              "<style>\n",
              "  .colab-df-quickchart {\n",
              "      --bg-color: #E8F0FE;\n",
              "      --fill-color: #1967D2;\n",
              "      --hover-bg-color: #E2EBFA;\n",
              "      --hover-fill-color: #174EA6;\n",
              "      --disabled-fill-color: #AAA;\n",
              "      --disabled-bg-color: #DDD;\n",
              "  }\n",
              "\n",
              "  [theme=dark] .colab-df-quickchart {\n",
              "      --bg-color: #3B4455;\n",
              "      --fill-color: #D2E3FC;\n",
              "      --hover-bg-color: #434B5C;\n",
              "      --hover-fill-color: #FFFFFF;\n",
              "      --disabled-bg-color: #3B4455;\n",
              "      --disabled-fill-color: #666;\n",
              "  }\n",
              "\n",
              "  .colab-df-quickchart {\n",
              "    background-color: var(--bg-color);\n",
              "    border: none;\n",
              "    border-radius: 50%;\n",
              "    cursor: pointer;\n",
              "    display: none;\n",
              "    fill: var(--fill-color);\n",
              "    height: 32px;\n",
              "    padding: 0;\n",
              "    width: 32px;\n",
              "  }\n",
              "\n",
              "  .colab-df-quickchart:hover {\n",
              "    background-color: var(--hover-bg-color);\n",
              "    box-shadow: 0 1px 2px rgba(60, 64, 67, 0.3), 0 1px 3px 1px rgba(60, 64, 67, 0.15);\n",
              "    fill: var(--button-hover-fill-color);\n",
              "  }\n",
              "\n",
              "  .colab-df-quickchart-complete:disabled,\n",
              "  .colab-df-quickchart-complete:disabled:hover {\n",
              "    background-color: var(--disabled-bg-color);\n",
              "    fill: var(--disabled-fill-color);\n",
              "    box-shadow: none;\n",
              "  }\n",
              "\n",
              "  .colab-df-spinner {\n",
              "    border: 2px solid var(--fill-color);\n",
              "    border-color: transparent;\n",
              "    border-bottom-color: var(--fill-color);\n",
              "    animation:\n",
              "      spin 1s steps(1) infinite;\n",
              "  }\n",
              "\n",
              "  @keyframes spin {\n",
              "    0% {\n",
              "      border-color: transparent;\n",
              "      border-bottom-color: var(--fill-color);\n",
              "      border-left-color: var(--fill-color);\n",
              "    }\n",
              "    20% {\n",
              "      border-color: transparent;\n",
              "      border-left-color: var(--fill-color);\n",
              "      border-top-color: var(--fill-color);\n",
              "    }\n",
              "    30% {\n",
              "      border-color: transparent;\n",
              "      border-left-color: var(--fill-color);\n",
              "      border-top-color: var(--fill-color);\n",
              "      border-right-color: var(--fill-color);\n",
              "    }\n",
              "    40% {\n",
              "      border-color: transparent;\n",
              "      border-right-color: var(--fill-color);\n",
              "      border-top-color: var(--fill-color);\n",
              "    }\n",
              "    60% {\n",
              "      border-color: transparent;\n",
              "      border-right-color: var(--fill-color);\n",
              "    }\n",
              "    80% {\n",
              "      border-color: transparent;\n",
              "      border-right-color: var(--fill-color);\n",
              "      border-bottom-color: var(--fill-color);\n",
              "    }\n",
              "    90% {\n",
              "      border-color: transparent;\n",
              "      border-bottom-color: var(--fill-color);\n",
              "    }\n",
              "  }\n",
              "</style>\n",
              "\n",
              "      <script>\n",
              "        async function quickchart(key) {\n",
              "          const quickchartButtonEl =\n",
              "            document.querySelector('#' + key + ' button');\n",
              "          quickchartButtonEl.disabled = true;  // To prevent multiple clicks.\n",
              "          quickchartButtonEl.classList.add('colab-df-spinner');\n",
              "          try {\n",
              "            const charts = await google.colab.kernel.invokeFunction(\n",
              "                'suggestCharts', [key], {});\n",
              "          } catch (error) {\n",
              "            console.error('Error during call to suggestCharts:', error);\n",
              "          }\n",
              "          quickchartButtonEl.classList.remove('colab-df-spinner');\n",
              "          quickchartButtonEl.classList.add('colab-df-quickchart-complete');\n",
              "        }\n",
              "        (() => {\n",
              "          let quickchartButtonEl =\n",
              "            document.querySelector('#df-32bdb302-d000-42df-80bf-342739d5bb76 button');\n",
              "          quickchartButtonEl.style.display =\n",
              "            google.colab.kernel.accessAllowed ? 'block' : 'none';\n",
              "        })();\n",
              "      </script>\n",
              "    </div>\n",
              "\n",
              "    </div>\n",
              "  </div>\n"
            ],
            "application/vnd.google.colaboratory.intrinsic+json": {
              "type": "dataframe",
              "summary": "{\n  \"name\": \"df\",\n  \"rows\": 2,\n  \"fields\": [\n    {\n      \"column\": \"Group\",\n      \"properties\": {\n        \"dtype\": \"string\",\n        \"num_unique_values\": 2,\n        \"samples\": [\n          \"B\",\n          \"A\"\n        ],\n        \"semantic_type\": \"\",\n        \"description\": \"\"\n      }\n    },\n    {\n      \"column\": \"count\",\n      \"properties\": {\n        \"dtype\": \"number\",\n        \"std\": 0.0,\n        \"min\": 500.0,\n        \"max\": 500.0,\n        \"num_unique_values\": 1,\n        \"samples\": [\n          500.0\n        ],\n        \"semantic_type\": \"\",\n        \"description\": \"\"\n      }\n    },\n    {\n      \"column\": \"mean\",\n      \"properties\": {\n        \"dtype\": \"number\",\n        \"std\": 1.1585527398809083,\n        \"min\": 15.036602646343928,\n        \"max\": 16.675043643808017,\n        \"num_unique_values\": 2,\n        \"samples\": [\n          16.675043643808017\n        ],\n        \"semantic_type\": \"\",\n        \"description\": \"\"\n      }\n    },\n    {\n      \"column\": \"std\",\n      \"properties\": {\n        \"dtype\": \"number\",\n        \"std\": 0.33971540082764695,\n        \"min\": 4.898554446267624,\n        \"max\": 5.378984573465094,\n        \"num_unique_values\": 2,\n        \"samples\": [\n          5.378984573465094\n        ],\n        \"semantic_type\": \"\",\n        \"description\": \"\"\n      }\n    },\n    {\n      \"column\": \"min\",\n      \"properties\": {\n        \"dtype\": \"number\",\n        \"std\": 1.1788343063432871,\n        \"min\": 0.0,\n        \"max\": 1.6671234638213566,\n        \"num_unique_values\": 2,\n        \"samples\": [\n          1.6671234638213566\n        ],\n        \"semantic_type\": \"\",\n        \"description\": \"\"\n      }\n    },\n    {\n      \"column\": \"25%\",\n      \"properties\": {\n        \"dtype\": \"number\",\n        \"std\": 1.221479201628227,\n        \"min\": 11.498462977681113,\n        \"max\": 13.225895430780412,\n        \"num_unique_values\": 2,\n        \"samples\": [\n          13.225895430780412\n        ],\n        \"semantic_type\": \"\",\n        \"description\": \"\"\n      }\n    },\n    {\n      \"column\": \"50%\",\n      \"properties\": {\n        \"dtype\": \"number\",\n        \"std\": 1.1263773083234043,\n        \"min\": 15.063985731649254,\n        \"max\": 16.656923797429513,\n        \"num_unique_values\": 2,\n        \"samples\": [\n          16.656923797429513\n        ],\n        \"semantic_type\": \"\",\n        \"description\": \"\"\n      }\n    },\n    {\n      \"column\": \"75%\",\n      \"properties\": {\n        \"dtype\": \"number\",\n        \"std\": 1.3420295324473968,\n        \"min\": 18.183916270673976,\n        \"max\": 20.081832636566308,\n        \"num_unique_values\": 2,\n        \"samples\": [\n          20.081832636566308\n        ],\n        \"semantic_type\": \"\",\n        \"description\": \"\"\n      }\n    },\n    {\n      \"column\": \"max\",\n      \"properties\": {\n        \"dtype\": \"number\",\n        \"std\": 2.323238995922719,\n        \"min\": 30.97810135660565,\n        \"max\": 34.26365745327361,\n        \"num_unique_values\": 2,\n        \"samples\": [\n          30.97810135660565\n        ],\n        \"semantic_type\": \"\",\n        \"description\": \"\"\n      }\n    }\n  ]\n}"
            }
          },
          "metadata": {},
          "execution_count": 10
        }
      ],
      "source": [
        "print(\"\\nSummary Statistics per Group:\")\n",
        "df.groupby('Group')['EngagementTime'].describe()"
      ]
    },
    {
      "cell_type": "markdown",
      "id": "f9c83f56-6c73-4be3-93e5-893f28d876a3",
      "metadata": {
        "id": "f9c83f56-6c73-4be3-93e5-893f28d876a3"
      },
      "source": [
        "## **5. Assumption Checks for Independent Samples t-test**\n",
        "\n",
        "The Independent Samples t-test has two main assumptions:\n",
        "Independence of Observations (assumed by design in A/B testing - users are randomly assigned).\n",
        "1. Normality of Data: The data in each group should be approximately normally distributed.\n",
        "2. Homogeneity of Variances (Homoscedasticity): The variances of the two groups should be equal."
      ]
    },
    {
      "cell_type": "markdown",
      "id": "b820cccb-e9b4-4241-bf95-d9c38ee8465b",
      "metadata": {
        "id": "b820cccb-e9b4-4241-bf95-d9c38ee8465b"
      },
      "source": [
        "### **5.1. Normality Check (Shapiro-Wilk Test)**"
      ]
    },
    {
      "cell_type": "code",
      "execution_count": 11,
      "id": "568660fc-b716-41cd-bf25-c28c3d2a0756",
      "metadata": {
        "colab": {
          "base_uri": "https://localhost:8080/"
        },
        "id": "568660fc-b716-41cd-bf25-c28c3d2a0756",
        "outputId": "09706886-bb1a-4dc1-d72a-f125fbf86a4a"
      },
      "outputs": [
        {
          "output_type": "stream",
          "name": "stdout",
          "text": [
            "\n",
            "--- Normality Check (Shapiro-Wilk Test) ---\n",
            "Group A: Statistics=0.9966, p-value=0.3853\n",
            "Group B: Statistics=0.9975, p-value=0.6757\n"
          ]
        }
      ],
      "source": [
        "# H₀: The data is normally distributed.\n",
        "# H₁: The data is not normally distributed.\n",
        "\n",
        "print(\"\\n--- Normality Check (Shapiro-Wilk Test) ---\")\n",
        "shapiro_A = stats.shapiro(df[df['Group'] == 'A']['EngagementTime'])\n",
        "shapiro_B = stats.shapiro(df[df['Group'] == 'B']['EngagementTime'])\n",
        "\n",
        "print(f\"Group A: Statistics={shapiro_A.statistic:.4f}, p-value={shapiro_A.pvalue:.4f}\")\n",
        "print(f\"Group B: Statistics={shapiro_B.statistic:.4f}, p-value={shapiro_B.pvalue:.4f}\")"
      ]
    },
    {
      "cell_type": "code",
      "execution_count": 12,
      "id": "c2b7ff04-f1e1-458b-92d5-8f3f1d4eb969",
      "metadata": {
        "colab": {
          "base_uri": "https://localhost:8080/"
        },
        "id": "c2b7ff04-f1e1-458b-92d5-8f3f1d4eb969",
        "outputId": "76ec1f9a-63b5-467c-bc6f-21ac58bbcfa1"
      },
      "outputs": [
        {
          "output_type": "stream",
          "name": "stdout",
          "text": [
            "Interpretation: Both groups appear normally distributed (fail to reject H₀).\n"
          ]
        }
      ],
      "source": [
        "# Interpretation of Normality Test\n",
        "if shapiro_A.pvalue > alpha and shapiro_B.pvalue > alpha:\n",
        "    print(\"Interpretation: Both groups appear normally distributed (fail to reject H₀).\")\n",
        "    normality_assumed = True\n",
        "else:\n",
        "    print(\"Interpretation: At least one group does not appear normally distributed (reject H₀).\")\n",
        "    normality_assumed = False"
      ]
    },
    {
      "cell_type": "code",
      "source": [
        "import seaborn as sns\n",
        "\n",
        "# Set dark theme\n",
        "sns.set_style(\"darkgrid\")\n",
        "plt.style.use('dark_background')\n",
        "sns.set_palette(\"flare\")\n",
        "\n",
        "# Visualizing Distributions\n",
        "print(\"\\nVisualizing Distributions:\")\n",
        "plt.figure(figsize=(12, 5))\n",
        "\n",
        "plt.subplot(1, 2, 1)\n",
        "sns.histplot(df[df['Group'] == 'A']['EngagementTime'], kde=True, bins=30, color='skyblue')\n",
        "plt.title('Group A Engagement Time Distribution', fontsize=12, color='white')\n",
        "plt.xlabel('Engagement Time', color='white')\n",
        "plt.ylabel('Frequency', color='white')\n",
        "\n",
        "plt.subplot(1, 2, 2)\n",
        "sns.histplot(df[df['Group'] == 'B']['EngagementTime'], kde=True, bins=30, color='lightgreen')\n",
        "plt.title('Group B Engagement Time Distribution', fontsize=12, color='white')\n",
        "plt.xlabel('Engagement Time', color='white')\n",
        "plt.ylabel('Frequency', color='white')\n",
        "\n",
        "plt.tight_layout()\n",
        "plt.show()\n",
        "\n",
        "# Q-Q Plots\n",
        "plt.figure(figsize=(12, 5))\n",
        "\n",
        "plt.subplot(1, 2, 1)\n",
        "stats.probplot(df[df['Group'] == 'A']['EngagementTime'], dist=\"norm\", plot=plt)\n",
        "plt.title('Q-Q Plot for Group A', fontsize=12, color='white')\n",
        "plt.xlabel('Theoretical Quantiles', color='white')\n",
        "plt.ylabel('Sample Quantiles', color='white')\n",
        "\n",
        "plt.subplot(1, 2, 2)\n",
        "stats.probplot(df[df['Group'] == 'B']['EngagementTime'], dist=\"norm\", plot=plt)\n",
        "plt.title('Q-Q Plot for Group B', fontsize=12, color='white')\n",
        "plt.xlabel('Theoretical Quantiles', color='white')\n",
        "plt.ylabel('Sample Quantiles', color='white')\n",
        "\n",
        "plt.tight_layout()\n",
        "plt.show()"
      ],
      "metadata": {
        "colab": {
          "base_uri": "https://localhost:8080/",
          "height": 1000
        },
        "id": "c8H2DKrTEkVo",
        "outputId": "5ddc7853-cfc3-42f7-c5fe-6a647eddaea6"
      },
      "id": "c8H2DKrTEkVo",
      "execution_count": 14,
      "outputs": [
        {
          "output_type": "stream",
          "name": "stdout",
          "text": [
            "\n",
            "Visualizing Distributions:\n"
          ]
        },
        {
          "output_type": "display_data",
          "data": {
            "text/plain": [
              "<Figure size 1200x500 with 2 Axes>"
            ],
            "image/png": "[encoded data removed]"
          },
          "metadata": {}
        },
        {
          "output_type": "display_data",
          "data": {
            "text/plain": [
              "<Figure size 1200x500 with 2 Axes>"
            ],
            "image/png": "[encoded data removed]"
          },
          "metadata": {}
        }
      ]
    },
    {
      "cell_type": "markdown",
      "id": "87c828e8-25ad-4c6b-bb6e-ec19b5f668ad",
      "metadata": {
        "id": "87c828e8-25ad-4c6b-bb6e-ec19b5f668ad"
      },
      "source": [
        "### **5.2. Homogeneity of Variances Check (Levene's Test)**"
      ]
    },
    {
      "cell_type": "code",
      "execution_count": null,
      "id": "4eb26ddc-e800-424c-a935-1a23d233c8a4",
      "metadata": {
        "id": "4eb26ddc-e800-424c-a935-1a23d233c8a4",
        "outputId": "cfbcf600-2613-4d2a-8bcc-5cc0b474ac49"
      },
      "outputs": [
        {
          "name": "stdout",
          "output_type": "stream",
          "text": [
            "\n",
            "--- Homogeneity of Variances Check (Levene's Test) ---\n",
            "Levene's Test: Statistics=6.9536, p-value=0.0085\n"
          ]
        }
      ],
      "source": [
        "# H₀: The variances of the two groups are equal.\n",
        "# H₁: The variances of the two groups are not equal.\n",
        "\n",
        "\n",
        "print(\"\\n--- Homogeneity of Variances Check (Levene's Test) ---\")\n",
        "levene_test = stats.levene(df[df['Group'] == 'A']['EngagementTime'],\n",
        "                           df[df['Group'] == 'B']['EngagementTime'])\n",
        "\n",
        "print(f\"Levene's Test: Statistics={levene_test.statistic:.4f}, p-value={levene_test.pvalue:.4f}\")"
      ]
    },
    {
      "cell_type": "code",
      "execution_count": null,
      "id": "ca808b1c-6fb8-4838-acdf-e54f3fbb99e2",
      "metadata": {
        "id": "ca808b1c-6fb8-4838-acdf-e54f3fbb99e2",
        "outputId": "0fa1cc75-c008-4071-dd28-2ccd5072ac57"
      },
      "outputs": [
        {
          "name": "stdout",
          "output_type": "stream",
          "text": [
            "Interpretation: Variances are not equal (reject H₀).\n"
          ]
        }
      ],
      "source": [
        "# Interpretation of Levene's Test\n",
        "if levene_test.pvalue > alpha:\n",
        "    print(\"Interpretation: Variances are assumed equal (fail to reject H₀).\")\n",
        "    equal_variance_assumed = True\n",
        "else:\n",
        "    print(\"Interpretation: Variances are not equal (reject H₀).\")\n",
        "    equal_variance_assumed = False"
      ]
    },
    {
      "cell_type": "markdown",
      "id": "961a0907-45de-4c6a-bc57-0150cb85b94b",
      "metadata": {
        "id": "961a0907-45de-4c6a-bc57-0150cb85b94b"
      },
      "source": [
        "## **6. Performing Statistical Test**\n",
        "\n",
        "Based on the assumption checks:\n",
        "- If Normality and Homogeneity of Variances hold: Use standard Independent Samples t-test.\n",
        "- If Normality holds but Homogeneity of Variances does not: Use Welch's t-test (Independent Samples t-test with `equal_var=False`).\n",
        "- If Normality does not hold: Use a non-parametric test like the Mann-Whitney U test."
      ]
    },
    {
      "cell_type": "code",
      "execution_count": null,
      "id": "a810131f-c33d-4bc4-984c-9b92fe95df22",
      "metadata": {
        "id": "a810131f-c33d-4bc4-984c-9b92fe95df22",
        "outputId": "a0a3669f-d48e-4a94-b3d9-8e196504d47a"
      },
      "outputs": [
        {
          "name": "stdout",
          "output_type": "stream",
          "text": [
            "\n",
            "--- Performing Statistical Test ---\n",
            "Proceeding with t-test (checking equal variance assumption).\n",
            "Test Used: Welch's t-test\n",
            "T-statistic: -6.2187\n",
            "P-value (two-tailed): 0.0000\n"
          ]
        }
      ],
      "source": [
        "print(\"\\n--- Performing Statistical Test ---\")\n",
        "\n",
        "if normality_assumed:\n",
        "    print(\"Proceeding with t-test (checking equal variance assumption).\")\n",
        "    # Perform Independent Samples t-test\n",
        "    # `equal_var` is set based on Levene's test result\n",
        "    t_stat, p_value_ttest = stats.ttest_ind(\n",
        "        df[df['Group'] == 'A']['EngagementTime'],\n",
        "        df[df['Group'] == 'B']['EngagementTime'],\n",
        "        equal_var=equal_variance_assumed,\n",
        "        alternative='two-sided' # Standard two-sided test\n",
        "    )\n",
        "    print(f\"Test Used: {'Standard t-test' if equal_variance_assumed else \"Welch's t-test\"}\")\n",
        "    print(f\"T-statistic: {t_stat:.4f}\")\n",
        "    print(f\"P-value (two-tailed): {p_value_ttest:.4f}\")\n",
        "    test_used = \"t-test\"\n",
        "    p_value = p_value_ttest\n",
        "\n",
        "else:\n",
        "    print(\"Normality assumption failed. Proceeding with Mann-Whitney U test.\")\n",
        "    # Perform Mann-Whitney U test (non-parametric alternative)\n",
        "    u_stat, p_value_mannwhitney = stats.mannwhitneyu(\n",
        "        df[df['Group'] == 'A']['EngagementTime'],\n",
        "        df[df['Group'] == 'B']['EngagementTime'],\n",
        "        alternative='two-sided' # Use two-sided to match t-test approach initially\n",
        "    )\n",
        "    print(f\"Test Used: Mann-Whitney U test\")\n",
        "    print(f\"U-statistic: {u_stat:.4f}\")\n",
        "    print(f\"P-value (two-tailed): {p_value_mannwhitney:.4f}\")\n",
        "    test_used = \"Mann-Whitney U\"\n",
        "    p_value = p_value_mannwhitney"
      ]
    },
    {
      "cell_type": "markdown",
      "id": "f0d4bfac-0c87-43fa-863e-f431583bfb50",
      "metadata": {
        "id": "f0d4bfac-0c87-43fa-863e-f431583bfb50"
      },
      "source": [
        "## **7. Interpretation of Results**"
      ]
    },
    {
      "cell_type": "code",
      "execution_count": null,
      "id": "05c42343-6a07-4acc-8103-1a3ffd15bf14",
      "metadata": {
        "id": "05c42343-6a07-4acc-8103-1a3ffd15bf14",
        "outputId": "36f2f50f-181d-4a42-8a8e-a7cb610d211d"
      },
      "outputs": [
        {
          "name": "stdout",
          "output_type": "stream",
          "text": [
            "\n",
            "--- Interpretation ---\n",
            "Significance Level (α): 0.05\n",
            "P-value from the test (t-test): 0.0000\n"
          ]
        }
      ],
      "source": [
        "print(\"\\n--- Interpretation ---\")\n",
        "print(f\"Significance Level (α): {alpha}\")\n",
        "print(f\"P-value from the test ({test_used}): {p_value:.4f}\")"
      ]
    },
    {
      "cell_type": "code",
      "execution_count": null,
      "id": "3c247641-2c00-4283-8a62-e631fc192beb",
      "metadata": {
        "id": "3c247641-2c00-4283-8a62-e631fc192beb",
        "outputId": "7160dd7c-0193-4e84-e5df-80c8e1a68584"
      },
      "outputs": [
        {
          "name": "stdout",
          "output_type": "stream",
          "text": [
            "\n",
            "Conclusion: Reject the Null Hypothesis (H₀) as p-value is smaller than alpha = 0.05.\n",
            "\n",
            "So, there is a statistically significant difference in the mean engagement time between the old layout (Group A) and the new layout (Group B).\n",
            "\n",
            "Mean Engagement Time (Group A): 15.04 minutes\n",
            "Mean Engagement Time (Group B): 17.10 minutes\n",
            "\n",
            "Specifically, the new layout (Group B) shows a significantly higher average engagement time.\n"
          ]
        }
      ],
      "source": [
        "# Compare p-value to alpha\n",
        "if p_value < alpha:\n",
        "    print(f\"\\nConclusion: Reject the Null Hypothesis (H₀) as p-value is smaller than alpha = 0.05.\")\n",
        "    print(\"\\nSo, there is a statistically significant difference in the mean engagement time between the old layout (Group A) and the new layout (Group B).\")\n",
        "\n",
        "    # Check the direction of the difference\n",
        "    mean_val_A = df[df['Group'] == 'A']['EngagementTime'].mean()\n",
        "    mean_val_B = df[df['Group'] == 'B']['EngagementTime'].mean()\n",
        "    print(f\"\\nMean Engagement Time (Group A): {mean_val_A:.2f} minutes\")\n",
        "    print(f\"Mean Engagement Time (Group B): {mean_val_B:.2f} minutes\")\n",
        "    if mean_val_B > mean_val_A:\n",
        "        print(\"\\nSpecifically, the new layout (Group B) shows a significantly higher average engagement time.\")\n",
        "    else:\n",
        "        print(\"\\nSpecifically, the old layout (Group A) shows a significantly higher average engagement time.\") # Less likely given our generated data, but good to check\n",
        "\n",
        "else:\n",
        "    print(f\"\\nConclusion: Fail to Reject the Null Hypothesis (H₀).\")\n",
        "    print(\"So, there is not enough evidence to conclude a statistically significant difference in the mean engagement time between the old layout (Group A) and the new layout (Group B) at the {alpha*100}% significance level.\")"
      ]
    },
    {
      "cell_type": "markdown",
      "id": "f6b82d9e-5bdb-4fc5-a332-62c3afa65dec",
      "metadata": {
        "id": "f6b82d9e-5bdb-4fc5-a332-62c3afa65dec"
      },
      "source": [
        "## **8. Effect Size and Power Analysis**"
      ]
    },
    {
      "cell_type": "code",
      "execution_count": null,
      "id": "43375f32-67fd-45a1-aba6-6d7fc20b7271",
      "metadata": {
        "id": "43375f32-67fd-45a1-aba6-6d7fc20b7271",
        "outputId": "c69960cc-64a5-49c9-c7ff-1d4f6cc8efd5"
      },
      "outputs": [
        {
          "name": "stdout",
          "output_type": "stream",
          "text": [
            "\n",
            "Cohen's d (not assuming equal variance): 0.3933\n",
            "Achieved Power: 1.0000\n",
            "Note: The achieved power is adequate (>= 0.8).\n"
          ]
        }
      ],
      "source": [
        "# Effect size gives magnitude of the difference, power tells probability of detecting an effect if it exists.\n",
        "\n",
        "if test_used == \"t-test\":\n",
        "    # Calculate Cohen's d for effect size\n",
        "    n1, n2 = sample_size_A, sample_size_B\n",
        "    s1, s2 = np.std(engagement_A, ddof=1), np.std(engagement_B, ddof=1) # Sample std dev\n",
        "    mean1, mean2 = np.mean(engagement_A), np.mean(engagement_B)\n",
        "\n",
        "    # Pooled standard deviation (use if equal variances assumed)\n",
        "    if equal_variance_assumed:\n",
        "      s_pooled = np.sqrt(((n1 - 1) * s1**2 + (n2 - 1) * s2**2) / (n1 + n2 - 2))\n",
        "      cohen_d = (mean2 - mean1) / s_pooled\n",
        "      print(f\"\\nCohen's d (assuming equal variance): {cohen_d:.4f}\")\n",
        "    else:\n",
        "      # Use average std dev if variances unequal (approximation)\n",
        "      s_avg = np.sqrt((s1**2 + s2**2) / 2)\n",
        "      cohen_d = (mean2 - mean1) / s_avg\n",
        "      print(f\"\\nCohen's d (not assuming equal variance): {cohen_d:.4f}\")\n",
        "\n",
        "\n",
        "    # Post-hoc Power Analysis\n",
        "    # Calculate power given the observed effect size, sample size, and alpha\n",
        "    power = smp.TTestIndPower().power(effect_size=cohen_d, nobs1=n1, alpha=alpha, ratio=n2/n1, alternative='two-sided')\n",
        "    print(f\"Achieved Power: {power:.4f}\")\n",
        "    if power < 0.8:\n",
        "        print(\"Note: The achieved power is less than the common target of 0.8, suggesting a higher risk of Type II error (failing to detect a true difference). Consider increasing sample size in future tests.\")\n",
        "    else:\n",
        "        print(\"Note: The achieved power is adequate (>= 0.8).\")"
      ]
    }
  ],
  "metadata": {
    "kernelspec": {
      "display_name": "Python 3 (ipykernel)",
      "language": "python",
      "name": "python3"
    },
    "language_info": {
      "codemirror_mode": {
        "name": "ipython",
        "version": 3
      },
      "file_extension": ".py",
      "mimetype": "text/x-python",
      "name": "python",
      "nbconvert_exporter": "python",
      "pygments_lexer": "ipython3",
      "version": "3.12.3"
    },
    "colab": {
      "provenance": []
    }
  },
  "nbformat": 4,
  "nbformat_minor": 5
}